{
 "cells": [
  {
   "cell_type": "code",
   "execution_count": 246,
   "id": "7f39586e",
   "metadata": {},
   "outputs": [],
   "source": [
    "import pandas as pd\n",
    "import numpy as np"
   ]
  },
  {
   "cell_type": "markdown",
   "id": "05c2b4e1",
   "metadata": {},
   "source": [
    "## Reading some buckets of sales data "
   ]
  },
  {
   "cell_type": "code",
   "execution_count": 247,
   "id": "e082fe94",
   "metadata": {},
   "outputs": [],
   "source": [
    "train_data1 = pd.read_csv('../data/interim/train_2013-11_to_2014-12.csv', parse_dates=['date'])\n",
    "val_data1 = pd.read_csv('../data/interim/val_2015-1.csv', parse_dates=['date'])\n",
    "\n",
    "train_data2 = pd.read_csv('../data/interim/train_2013-1_to_2015-4.csv', parse_dates=['date'])\n",
    "val_data2 = pd.read_csv('../data/interim/val_2015-5.csv', parse_dates=['date'])\n",
    "\n",
    "train_data3 = pd.read_csv('../data/interim/train_2013-6_to_2015-6.csv', parse_dates=['date'])\n",
    "val_data3 = pd.read_csv('../data/interim/val_2015-7.csv', parse_dates=['date'])\n",
    "\n",
    "train_data4 = pd.read_csv('../data/interim/train_2013-3_to_2015-7.csv', parse_dates=['date'])\n",
    "val_data4 = pd.read_csv('../data/interim/val_2015-8.csv', parse_dates=['date'])"
   ]
  },
  {
   "cell_type": "markdown",
   "id": "b6035044",
   "metadata": {},
   "source": [
    "### And additional tables"
   ]
  },
  {
   "cell_type": "code",
   "execution_count": 248,
   "id": "fc3e5473",
   "metadata": {},
   "outputs": [],
   "source": [
    "shops = pd.read_csv('../data/interim/shops_appearence.csv', parse_dates=['shop_appearence'])\n",
    "items = pd.read_csv('../data/interim/items_appearence.csv', parse_dates=['item_appearence'])\n",
    "item_cat = pd.read_csv('../data/interim/item_categories_global.csv')\n",
    "sales_pivot = pd.read_csv('../data/interim/sales_pivot.csv')\n",
    "datasets = {'shops': shops, 'items': items, 'item_categories': item_cat, 'sales_lags': sales_pivot}"
   ]
  },
  {
   "cell_type": "markdown",
   "id": "57bedbf2",
   "metadata": {},
   "source": [
    "## Feature extraction\n",
    "\n",
    "I decided to define feature extraction layer as a pipeline that modifies initial data step by step. Here ate the steps:\n",
    "\n",
    "1) getting `month` from `date` and encoding it\n",
    "\n",
    "2) merging with `items`, `shops` and `item_categories` tables to add information (such as `city`, `item_category` and `global_category` features)\n",
    "\n",
    "3) calculating how long both item and shop are present in dataset\n",
    "\n",
    "4) grouping by month and calculating montly sales feature, our target\n",
    "\n",
    "5) adding previous month sales (1, 3, 6 and 12 month ago)\n"
   ]
  },
  {
   "cell_type": "code",
   "execution_count": 249,
   "id": "f3789139",
   "metadata": {},
   "outputs": [],
   "source": [
    "from sklearn.base import BaseEstimator, TransformerMixin\n",
    "from sklearn.pipeline import Pipeline"
   ]
  },
  {
   "cell_type": "code",
   "execution_count": 284,
   "id": "d0b1fc5f",
   "metadata": {},
   "outputs": [],
   "source": [
    "class MonthFromDate(BaseEstimator, TransformerMixin):\n",
    "    def __init__(self):\n",
    "        pass\n",
    "    def fit(self, X, y=None ):\n",
    "        return self\n",
    "    def transform(self, X, y=None):\n",
    "        X['month'] = X['date_block_num'] % 12 + 1\n",
    "        X['month_sin'] = np.sin(2 * np.pi * X['month']/12.0)\n",
    "        X['month_cos'] = np.cos(2 * np.pi * X['month']/12.0)\n",
    "        X.drop(['month'], axis=1, inplace=True) \n",
    "#        print('Month encoding stage complete')\n",
    "\n",
    "        return X\n",
    "    \n",
    "class ShopItemAge(BaseEstimator, TransformerMixin):\n",
    "    def __init__(self):\n",
    "        pass\n",
    "    def fit(self, X, y=None ):\n",
    "        return self\n",
    "    def transform(self, X, y=None):\n",
    "        X['shop_age_month'] = (X['date'] - X['shop_appearence']).dt.days / 30\n",
    "        X['item_age_month'] = (X['date'] - X['item_appearence']).dt.days / 30\n",
    "        X.drop(['shop_appearence','item_appearence','date'], axis=1, inplace=True) \n",
    "\n",
    "#        print('Item and shop ages calculation complete')\n",
    "        return X\n",
    "    \n",
    "class MonthlySales(BaseEstimator, TransformerMixin):\n",
    "    def __init__(self):\n",
    "        pass\n",
    "    def fit(self, X, y=None ):\n",
    "        return self\n",
    "    def transform(self, X, y=None):\n",
    "        X = X.groupby(['date_block_num','item_id', 'shop_id']).agg({'item_cnt_day':'sum',\n",
    "                                                                    'date':'max',\n",
    "                                                                   }).reset_index().rename({'item_cnt_day':'item_cnt_month'}, axis=1)\n",
    "#        print('Monthly sales calculated')\n",
    "        \n",
    "        return X\n",
    "\n",
    "class MergeTables(BaseEstimator, TransformerMixin):\n",
    "    def __init__(self, lookup_tables):\n",
    "        self.items = lookup_tables['items']\n",
    "        self.shops = lookup_tables['shops']\n",
    "        self.item_cat = lookup_tables['item_categories']\n",
    "        self.sales_lags = lookup_tables['sales_lags']\n",
    "    def fit(self, X, y=None ):\n",
    "        return self\n",
    "    def transform(self, X, y=None):\n",
    "        X = X.merge(self.items, on='item_id', how='left')\n",
    "        X = X.merge(self.shops, on='shop_id', how='left')\n",
    "        X = X.merge(self.item_cat, on='item_category_id', how='left')\n",
    "        X = X.merge(self.sales_lags, on=['item_id', 'shop_id'], how='left')\n",
    "        X['item_appearence'] = X['item_appearence'].fillna(X['date'])\n",
    "        X['shop_appearence'] = X['shop_appearence'].fillna(X['date'])\n",
    "        X = X.fillna(0)\n",
    "        X.drop(['item_name', 'shop_name', 'item_category_name', 'city', 'global_cat'], axis=1, inplace=True)\n",
    "#        print('Merging stage complete')\n",
    "        return X\n",
    "\n",
    "class GetLagFeatures(BaseEstimator, TransformerMixin):\n",
    "    def __init__(self, lags, df):\n",
    "        self.lags = lags\n",
    "        self.sales_lags = df\n",
    "    def fit(self, X, y=None ):\n",
    "        return self\n",
    "    def transform(self, X, y=None):\n",
    "        X = X.merge(self.sales_lags, on=['item_id', 'shop_id'], how='left')\n",
    "        X = X.fillna(0)\n",
    "        for lag in self.lags:\n",
    "            X[f'month_lag_{lag}'] = 0\n",
    "            \n",
    "        for i,lag in enumerate(self.lags):\n",
    "            for date_block in X['date_block_num'].unique():\n",
    "                if date_block - lag >= 0:\n",
    "                    X.loc[X['date_block_num'] == date_block, f'month_lag_{lag}'] = X.loc[X['date_block_num'] == date_block][f'{date_block-lag}']\n",
    "#            print(f'Lag features calculated {i+1}/{len(self.lags)}')\n",
    "        X.drop([str(i) for i in range(0, 34)], axis=1, inplace=True) \n",
    "        X.drop(['date_block_num'], axis=1, inplace=True) \n",
    "\n",
    "        return X\n",
    "\n",
    "extraction_steps = [(\"montly_sales\", MonthlySales()),\n",
    "                (\"month_feat\", MonthFromDate()),\n",
    "                (\"merge\", MergeTables(datasets)),\n",
    "                (\"ages\", ShopItemAge())\n",
    "            ]\n",
    "        \n",
    "feature_extraction_pipeline = Pipeline(steps=extraction_steps)"
   ]
  },
  {
   "cell_type": "code",
   "execution_count": 370,
   "id": "e4c51995",
   "metadata": {},
   "outputs": [],
   "source": [
    "class GetLagSales(BaseEstimator, TransformerMixin):\n",
    "    def __init__(self, lags):\n",
    "        self.lags = lags\n",
    "    def fit(self, X, y=None ):\n",
    "        return self\n",
    "    def transform(self, X, y=None):\n",
    "        date_block = X['date_block_num'].iloc[0]\n",
    "        for lag in self.lags:\n",
    "            if date_block - lag >= 0:\n",
    "                X[f'month_lag_{lag}'] = X.loc[:, str(int(date_block-lag))]\n",
    "            else:\n",
    "                X[f'month_lag_{lag}'] = 0\n",
    "        return X\n",
    "    \n",
    "class GetSumOfSales(BaseEstimator, TransformerMixin):\n",
    "    def __init__(self, lags):\n",
    "        self.lags = lags\n",
    "    def fit(self, X, y=None ):\n",
    "        return self\n",
    "    def transform(self, X, y=None):\n",
    "        date_block = X['date_block_num'].iloc[0]\n",
    "        for lag in self.lags:\n",
    "            cols_to_sum = [str(int(date_block-i)) for i in range(1, lag + 1) if date_block-i >= 0]\n",
    "            X[f'sum_sales_lag_{lag}'] = X.loc[:,cols_to_sum].sum(axis=1)\n",
    "        return X.drop([str(i) for i in range(34)], axis=1)\n",
    "    \n",
    "    \n",
    "lag_steps = [(\"past_month_sales\", GetLagSales([1,2,3,6,12])),\n",
    "                (\"summed_sales\", GetSumOfSales([6,12]))\n",
    "            ]\n",
    "        \n",
    "lag_pipeline = Pipeline(steps=lag_steps)"
   ]
  },
  {
   "cell_type": "markdown",
   "id": "d7e22ef9",
   "metadata": {},
   "source": [
    "### Choosing best training data subset"
   ]
  },
  {
   "cell_type": "code",
   "execution_count": 251,
   "id": "a2986018",
   "metadata": {},
   "outputs": [],
   "source": [
    "from sklearn.ensemble import RandomForestRegressor\n",
    "from sklearn.svm import SVR\n",
    "from sklearn.linear_model import LinearRegression\n",
    "from sklearn.neighbors import KNeighborsRegressor\n",
    "from xgboost import XGBRegressor\n",
    "from sklearn.metrics import mean_squared_error\n",
    "\n",
    "from tqdm.notebook import tqdm\n",
    "from datetime import datetime"
   ]
  },
  {
   "cell_type": "code",
   "execution_count": 256,
   "id": "dc43102a",
   "metadata": {},
   "outputs": [],
   "source": [
    "def x_y_split(df, target):\n",
    "    return df.drop(target, axis=1), df[target]"
   ]
  },
  {
   "cell_type": "code",
   "execution_count": 373,
   "id": "5df72d53",
   "metadata": {},
   "outputs": [],
   "source": [
    "def compare_models(models):\n",
    "    result = []\n",
    "    fold = 1\n",
    "\n",
    "    with tqdm(total=(len(models) + 1) * 4) as pbar:\n",
    "        for val, train in zip([val_data1, val_data2, val_data3, val_data4], [train_data1, train_data2, train_data3, train_data4]):\n",
    "\n",
    "            train = feature_extraction_pipeline.fit_transform(train)\n",
    "            train_per_month = [lag_pipeline.fit_transform(train.loc[train['date_block_num'] == block].copy()) for block in train['date_block_num'].unique()]\n",
    "            train = pd.concat(train_per_month, axis=0)\n",
    "            \n",
    "            val = feature_extraction_pipeline.transform(val)\n",
    "            val = lag_pipeline.transform(val)\n",
    "            \n",
    "            pbar.update(1)\n",
    "\n",
    "            val_x, val_y = x_y_split(val, 'item_cnt_month')\n",
    "            train_x, train_y = x_y_split(train, 'item_cnt_month')\n",
    "\n",
    "            for model_name, model in models.items():\n",
    "                fit_time_start = datetime.now()\n",
    "                model.fit(train_x, train_y)\n",
    "                fit_time_end = datetime.now()\n",
    "                result.append({'model' : model_name,\n",
    "                               'fold' : fold,\n",
    "                               'data_size' : train_x.shape[0],\n",
    "                               'fit_time' : (fit_time_end - fit_time_start).seconds,\n",
    "                               'val_mse' : mean_squared_error(val_y, model.predict(val_x)),\n",
    "                               'train_mse' : mean_squared_error(train_y, model.predict(train_x))})\n",
    "                pbar.update(1)\n",
    "            fold += 1\n",
    "            \n",
    "    return result"
   ]
  },
  {
   "cell_type": "code",
   "execution_count": 375,
   "id": "9e52b80c",
   "metadata": {},
   "outputs": [
    {
     "data": {
      "application/vnd.jupyter.widget-view+json": {
       "model_id": "32d1494b791f46b6bb38c26d9fd2db31",
       "version_major": 2,
       "version_minor": 0
      },
      "text/plain": [
       "  0%|          | 0/20 [00:00<?, ?it/s]"
      ]
     },
     "metadata": {},
     "output_type": "display_data"
    },
    {
     "ename": "KeyboardInterrupt",
     "evalue": "",
     "output_type": "error",
     "traceback": [
      "\u001b[1;31m---------------------------------------------------------------------------\u001b[0m",
      "\u001b[1;31mKeyboardInterrupt\u001b[0m                         Traceback (most recent call last)",
      "\u001b[1;32m<ipython-input-375-9678c87f4a7c>\u001b[0m in \u001b[0;36m<module>\u001b[1;34m\u001b[0m\n\u001b[0;32m      4\u001b[0m              'XGBR':XGBRegressor(n_jobs=-1, random_state=1001)}\n\u001b[0;32m      5\u001b[0m \u001b[1;33m\u001b[0m\u001b[0m\n\u001b[1;32m----> 6\u001b[1;33m \u001b[0mresult_df\u001b[0m \u001b[1;33m=\u001b[0m \u001b[0mpd\u001b[0m\u001b[1;33m.\u001b[0m\u001b[0mDataFrame\u001b[0m\u001b[1;33m(\u001b[0m\u001b[0mcompare_models\u001b[0m\u001b[1;33m(\u001b[0m\u001b[0mmodel_dict\u001b[0m\u001b[1;33m)\u001b[0m\u001b[1;33m)\u001b[0m\u001b[1;33m\u001b[0m\u001b[1;33m\u001b[0m\u001b[0m\n\u001b[0m\u001b[0;32m      7\u001b[0m \u001b[0mresult_df\u001b[0m\u001b[1;33m\u001b[0m\u001b[1;33m\u001b[0m\u001b[0m\n",
      "\u001b[1;32m<ipython-input-373-4b35273fdc73>\u001b[0m in \u001b[0;36mcompare_models\u001b[1;34m(models)\u001b[0m\n\u001b[0;32m     27\u001b[0m                                \u001b[1;34m'fit_time'\u001b[0m \u001b[1;33m:\u001b[0m \u001b[1;33m(\u001b[0m\u001b[0mfit_time_end\u001b[0m \u001b[1;33m-\u001b[0m \u001b[0mfit_time_start\u001b[0m\u001b[1;33m)\u001b[0m\u001b[1;33m.\u001b[0m\u001b[0mseconds\u001b[0m\u001b[1;33m,\u001b[0m\u001b[1;33m\u001b[0m\u001b[1;33m\u001b[0m\u001b[0m\n\u001b[0;32m     28\u001b[0m                                \u001b[1;34m'val_mse'\u001b[0m \u001b[1;33m:\u001b[0m \u001b[0mmean_squared_error\u001b[0m\u001b[1;33m(\u001b[0m\u001b[0mval_y\u001b[0m\u001b[1;33m,\u001b[0m \u001b[0mmodel\u001b[0m\u001b[1;33m.\u001b[0m\u001b[0mpredict\u001b[0m\u001b[1;33m(\u001b[0m\u001b[0mval_x\u001b[0m\u001b[1;33m)\u001b[0m\u001b[1;33m)\u001b[0m\u001b[1;33m,\u001b[0m\u001b[1;33m\u001b[0m\u001b[1;33m\u001b[0m\u001b[0m\n\u001b[1;32m---> 29\u001b[1;33m                                'train_mse' : mean_squared_error(train_y, model.predict(train_x))})\n\u001b[0m\u001b[0;32m     30\u001b[0m                 \u001b[0mpbar\u001b[0m\u001b[1;33m.\u001b[0m\u001b[0mupdate\u001b[0m\u001b[1;33m(\u001b[0m\u001b[1;36m1\u001b[0m\u001b[1;33m)\u001b[0m\u001b[1;33m\u001b[0m\u001b[1;33m\u001b[0m\u001b[0m\n\u001b[0;32m     31\u001b[0m             \u001b[0mfold\u001b[0m \u001b[1;33m+=\u001b[0m \u001b[1;36m1\u001b[0m\u001b[1;33m\u001b[0m\u001b[1;33m\u001b[0m\u001b[0m\n",
      "\u001b[1;32m~\\anaconda3\\lib\\site-packages\\sklearn\\neighbors\\_regression.py\u001b[0m in \u001b[0;36mpredict\u001b[1;34m(self, X)\u001b[0m\n\u001b[0;32m    206\u001b[0m         \u001b[0mX\u001b[0m \u001b[1;33m=\u001b[0m \u001b[0mcheck_array\u001b[0m\u001b[1;33m(\u001b[0m\u001b[0mX\u001b[0m\u001b[1;33m,\u001b[0m \u001b[0maccept_sparse\u001b[0m\u001b[1;33m=\u001b[0m\u001b[1;34m'csr'\u001b[0m\u001b[1;33m)\u001b[0m\u001b[1;33m\u001b[0m\u001b[1;33m\u001b[0m\u001b[0m\n\u001b[0;32m    207\u001b[0m \u001b[1;33m\u001b[0m\u001b[0m\n\u001b[1;32m--> 208\u001b[1;33m         \u001b[0mneigh_dist\u001b[0m\u001b[1;33m,\u001b[0m \u001b[0mneigh_ind\u001b[0m \u001b[1;33m=\u001b[0m \u001b[0mself\u001b[0m\u001b[1;33m.\u001b[0m\u001b[0mkneighbors\u001b[0m\u001b[1;33m(\u001b[0m\u001b[0mX\u001b[0m\u001b[1;33m)\u001b[0m\u001b[1;33m\u001b[0m\u001b[1;33m\u001b[0m\u001b[0m\n\u001b[0m\u001b[0;32m    209\u001b[0m \u001b[1;33m\u001b[0m\u001b[0m\n\u001b[0;32m    210\u001b[0m         \u001b[0mweights\u001b[0m \u001b[1;33m=\u001b[0m \u001b[0m_get_weights\u001b[0m\u001b[1;33m(\u001b[0m\u001b[0mneigh_dist\u001b[0m\u001b[1;33m,\u001b[0m \u001b[0mself\u001b[0m\u001b[1;33m.\u001b[0m\u001b[0mweights\u001b[0m\u001b[1;33m)\u001b[0m\u001b[1;33m\u001b[0m\u001b[1;33m\u001b[0m\u001b[0m\n",
      "\u001b[1;32m~\\anaconda3\\lib\\site-packages\\sklearn\\neighbors\\_base.py\u001b[0m in \u001b[0;36mkneighbors\u001b[1;34m(self, X, n_neighbors, return_distance)\u001b[0m\n\u001b[0;32m    703\u001b[0m                 \u001b[0mkwds\u001b[0m \u001b[1;33m=\u001b[0m \u001b[0mself\u001b[0m\u001b[1;33m.\u001b[0m\u001b[0meffective_metric_params_\u001b[0m\u001b[1;33m\u001b[0m\u001b[1;33m\u001b[0m\u001b[0m\n\u001b[0;32m    704\u001b[0m \u001b[1;33m\u001b[0m\u001b[0m\n\u001b[1;32m--> 705\u001b[1;33m             chunked_results = list(pairwise_distances_chunked(\n\u001b[0m\u001b[0;32m    706\u001b[0m                 \u001b[0mX\u001b[0m\u001b[1;33m,\u001b[0m \u001b[0mself\u001b[0m\u001b[1;33m.\u001b[0m\u001b[0m_fit_X\u001b[0m\u001b[1;33m,\u001b[0m \u001b[0mreduce_func\u001b[0m\u001b[1;33m=\u001b[0m\u001b[0mreduce_func\u001b[0m\u001b[1;33m,\u001b[0m\u001b[1;33m\u001b[0m\u001b[1;33m\u001b[0m\u001b[0m\n\u001b[0;32m    707\u001b[0m                 \u001b[0mmetric\u001b[0m\u001b[1;33m=\u001b[0m\u001b[0mself\u001b[0m\u001b[1;33m.\u001b[0m\u001b[0meffective_metric_\u001b[0m\u001b[1;33m,\u001b[0m \u001b[0mn_jobs\u001b[0m\u001b[1;33m=\u001b[0m\u001b[0mn_jobs\u001b[0m\u001b[1;33m,\u001b[0m\u001b[1;33m\u001b[0m\u001b[1;33m\u001b[0m\u001b[0m\n",
      "\u001b[1;32m~\\anaconda3\\lib\\site-packages\\sklearn\\metrics\\pairwise.py\u001b[0m in \u001b[0;36mpairwise_distances_chunked\u001b[1;34m(X, Y, reduce_func, metric, n_jobs, working_memory, **kwds)\u001b[0m\n\u001b[0;32m   1631\u001b[0m         \u001b[1;32mif\u001b[0m \u001b[0mreduce_func\u001b[0m \u001b[1;32mis\u001b[0m \u001b[1;32mnot\u001b[0m \u001b[1;32mNone\u001b[0m\u001b[1;33m:\u001b[0m\u001b[1;33m\u001b[0m\u001b[1;33m\u001b[0m\u001b[0m\n\u001b[0;32m   1632\u001b[0m             \u001b[0mchunk_size\u001b[0m \u001b[1;33m=\u001b[0m \u001b[0mD_chunk\u001b[0m\u001b[1;33m.\u001b[0m\u001b[0mshape\u001b[0m\u001b[1;33m[\u001b[0m\u001b[1;36m0\u001b[0m\u001b[1;33m]\u001b[0m\u001b[1;33m\u001b[0m\u001b[1;33m\u001b[0m\u001b[0m\n\u001b[1;32m-> 1633\u001b[1;33m             \u001b[0mD_chunk\u001b[0m \u001b[1;33m=\u001b[0m \u001b[0mreduce_func\u001b[0m\u001b[1;33m(\u001b[0m\u001b[0mD_chunk\u001b[0m\u001b[1;33m,\u001b[0m \u001b[0msl\u001b[0m\u001b[1;33m.\u001b[0m\u001b[0mstart\u001b[0m\u001b[1;33m)\u001b[0m\u001b[1;33m\u001b[0m\u001b[1;33m\u001b[0m\u001b[0m\n\u001b[0m\u001b[0;32m   1634\u001b[0m             \u001b[0m_check_chunk_size\u001b[0m\u001b[1;33m(\u001b[0m\u001b[0mD_chunk\u001b[0m\u001b[1;33m,\u001b[0m \u001b[0mchunk_size\u001b[0m\u001b[1;33m)\u001b[0m\u001b[1;33m\u001b[0m\u001b[1;33m\u001b[0m\u001b[0m\n\u001b[0;32m   1635\u001b[0m         \u001b[1;32myield\u001b[0m \u001b[0mD_chunk\u001b[0m\u001b[1;33m\u001b[0m\u001b[1;33m\u001b[0m\u001b[0m\n",
      "\u001b[1;32m~\\anaconda3\\lib\\site-packages\\sklearn\\neighbors\\_base.py\u001b[0m in \u001b[0;36m_kneighbors_reduce_func\u001b[1;34m(self, dist, start, n_neighbors, return_distance)\u001b[0m\n\u001b[0;32m    580\u001b[0m         \"\"\"\n\u001b[0;32m    581\u001b[0m         \u001b[0msample_range\u001b[0m \u001b[1;33m=\u001b[0m \u001b[0mnp\u001b[0m\u001b[1;33m.\u001b[0m\u001b[0marange\u001b[0m\u001b[1;33m(\u001b[0m\u001b[0mdist\u001b[0m\u001b[1;33m.\u001b[0m\u001b[0mshape\u001b[0m\u001b[1;33m[\u001b[0m\u001b[1;36m0\u001b[0m\u001b[1;33m]\u001b[0m\u001b[1;33m)\u001b[0m\u001b[1;33m[\u001b[0m\u001b[1;33m:\u001b[0m\u001b[1;33m,\u001b[0m \u001b[1;32mNone\u001b[0m\u001b[1;33m]\u001b[0m\u001b[1;33m\u001b[0m\u001b[1;33m\u001b[0m\u001b[0m\n\u001b[1;32m--> 582\u001b[1;33m         \u001b[0mneigh_ind\u001b[0m \u001b[1;33m=\u001b[0m \u001b[0mnp\u001b[0m\u001b[1;33m.\u001b[0m\u001b[0margpartition\u001b[0m\u001b[1;33m(\u001b[0m\u001b[0mdist\u001b[0m\u001b[1;33m,\u001b[0m \u001b[0mn_neighbors\u001b[0m \u001b[1;33m-\u001b[0m \u001b[1;36m1\u001b[0m\u001b[1;33m,\u001b[0m \u001b[0maxis\u001b[0m\u001b[1;33m=\u001b[0m\u001b[1;36m1\u001b[0m\u001b[1;33m)\u001b[0m\u001b[1;33m\u001b[0m\u001b[1;33m\u001b[0m\u001b[0m\n\u001b[0m\u001b[0;32m    583\u001b[0m         \u001b[0mneigh_ind\u001b[0m \u001b[1;33m=\u001b[0m \u001b[0mneigh_ind\u001b[0m\u001b[1;33m[\u001b[0m\u001b[1;33m:\u001b[0m\u001b[1;33m,\u001b[0m \u001b[1;33m:\u001b[0m\u001b[0mn_neighbors\u001b[0m\u001b[1;33m]\u001b[0m\u001b[1;33m\u001b[0m\u001b[1;33m\u001b[0m\u001b[0m\n\u001b[0;32m    584\u001b[0m         \u001b[1;31m# argpartition doesn't guarantee sorted order, so we sort again\u001b[0m\u001b[1;33m\u001b[0m\u001b[1;33m\u001b[0m\u001b[1;33m\u001b[0m\u001b[0m\n",
      "\u001b[1;32m<__array_function__ internals>\u001b[0m in \u001b[0;36margpartition\u001b[1;34m(*args, **kwargs)\u001b[0m\n",
      "\u001b[1;32m~\\anaconda3\\lib\\site-packages\\numpy\\core\\fromnumeric.py\u001b[0m in \u001b[0;36margpartition\u001b[1;34m(a, kth, axis, kind, order)\u001b[0m\n\u001b[0;32m    835\u001b[0m \u001b[1;33m\u001b[0m\u001b[0m\n\u001b[0;32m    836\u001b[0m     \"\"\"\n\u001b[1;32m--> 837\u001b[1;33m     \u001b[1;32mreturn\u001b[0m \u001b[0m_wrapfunc\u001b[0m\u001b[1;33m(\u001b[0m\u001b[0ma\u001b[0m\u001b[1;33m,\u001b[0m \u001b[1;34m'argpartition'\u001b[0m\u001b[1;33m,\u001b[0m \u001b[0mkth\u001b[0m\u001b[1;33m,\u001b[0m \u001b[0maxis\u001b[0m\u001b[1;33m=\u001b[0m\u001b[0maxis\u001b[0m\u001b[1;33m,\u001b[0m \u001b[0mkind\u001b[0m\u001b[1;33m=\u001b[0m\u001b[0mkind\u001b[0m\u001b[1;33m,\u001b[0m \u001b[0morder\u001b[0m\u001b[1;33m=\u001b[0m\u001b[0morder\u001b[0m\u001b[1;33m)\u001b[0m\u001b[1;33m\u001b[0m\u001b[1;33m\u001b[0m\u001b[0m\n\u001b[0m\u001b[0;32m    838\u001b[0m \u001b[1;33m\u001b[0m\u001b[0m\n\u001b[0;32m    839\u001b[0m \u001b[1;33m\u001b[0m\u001b[0m\n",
      "\u001b[1;32m~\\anaconda3\\lib\\site-packages\\numpy\\core\\fromnumeric.py\u001b[0m in \u001b[0;36m_wrapfunc\u001b[1;34m(obj, method, *args, **kwds)\u001b[0m\n\u001b[0;32m     56\u001b[0m \u001b[1;33m\u001b[0m\u001b[0m\n\u001b[0;32m     57\u001b[0m     \u001b[1;32mtry\u001b[0m\u001b[1;33m:\u001b[0m\u001b[1;33m\u001b[0m\u001b[1;33m\u001b[0m\u001b[0m\n\u001b[1;32m---> 58\u001b[1;33m         \u001b[1;32mreturn\u001b[0m \u001b[0mbound\u001b[0m\u001b[1;33m(\u001b[0m\u001b[1;33m*\u001b[0m\u001b[0margs\u001b[0m\u001b[1;33m,\u001b[0m \u001b[1;33m**\u001b[0m\u001b[0mkwds\u001b[0m\u001b[1;33m)\u001b[0m\u001b[1;33m\u001b[0m\u001b[1;33m\u001b[0m\u001b[0m\n\u001b[0m\u001b[0;32m     59\u001b[0m     \u001b[1;32mexcept\u001b[0m \u001b[0mTypeError\u001b[0m\u001b[1;33m:\u001b[0m\u001b[1;33m\u001b[0m\u001b[1;33m\u001b[0m\u001b[0m\n\u001b[0;32m     60\u001b[0m         \u001b[1;31m# A TypeError occurs if the object does have such a method in its\u001b[0m\u001b[1;33m\u001b[0m\u001b[1;33m\u001b[0m\u001b[1;33m\u001b[0m\u001b[0m\n",
      "\u001b[1;31mKeyboardInterrupt\u001b[0m: "
     ]
    }
   ],
   "source": [
    "model_dict = {'RFR' : RandomForestRegressor(max_depth=15, n_jobs=-1, random_state=1001),\n",
    "             'KNN': KNeighborsRegressor(),\n",
    "             'LR':LinearRegression(),\n",
    "             'XGBR':XGBRegressor(n_jobs=-1, random_state=1001)}\n",
    "\n",
    "result_df = pd.DataFrame(compare_models(model_dict))\n",
    "result_df"
   ]
  },
  {
   "cell_type": "code",
   "execution_count": 254,
   "id": "a6eb4e6a",
   "metadata": {},
   "outputs": [],
   "source": [
    "import seaborn as sns\n",
    "\n",
    "def plot_results(result_df):\n",
    "    sns.set(rc={'figure.figsize':(11,8)})\n",
    "    tmp1 = result_df.drop(['val_mse'], axis=1).rename(columns={'train_mse' : 'mse'})\n",
    "    tmp1['type'] = 'train'\n",
    "    tmp2 = result_df.drop(['train_mse'], axis=1).rename(columns={'val_mse' : 'mse'})\n",
    "    tmp2['type'] = 'val'\n",
    "    sns.lineplot(data=tmp1.append(tmp2), x='fold', y='mse', hue='model', style='type');"
   ]
  },
  {
   "cell_type": "code",
   "execution_count": 255,
   "id": "143cb83d",
   "metadata": {},
   "outputs": [
    {
     "data": {
      "image/png": "[encoded data removed]",
      "text/plain": [
       "<Figure size 792x576 with 1 Axes>"
      ]
     },
     "metadata": {},
     "output_type": "display_data"
    }
   ],
   "source": [
    "plot_results(result_df)"
   ]
  },
  {
   "cell_type": "markdown",
   "id": "d8ec6524",
   "metadata": {},
   "source": [
    "We can observe overfitting in many cases (except for maybe RFR, XGBR on folds 3-4,). \n",
    "\n",
    "All models except for LR performed significantly better on fold 3 and 4.\n",
    "\n",
    "For now we will choose fold 3 for further experiments, since it's smaller than 4."
   ]
  },
  {
   "cell_type": "markdown",
   "id": "042faa22",
   "metadata": {},
   "source": [
    "## Experiments with models and parameters (no fancy tuning)"
   ]
  },
  {
   "cell_type": "code",
   "execution_count": 257,
   "id": "7e0fd01c",
   "metadata": {},
   "outputs": [],
   "source": [
    "train = feature_extraction_pipeline.fit_transform(train_data3)\n",
    "val = feature_extraction_pipeline.transform(val_data3)\n",
    "\n",
    "train.to_csv('../data/processed/train_experimental.csv', index=False)\n",
    "val.to_csv('../data/processed/val_experimental.csv', index=False) \n",
    "    \n",
    "target = 'item_cnt_month'\n",
    "val_x, val_y = x_y_split(val, target)\n",
    "train_x, train_y = x_y_split(train, target)"
   ]
  },
  {
   "cell_type": "code",
   "execution_count": 258,
   "id": "bf723a6e",
   "metadata": {},
   "outputs": [
    {
     "data": {
      "text/html": [
       "<div>\n",
       "<style scoped>\n",
       "    .dataframe tbody tr th:only-of-type {\n",
       "        vertical-align: middle;\n",
       "    }\n",
       "\n",
       "    .dataframe tbody tr th {\n",
       "        vertical-align: top;\n",
       "    }\n",
       "\n",
       "    .dataframe thead th {\n",
       "        text-align: right;\n",
       "    }\n",
       "</style>\n",
       "<table border=\"1\" class=\"dataframe\">\n",
       "  <thead>\n",
       "    <tr style=\"text-align: right;\">\n",
       "      <th></th>\n",
       "      <th>item_id</th>\n",
       "      <th>shop_id</th>\n",
       "      <th>month_sin</th>\n",
       "      <th>month_cos</th>\n",
       "      <th>item_category_id</th>\n",
       "      <th>city_id</th>\n",
       "      <th>global_cat_id</th>\n",
       "      <th>shop_age_month</th>\n",
       "      <th>item_age_month</th>\n",
       "      <th>month_lag_1</th>\n",
       "      <th>month_lag_3</th>\n",
       "      <th>month_lag_6</th>\n",
       "      <th>month_lag_12</th>\n",
       "    </tr>\n",
       "  </thead>\n",
       "  <tbody>\n",
       "    <tr>\n",
       "      <th>0</th>\n",
       "      <td>27</td>\n",
       "      <td>25</td>\n",
       "      <td>1.224647e-16</td>\n",
       "      <td>-1.0</td>\n",
       "      <td>19</td>\n",
       "      <td>15</td>\n",
       "      <td>5</td>\n",
       "      <td>5.600000</td>\n",
       "      <td>5.600000</td>\n",
       "      <td>0.0</td>\n",
       "      <td>0.0</td>\n",
       "      <td>0.0</td>\n",
       "      <td>0.0</td>\n",
       "    </tr>\n",
       "    <tr>\n",
       "      <th>1</th>\n",
       "      <td>27</td>\n",
       "      <td>32</td>\n",
       "      <td>1.224647e-16</td>\n",
       "      <td>-1.0</td>\n",
       "      <td>19</td>\n",
       "      <td>15</td>\n",
       "      <td>5</td>\n",
       "      <td>5.166667</td>\n",
       "      <td>5.166667</td>\n",
       "      <td>0.0</td>\n",
       "      <td>1.0</td>\n",
       "      <td>0.0</td>\n",
       "      <td>0.0</td>\n",
       "    </tr>\n",
       "    <tr>\n",
       "      <th>2</th>\n",
       "      <td>28</td>\n",
       "      <td>28</td>\n",
       "      <td>1.224647e-16</td>\n",
       "      <td>-1.0</td>\n",
       "      <td>30</td>\n",
       "      <td>15</td>\n",
       "      <td>8</td>\n",
       "      <td>5.700000</td>\n",
       "      <td>5.666667</td>\n",
       "      <td>0.0</td>\n",
       "      <td>0.0</td>\n",
       "      <td>0.0</td>\n",
       "      <td>0.0</td>\n",
       "    </tr>\n",
       "    <tr>\n",
       "      <th>3</th>\n",
       "      <td>28</td>\n",
       "      <td>30</td>\n",
       "      <td>1.224647e-16</td>\n",
       "      <td>-1.0</td>\n",
       "      <td>30</td>\n",
       "      <td>15</td>\n",
       "      <td>8</td>\n",
       "      <td>5.000000</td>\n",
       "      <td>5.000000</td>\n",
       "      <td>0.0</td>\n",
       "      <td>0.0</td>\n",
       "      <td>0.0</td>\n",
       "      <td>0.0</td>\n",
       "    </tr>\n",
       "    <tr>\n",
       "      <th>4</th>\n",
       "      <td>28</td>\n",
       "      <td>47</td>\n",
       "      <td>1.224647e-16</td>\n",
       "      <td>-1.0</td>\n",
       "      <td>30</td>\n",
       "      <td>24</td>\n",
       "      <td>8</td>\n",
       "      <td>5.066667</td>\n",
       "      <td>5.066667</td>\n",
       "      <td>0.0</td>\n",
       "      <td>0.0</td>\n",
       "      <td>0.0</td>\n",
       "      <td>0.0</td>\n",
       "    </tr>\n",
       "  </tbody>\n",
       "</table>\n",
       "</div>"
      ],
      "text/plain": [
       "   item_id  shop_id     month_sin  month_cos  item_category_id  city_id  \\\n",
       "0       27       25  1.224647e-16       -1.0                19       15   \n",
       "1       27       32  1.224647e-16       -1.0                19       15   \n",
       "2       28       28  1.224647e-16       -1.0                30       15   \n",
       "3       28       30  1.224647e-16       -1.0                30       15   \n",
       "4       28       47  1.224647e-16       -1.0                30       24   \n",
       "\n",
       "   global_cat_id  shop_age_month  item_age_month  month_lag_1  month_lag_3  \\\n",
       "0              5        5.600000        5.600000          0.0          0.0   \n",
       "1              5        5.166667        5.166667          0.0          1.0   \n",
       "2              8        5.700000        5.666667          0.0          0.0   \n",
       "3              8        5.000000        5.000000          0.0          0.0   \n",
       "4              8        5.066667        5.066667          0.0          0.0   \n",
       "\n",
       "   month_lag_6  month_lag_12  \n",
       "0          0.0           0.0  \n",
       "1          0.0           0.0  \n",
       "2          0.0           0.0  \n",
       "3          0.0           0.0  \n",
       "4          0.0           0.0  "
      ]
     },
     "execution_count": 258,
     "metadata": {},
     "output_type": "execute_result"
    }
   ],
   "source": [
    "train_x.head()"
   ]
  },
  {
   "cell_type": "code",
   "execution_count": 259,
   "id": "941b15de",
   "metadata": {},
   "outputs": [
    {
     "data": {
      "text/plain": [
       "(8.306176769662503, 14.422670617399762)"
      ]
     },
     "execution_count": 259,
     "metadata": {},
     "output_type": "execute_result"
    }
   ],
   "source": [
    "rfr = RandomForestRegressor(n_estimators=70, max_depth=17, n_jobs=-1, random_state=1001)\n",
    "rfr.fit(train_x, train_y)\n",
    "train_mse = mean_squared_error(train_y, rfr.predict(train_x))\n",
    "val_mse = mean_squared_error(val_y, rfr.predict(val_x))\n",
    "train_mse, val_mse"
   ]
  },
  {
   "cell_type": "code",
   "execution_count": 260,
   "id": "bdf7314e",
   "metadata": {},
   "outputs": [
    {
     "data": {
      "text/plain": [
       "(17.821552138422696, 8.06647026840468)"
      ]
     },
     "execution_count": 260,
     "metadata": {},
     "output_type": "execute_result"
    }
   ],
   "source": [
    "xgbr = XGBRegressor(max_depth=5, n_jobs=-1, random_state=1001, colsample_bytree=0.5)\n",
    "xgbr.fit(train_x, train_y)\n",
    "train_mse = mean_squared_error(train_y, xgbr.predict(train_x))\n",
    "val_mse = mean_squared_error(val_y, xgbr.predict(val_x))\n",
    "train_mse, val_mse"
   ]
  },
  {
   "cell_type": "code",
   "execution_count": 261,
   "id": "9ac64090",
   "metadata": {},
   "outputs": [
    {
     "data": {
      "text/plain": [
       "(0.0, 8.728137330090965)"
      ]
     },
     "execution_count": 261,
     "metadata": {},
     "output_type": "execute_result"
    }
   ],
   "source": [
    "knn = KNeighborsRegressor(weights='distance', n_neighbors=11)\n",
    "knn.fit(train_x, train_y)\n",
    "train_mse = mean_squared_error(train_y, knn.predict(train_x))\n",
    "val_mse = mean_squared_error(val_y, knn.predict(val_x))\n",
    "train_mse, val_mse"
   ]
  },
  {
   "cell_type": "markdown",
   "id": "186902b1",
   "metadata": {},
   "source": [
    "#### Trying same models again, this time with scaling and encoded data"
   ]
  },
  {
   "cell_type": "code",
   "execution_count": 37,
   "id": "20ec8661",
   "metadata": {},
   "outputs": [],
   "source": [
    "from sklearn.compose import ColumnTransformer\n",
    "from sklearn.preprocessing import StandardScaler\n",
    "import category_encoders as ce"
   ]
  },
  {
   "cell_type": "code",
   "execution_count": 101,
   "id": "9733f253",
   "metadata": {},
   "outputs": [],
   "source": [
    "num_cols = ['shop_age_month', 'item_age_month', 'month_lag_1', 'month_lag_3', 'month_lag_6', 'month_lag_12']\n",
    "cat_cols = ['shop_id', 'item_id', 'item_category_id', 'global_cat_id', 'city_id']"
   ]
  },
  {
   "cell_type": "code",
   "execution_count": 102,
   "id": "9c6b618a",
   "metadata": {},
   "outputs": [],
   "source": [
    "class Scaler(BaseEstimator, TransformerMixin):\n",
    "    def __init__(self, columns):\n",
    "        self.scaler = StandardScaler()\n",
    "        self.columns = columns\n",
    "    def fit(self, X, y=None ):\n",
    "        self.scaler = self.scaler.fit(X[self.columns])\n",
    "        return self\n",
    "    def transform(self, X, y=None):\n",
    "        X[self.columns] = self.scaler.transform(X[self.columns])\n",
    "        return X\n",
    "    \n",
    "class Encoder(BaseEstimator, TransformerMixin):\n",
    "    def __init__(self, columns, target):\n",
    "        self.encoder = ce.TargetEncoder(min_samples_leaf=1, smoothing=1.0)\n",
    "        self.columns = columns\n",
    "        self.target = target\n",
    "    def fit(self, X, y=None ):\n",
    "        X[self.columns] = X[self.columns].astype(object) \n",
    "        self.encoder = self.encoder.fit(X[self.columns], X[self.target])\n",
    "        return self\n",
    "    def transform(self, X, y=None):\n",
    "        X[self.columns] = self.encoder.transform(X[self.columns], X[self.target])\n",
    "        return X\n"
   ]
  },
  {
   "cell_type": "code",
   "execution_count": 103,
   "id": "114821df",
   "metadata": {},
   "outputs": [
    {
     "name": "stderr",
     "output_type": "stream",
     "text": [
      "C:\\Users\\masha\\anaconda3\\lib\\site-packages\\category_encoders\\target_encoder.py:122: FutureWarning: Default parameter min_samples_leaf will change in version 2.6.See https://github.com/scikit-learn-contrib/category_encoders/issues/327\n",
      "  warnings.warn(\"Default parameter min_samples_leaf will change in version 2.6.\"\n",
      "C:\\Users\\masha\\anaconda3\\lib\\site-packages\\category_encoders\\target_encoder.py:127: FutureWarning: Default parameter smoothing will change in version 2.6.See https://github.com/scikit-learn-contrib/category_encoders/issues/327\n",
      "  warnings.warn(\"Default parameter smoothing will change in version 2.6.\"\n"
     ]
    }
   ],
   "source": [
    "preprocessing_steps = [('feature_scaler', Scaler(num_cols)), ('encoder', Encoder(cat_cols, target))]\n",
    "target_scaler = StandardScaler()\n",
    "preprocessing_pipeline = Pipeline(steps=preprocessing_steps)"
   ]
  },
  {
   "cell_type": "code",
   "execution_count": 121,
   "id": "f1120de6",
   "metadata": {},
   "outputs": [],
   "source": [
    "train2 = preprocessing_pipeline.fit_transform(train)\n",
    "val2 = preprocessing_pipeline.transform(val)\n",
    "\n",
    "val_x2 = val2.drop(target, axis=1)\n",
    "val_y2 = val2[target]\n",
    "train_x2 = train2.drop(target, axis=1)\n",
    "train_y2 = train2[target]"
   ]
  },
  {
   "cell_type": "code",
   "execution_count": 122,
   "id": "3d3a8d4f",
   "metadata": {},
   "outputs": [],
   "source": [
    "train_y2_scaled = target_scaler.fit_transform(np.array(train_y2).reshape(-1, 1))\n",
    "val_y2_scaled = target_scaler.transform(np.array(val_y2).reshape(-1, 1))"
   ]
  },
  {
   "cell_type": "code",
   "execution_count": 123,
   "id": "fb2e90ff",
   "metadata": {},
   "outputs": [
    {
     "data": {
      "text/html": [
       "<div>\n",
       "<style scoped>\n",
       "    .dataframe tbody tr th:only-of-type {\n",
       "        vertical-align: middle;\n",
       "    }\n",
       "\n",
       "    .dataframe tbody tr th {\n",
       "        vertical-align: top;\n",
       "    }\n",
       "\n",
       "    .dataframe thead th {\n",
       "        text-align: right;\n",
       "    }\n",
       "</style>\n",
       "<table border=\"1\" class=\"dataframe\">\n",
       "  <thead>\n",
       "    <tr style=\"text-align: right;\">\n",
       "      <th></th>\n",
       "      <th>item_id</th>\n",
       "      <th>shop_id</th>\n",
       "      <th>month_sin</th>\n",
       "      <th>month_cos</th>\n",
       "      <th>item_category_id</th>\n",
       "      <th>city_id</th>\n",
       "      <th>global_cat_id</th>\n",
       "      <th>shop_age_month</th>\n",
       "      <th>item_age_month</th>\n",
       "      <th>month_lag_1</th>\n",
       "      <th>month_lag_3</th>\n",
       "      <th>month_lag_6</th>\n",
       "      <th>month_lag_12</th>\n",
       "    </tr>\n",
       "  </thead>\n",
       "  <tbody>\n",
       "    <tr>\n",
       "      <th>0</th>\n",
       "      <td>1.00000</td>\n",
       "      <td>2.270891</td>\n",
       "      <td>1.000000e+00</td>\n",
       "      <td>6.123234e-17</td>\n",
       "      <td>2.679186</td>\n",
       "      <td>2.270891</td>\n",
       "      <td>2.605635</td>\n",
       "      <td>-1.485710</td>\n",
       "      <td>-0.845508</td>\n",
       "      <td>-0.183621</td>\n",
       "      <td>-0.163833</td>\n",
       "      <td>-0.131153</td>\n",
       "      <td>-0.090269</td>\n",
       "    </tr>\n",
       "    <tr>\n",
       "      <th>1</th>\n",
       "      <td>1.00000</td>\n",
       "      <td>2.270891</td>\n",
       "      <td>-5.000000e-01</td>\n",
       "      <td>-8.660254e-01</td>\n",
       "      <td>2.679186</td>\n",
       "      <td>2.270891</td>\n",
       "      <td>2.605635</td>\n",
       "      <td>-1.065223</td>\n",
       "      <td>-0.368406</td>\n",
       "      <td>-0.183621</td>\n",
       "      <td>-0.163833</td>\n",
       "      <td>-0.131153</td>\n",
       "      <td>-0.090269</td>\n",
       "    </tr>\n",
       "    <tr>\n",
       "      <th>2</th>\n",
       "      <td>3.18541</td>\n",
       "      <td>2.270891</td>\n",
       "      <td>1.000000e+00</td>\n",
       "      <td>6.123234e-17</td>\n",
       "      <td>2.679186</td>\n",
       "      <td>2.270891</td>\n",
       "      <td>2.605635</td>\n",
       "      <td>-1.521752</td>\n",
       "      <td>-1.068155</td>\n",
       "      <td>0.409211</td>\n",
       "      <td>-0.163833</td>\n",
       "      <td>-0.131153</td>\n",
       "      <td>-0.090269</td>\n",
       "    </tr>\n",
       "    <tr>\n",
       "      <th>3</th>\n",
       "      <td>3.18541</td>\n",
       "      <td>2.270891</td>\n",
       "      <td>-8.660254e-01</td>\n",
       "      <td>-5.000000e-01</td>\n",
       "      <td>2.679186</td>\n",
       "      <td>2.270891</td>\n",
       "      <td>2.605635</td>\n",
       "      <td>-0.905038</td>\n",
       "      <td>-0.368406</td>\n",
       "      <td>-0.183621</td>\n",
       "      <td>-0.163833</td>\n",
       "      <td>0.546909</td>\n",
       "      <td>-0.090269</td>\n",
       "    </tr>\n",
       "    <tr>\n",
       "      <th>4</th>\n",
       "      <td>3.18541</td>\n",
       "      <td>2.270891</td>\n",
       "      <td>-2.449294e-16</td>\n",
       "      <td>1.000000e+00</td>\n",
       "      <td>2.679186</td>\n",
       "      <td>2.270891</td>\n",
       "      <td>2.605635</td>\n",
       "      <td>-0.336380</td>\n",
       "      <td>0.276817</td>\n",
       "      <td>-0.183621</td>\n",
       "      <td>-0.163833</td>\n",
       "      <td>-0.131153</td>\n",
       "      <td>-0.090269</td>\n",
       "    </tr>\n",
       "  </tbody>\n",
       "</table>\n",
       "</div>"
      ],
      "text/plain": [
       "   item_id   shop_id     month_sin     month_cos  item_category_id   city_id  \\\n",
       "0  1.00000  2.270891  1.000000e+00  6.123234e-17          2.679186  2.270891   \n",
       "1  1.00000  2.270891 -5.000000e-01 -8.660254e-01          2.679186  2.270891   \n",
       "2  3.18541  2.270891  1.000000e+00  6.123234e-17          2.679186  2.270891   \n",
       "3  3.18541  2.270891 -8.660254e-01 -5.000000e-01          2.679186  2.270891   \n",
       "4  3.18541  2.270891 -2.449294e-16  1.000000e+00          2.679186  2.270891   \n",
       "\n",
       "   global_cat_id  shop_age_month  item_age_month  month_lag_1  month_lag_3  \\\n",
       "0       2.605635       -1.485710       -0.845508    -0.183621    -0.163833   \n",
       "1       2.605635       -1.065223       -0.368406    -0.183621    -0.163833   \n",
       "2       2.605635       -1.521752       -1.068155     0.409211    -0.163833   \n",
       "3       2.605635       -0.905038       -0.368406    -0.183621    -0.163833   \n",
       "4       2.605635       -0.336380        0.276817    -0.183621    -0.163833   \n",
       "\n",
       "   month_lag_6  month_lag_12  \n",
       "0    -0.131153     -0.090269  \n",
       "1    -0.131153     -0.090269  \n",
       "2    -0.131153     -0.090269  \n",
       "3     0.546909     -0.090269  \n",
       "4    -0.131153     -0.090269  "
      ]
     },
     "execution_count": 123,
     "metadata": {},
     "output_type": "execute_result"
    }
   ],
   "source": [
    "train_x2.head()"
   ]
  },
  {
   "cell_type": "code",
   "execution_count": 124,
   "id": "7b45c0a9",
   "metadata": {},
   "outputs": [
    {
     "data": {
      "text/plain": [
       "array([[-0.1513707 ],\n",
       "       [-0.1513707 ],\n",
       "       [-0.1513707 ],\n",
       "       [-0.1513707 ],\n",
       "       [ 1.13709891]])"
      ]
     },
     "execution_count": 124,
     "metadata": {},
     "output_type": "execute_result"
    }
   ],
   "source": [
    "train_y2_scaled[:5]"
   ]
  },
  {
   "cell_type": "code",
   "execution_count": 125,
   "id": "f3be88bb",
   "metadata": {},
   "outputs": [
    {
     "data": {
      "text/plain": [
       "array([[ 1.],\n",
       "       [ 1.],\n",
       "       [ 1.],\n",
       "       [ 1.],\n",
       "       [12.]])"
      ]
     },
     "execution_count": 125,
     "metadata": {},
     "output_type": "execute_result"
    }
   ],
   "source": [
    "target_scaler.inverse_transform(train_y2_scaled)[:5]"
   ]
  },
  {
   "cell_type": "code",
   "execution_count": 126,
   "id": "807168c9",
   "metadata": {},
   "outputs": [
    {
     "data": {
      "application/vnd.jupyter.widget-view+json": {
       "model_id": "0150618da8664f46a513b906a0610ab6",
       "version_major": 2,
       "version_minor": 0
      },
      "text/plain": [
       "  0%|          | 0/12 [00:00<?, ?it/s]"
      ]
     },
     "metadata": {},
     "output_type": "display_data"
    },
    {
     "name": "stderr",
     "output_type": "stream",
     "text": [
      "<ipython-input-126-1b5d452ba487>:27: DataConversionWarning: A column-vector y was passed when a 1d array was expected. Please change the shape of y to (n_samples,), for example using ravel().\n",
      "  model.fit(train_x, train_y_scaled)\n",
      "<ipython-input-126-1b5d452ba487>:27: DataConversionWarning: A column-vector y was passed when a 1d array was expected. Please change the shape of y to (n_samples,), for example using ravel().\n",
      "  model.fit(train_x, train_y_scaled)\n",
      "<ipython-input-126-1b5d452ba487>:27: DataConversionWarning: A column-vector y was passed when a 1d array was expected. Please change the shape of y to (n_samples,), for example using ravel().\n",
      "  model.fit(train_x, train_y_scaled)\n",
      "<ipython-input-126-1b5d452ba487>:27: DataConversionWarning: A column-vector y was passed when a 1d array was expected. Please change the shape of y to (n_samples,), for example using ravel().\n",
      "  model.fit(train_x, train_y_scaled)\n"
     ]
    }
   ],
   "source": [
    "result = []\n",
    "fold = 1\n",
    "models = [RandomForestRegressor(max_depth=15, n_jobs=-1, random_state=1001),\n",
    "          #KNeighborsRegressor(),\n",
    "          LinearRegression(),\n",
    "          XGBRegressor(n_jobs=-1, random_state=1001)]\n",
    "model_type = ['RFR','LR', 'XGBR']\n",
    "\n",
    "with tqdm(total=len(model_type) * 4) as pbar:\n",
    "    for val, train in zip([val_data1, val_data2, val_data3, val_data4], [train_data1, train_data2, train_data3, train_data4]):\n",
    "        \n",
    "        train = feature_extraction_pipeline.fit_transform(train)\n",
    "        train = preprocessing_pipeline.fit_transform(train)\n",
    "        val = feature_extraction_pipeline.transform(val)\n",
    "        val = preprocessing_pipeline.transform(val)\n",
    "        \n",
    "        val_x = val.drop(target, axis=1)\n",
    "        val_y = val[target]\n",
    "        train_x = train.drop(target, axis=1)\n",
    "        train_y = train[target]\n",
    "        \n",
    "        train_y_scaled = target_scaler.fit_transform(np.array(train_y).reshape(-1, 1))\n",
    "        val_y_scaled = target_scaler.transform(np.array(val_y).reshape(-1, 1))\n",
    "\n",
    "        for i, model in enumerate(models):\n",
    "            fit_time_start = datetime.now()\n",
    "            model.fit(train_x, train_y_scaled.ravel())\n",
    "            fit_time_end = datetime.now()\n",
    "            y_pred = model.predict(val_x)\n",
    "            pred_time_end = datetime.now()\n",
    "            y_pred_inv = target_scaler.inverse_transform(y_pred)\n",
    "            result.append({'model' : model_type[i],\n",
    "                           'fold' : fold,\n",
    "                           'data_size' : train_x.shape[0],\n",
    "                           'fit_time' : (fit_time_end - fit_time_start).seconds,\n",
    "                           'pred_time' : (pred_time_end - fit_time_end).seconds,\n",
    "                           'val_mse' : mean_squared_error(val_y, y_pred_inv),\n",
    "                           'train_mse' : mean_squared_error(train_y, target_scaler.inverse_transform(model.predict(train_x)))})\n",
    "            pbar.update(1)\n",
    "        fold += 1"
   ]
  },
  {
   "cell_type": "code",
   "execution_count": 127,
   "id": "d41b2ef7",
   "metadata": {},
   "outputs": [
    {
     "data": {
      "text/html": [
       "<div>\n",
       "<style scoped>\n",
       "    .dataframe tbody tr th:only-of-type {\n",
       "        vertical-align: middle;\n",
       "    }\n",
       "\n",
       "    .dataframe tbody tr th {\n",
       "        vertical-align: top;\n",
       "    }\n",
       "\n",
       "    .dataframe thead th {\n",
       "        text-align: right;\n",
       "    }\n",
       "</style>\n",
       "<table border=\"1\" class=\"dataframe\">\n",
       "  <thead>\n",
       "    <tr style=\"text-align: right;\">\n",
       "      <th></th>\n",
       "      <th>model</th>\n",
       "      <th>fold</th>\n",
       "      <th>data_size</th>\n",
       "      <th>fit_time</th>\n",
       "      <th>pred_time</th>\n",
       "      <th>val_mse</th>\n",
       "      <th>train_mse</th>\n",
       "    </tr>\n",
       "  </thead>\n",
       "  <tbody>\n",
       "    <tr>\n",
       "      <th>0</th>\n",
       "      <td>RFR</td>\n",
       "      <td>1</td>\n",
       "      <td>684007</td>\n",
       "      <td>71</td>\n",
       "      <td>0</td>\n",
       "      <td>0.807328</td>\n",
       "      <td>0.057805</td>\n",
       "    </tr>\n",
       "    <tr>\n",
       "      <th>1</th>\n",
       "      <td>LR</td>\n",
       "      <td>1</td>\n",
       "      <td>684007</td>\n",
       "      <td>0</td>\n",
       "      <td>0</td>\n",
       "      <td>0.753870</td>\n",
       "      <td>0.345002</td>\n",
       "    </tr>\n",
       "    <tr>\n",
       "      <th>2</th>\n",
       "      <td>XGBR</td>\n",
       "      <td>1</td>\n",
       "      <td>684007</td>\n",
       "      <td>15</td>\n",
       "      <td>0</td>\n",
       "      <td>0.855588</td>\n",
       "      <td>0.058246</td>\n",
       "    </tr>\n",
       "    <tr>\n",
       "      <th>3</th>\n",
       "      <td>RFR</td>\n",
       "      <td>2</td>\n",
       "      <td>1414796</td>\n",
       "      <td>174</td>\n",
       "      <td>0</td>\n",
       "      <td>2.031950</td>\n",
       "      <td>0.086048</td>\n",
       "    </tr>\n",
       "    <tr>\n",
       "      <th>4</th>\n",
       "      <td>LR</td>\n",
       "      <td>2</td>\n",
       "      <td>1414796</td>\n",
       "      <td>0</td>\n",
       "      <td>0</td>\n",
       "      <td>1.443614</td>\n",
       "      <td>0.434244</td>\n",
       "    </tr>\n",
       "    <tr>\n",
       "      <th>5</th>\n",
       "      <td>XGBR</td>\n",
       "      <td>2</td>\n",
       "      <td>1414796</td>\n",
       "      <td>39</td>\n",
       "      <td>0</td>\n",
       "      <td>1.215954</td>\n",
       "      <td>0.100443</td>\n",
       "    </tr>\n",
       "    <tr>\n",
       "      <th>6</th>\n",
       "      <td>RFR</td>\n",
       "      <td>3</td>\n",
       "      <td>1184065</td>\n",
       "      <td>146</td>\n",
       "      <td>0</td>\n",
       "      <td>0.148644</td>\n",
       "      <td>0.069230</td>\n",
       "    </tr>\n",
       "    <tr>\n",
       "      <th>7</th>\n",
       "      <td>LR</td>\n",
       "      <td>3</td>\n",
       "      <td>1184065</td>\n",
       "      <td>0</td>\n",
       "      <td>0</td>\n",
       "      <td>0.184113</td>\n",
       "      <td>0.428946</td>\n",
       "    </tr>\n",
       "    <tr>\n",
       "      <th>8</th>\n",
       "      <td>XGBR</td>\n",
       "      <td>3</td>\n",
       "      <td>1184065</td>\n",
       "      <td>34</td>\n",
       "      <td>0</td>\n",
       "      <td>0.098957</td>\n",
       "      <td>0.081761</td>\n",
       "    </tr>\n",
       "    <tr>\n",
       "      <th>9</th>\n",
       "      <td>RFR</td>\n",
       "      <td>4</td>\n",
       "      <td>1389338</td>\n",
       "      <td>174</td>\n",
       "      <td>0</td>\n",
       "      <td>0.125993</td>\n",
       "      <td>0.074649</td>\n",
       "    </tr>\n",
       "    <tr>\n",
       "      <th>10</th>\n",
       "      <td>LR</td>\n",
       "      <td>4</td>\n",
       "      <td>1389338</td>\n",
       "      <td>0</td>\n",
       "      <td>0</td>\n",
       "      <td>0.173815</td>\n",
       "      <td>0.442887</td>\n",
       "    </tr>\n",
       "    <tr>\n",
       "      <th>11</th>\n",
       "      <td>XGBR</td>\n",
       "      <td>4</td>\n",
       "      <td>1389338</td>\n",
       "      <td>38</td>\n",
       "      <td>0</td>\n",
       "      <td>0.118863</td>\n",
       "      <td>0.085584</td>\n",
       "    </tr>\n",
       "  </tbody>\n",
       "</table>\n",
       "</div>"
      ],
      "text/plain": [
       "   model  fold  data_size  fit_time  pred_time   val_mse  train_mse\n",
       "0    RFR     1     684007        71          0  0.807328   0.057805\n",
       "1     LR     1     684007         0          0  0.753870   0.345002\n",
       "2   XGBR     1     684007        15          0  0.855588   0.058246\n",
       "3    RFR     2    1414796       174          0  2.031950   0.086048\n",
       "4     LR     2    1414796         0          0  1.443614   0.434244\n",
       "5   XGBR     2    1414796        39          0  1.215954   0.100443\n",
       "6    RFR     3    1184065       146          0  0.148644   0.069230\n",
       "7     LR     3    1184065         0          0  0.184113   0.428946\n",
       "8   XGBR     3    1184065        34          0  0.098957   0.081761\n",
       "9    RFR     4    1389338       174          0  0.125993   0.074649\n",
       "10    LR     4    1389338         0          0  0.173815   0.442887\n",
       "11  XGBR     4    1389338        38          0  0.118863   0.085584"
      ]
     },
     "execution_count": 127,
     "metadata": {},
     "output_type": "execute_result"
    }
   ],
   "source": [
    "result_df2 = pd.DataFrame(result)\n",
    "result_df2"
   ]
  },
  {
   "cell_type": "code",
   "execution_count": 128,
   "id": "99d5658c",
   "metadata": {},
   "outputs": [
    {
     "data": {
      "image/png": "[encoded data removed]",
      "text/plain": [
       "<Figure size 792x576 with 1 Axes>"
      ]
     },
     "metadata": {},
     "output_type": "display_data"
    }
   ],
   "source": [
    "sns.set(rc={'figure.figsize':(11,8)})\n",
    "tmp1 = result_df2.drop(['val_mse'], axis=1).rename(columns={'train_mse' : 'mse'})\n",
    "tmp1['type'] = 'train'\n",
    "tmp2 = result_df2.drop(['train_mse'], axis=1).rename(columns={'val_mse' : 'mse'})\n",
    "tmp2['type'] = 'val'\n",
    "sns.lineplot(data=tmp1.append(tmp2), x='fold', y='mse', hue='model', style='type');"
   ]
  },
  {
   "cell_type": "markdown",
   "id": "92d0c18e",
   "metadata": {},
   "source": [
    "Looks pretty similar, RFR and XGBR performing best on folds 3-4."
   ]
  },
  {
   "cell_type": "code",
   "execution_count": 136,
   "id": "05c3745c",
   "metadata": {},
   "outputs": [],
   "source": [
    "rfr = RandomForestRegressor(n_estimators=90, max_depth=18, n_jobs=-1, random_state=1001)\n",
    "rfr.fit(train_x2, train_y2_scaled.ravel())\n",
    "y_pred2_scaled = rfr.predict(val_x2)"
   ]
  },
  {
   "cell_type": "code",
   "execution_count": 137,
   "id": "ee7a165a",
   "metadata": {},
   "outputs": [
    {
     "name": "stdout",
     "output_type": "stream",
     "text": [
      "inversly scaled target: [ 1.19817201  1.09885212  1.19242609 ... 23.55616538  4.83097068\n",
      "  1.02809262]\n",
      "MSE inversly scaled = 9.692172749128527\n",
      "MSE initial = 0.13297932892497866\n"
     ]
    }
   ],
   "source": [
    "y_pred2_inverse = target_scaler.inverse_transform(y_pred2_scaled)\n",
    "print(f'inversly scaled target: {y_pred2_inverse}')\n",
    "print(f'MSE inversly scaled = {mean_squared_error(val_y2, y_pred2_inverse)}')\n",
    "print(f'MSE initial = {mean_squared_error(val_y2_scaled, y_pred2_scaled)}')"
   ]
  },
  {
   "cell_type": "code",
   "execution_count": null,
   "id": "fc52aa20",
   "metadata": {},
   "outputs": [],
   "source": [
    "xgbr = XGBRegressor(n_jobs=-1, random_state=1001)"
   ]
  },
  {
   "cell_type": "markdown",
   "id": "f8ef556f",
   "metadata": {},
   "source": [
    "# Test processing and submission"
   ]
  },
  {
   "cell_type": "code",
   "execution_count": 140,
   "id": "d2ebbab6",
   "metadata": {},
   "outputs": [
    {
     "data": {
      "text/html": [
       "<div>\n",
       "<style scoped>\n",
       "    .dataframe tbody tr th:only-of-type {\n",
       "        vertical-align: middle;\n",
       "    }\n",
       "\n",
       "    .dataframe tbody tr th {\n",
       "        vertical-align: top;\n",
       "    }\n",
       "\n",
       "    .dataframe thead th {\n",
       "        text-align: right;\n",
       "    }\n",
       "</style>\n",
       "<table border=\"1\" class=\"dataframe\">\n",
       "  <thead>\n",
       "    <tr style=\"text-align: right;\">\n",
       "      <th></th>\n",
       "      <th>item_id</th>\n",
       "      <th>shop_id</th>\n",
       "      <th>month_sin</th>\n",
       "      <th>month_cos</th>\n",
       "      <th>item_category_id</th>\n",
       "      <th>city_id</th>\n",
       "      <th>global_cat_id</th>\n",
       "      <th>shop_age_month</th>\n",
       "      <th>item_age_month</th>\n",
       "      <th>month_lag_1</th>\n",
       "      <th>month_lag_3</th>\n",
       "      <th>month_lag_6</th>\n",
       "      <th>month_lag_12</th>\n",
       "    </tr>\n",
       "  </thead>\n",
       "  <tbody>\n",
       "    <tr>\n",
       "      <th>0</th>\n",
       "      <td>27</td>\n",
       "      <td>15</td>\n",
       "      <td>1.000000e+00</td>\n",
       "      <td>6.123234e-17</td>\n",
       "      <td>19</td>\n",
       "      <td>11</td>\n",
       "      <td>5</td>\n",
       "      <td>2.566667</td>\n",
       "      <td>2.533333</td>\n",
       "      <td>0.0</td>\n",
       "      <td>0.0</td>\n",
       "      <td>0.0</td>\n",
       "      <td>0.0</td>\n",
       "    </tr>\n",
       "    <tr>\n",
       "      <th>1</th>\n",
       "      <td>27</td>\n",
       "      <td>15</td>\n",
       "      <td>-5.000000e-01</td>\n",
       "      <td>-8.660254e-01</td>\n",
       "      <td>19</td>\n",
       "      <td>11</td>\n",
       "      <td>5</td>\n",
       "      <td>6.066667</td>\n",
       "      <td>6.033333</td>\n",
       "      <td>0.0</td>\n",
       "      <td>0.0</td>\n",
       "      <td>0.0</td>\n",
       "      <td>0.0</td>\n",
       "    </tr>\n",
       "    <tr>\n",
       "      <th>2</th>\n",
       "      <td>1407</td>\n",
       "      <td>15</td>\n",
       "      <td>1.000000e+00</td>\n",
       "      <td>6.123234e-17</td>\n",
       "      <td>19</td>\n",
       "      <td>11</td>\n",
       "      <td>5</td>\n",
       "      <td>2.266667</td>\n",
       "      <td>0.900000</td>\n",
       "      <td>5.0</td>\n",
       "      <td>0.0</td>\n",
       "      <td>0.0</td>\n",
       "      <td>0.0</td>\n",
       "    </tr>\n",
       "    <tr>\n",
       "      <th>3</th>\n",
       "      <td>1407</td>\n",
       "      <td>15</td>\n",
       "      <td>-8.660254e-01</td>\n",
       "      <td>-5.000000e-01</td>\n",
       "      <td>19</td>\n",
       "      <td>11</td>\n",
       "      <td>5</td>\n",
       "      <td>7.400000</td>\n",
       "      <td>6.033333</td>\n",
       "      <td>0.0</td>\n",
       "      <td>0.0</td>\n",
       "      <td>5.0</td>\n",
       "      <td>0.0</td>\n",
       "    </tr>\n",
       "    <tr>\n",
       "      <th>4</th>\n",
       "      <td>1407</td>\n",
       "      <td>15</td>\n",
       "      <td>-2.449294e-16</td>\n",
       "      <td>1.000000e+00</td>\n",
       "      <td>19</td>\n",
       "      <td>11</td>\n",
       "      <td>5</td>\n",
       "      <td>12.133333</td>\n",
       "      <td>10.766667</td>\n",
       "      <td>0.0</td>\n",
       "      <td>0.0</td>\n",
       "      <td>0.0</td>\n",
       "      <td>0.0</td>\n",
       "    </tr>\n",
       "  </tbody>\n",
       "</table>\n",
       "</div>"
      ],
      "text/plain": [
       "   item_id  shop_id     month_sin     month_cos  item_category_id  city_id  \\\n",
       "0       27       15  1.000000e+00  6.123234e-17                19       11   \n",
       "1       27       15 -5.000000e-01 -8.660254e-01                19       11   \n",
       "2     1407       15  1.000000e+00  6.123234e-17                19       11   \n",
       "3     1407       15 -8.660254e-01 -5.000000e-01                19       11   \n",
       "4     1407       15 -2.449294e-16  1.000000e+00                19       11   \n",
       "\n",
       "   global_cat_id  shop_age_month  item_age_month  month_lag_1  month_lag_3  \\\n",
       "0              5        2.566667        2.533333          0.0          0.0   \n",
       "1              5        6.066667        6.033333          0.0          0.0   \n",
       "2              5        2.266667        0.900000          5.0          0.0   \n",
       "3              5        7.400000        6.033333          0.0          0.0   \n",
       "4              5       12.133333       10.766667          0.0          0.0   \n",
       "\n",
       "   month_lag_6  month_lag_12  \n",
       "0          0.0           0.0  \n",
       "1          0.0           0.0  \n",
       "2          0.0           0.0  \n",
       "3          5.0           0.0  \n",
       "4          0.0           0.0  "
      ]
     },
     "execution_count": 140,
     "metadata": {},
     "output_type": "execute_result"
    }
   ],
   "source": [
    "val_x = val.drop(target, axis=1)\n",
    "val_y = val[target]\n",
    "train_x = train.drop(target, axis=1)\n",
    "train_y = train[target]\n",
    "\n",
    "train_x.head()"
   ]
  },
  {
   "cell_type": "code",
   "execution_count": 222,
   "id": "cf4fe53b",
   "metadata": {},
   "outputs": [],
   "source": [
    "from datetime import date\n",
    "\n",
    "class MonthlySalesTest(BaseEstimator, TransformerMixin):\n",
    "    def __init__(self):\n",
    "        pass\n",
    "    def fit(self, X, y=None ):\n",
    "        return self\n",
    "    def transform(self, X, y=None):\n",
    "        X['date_block_num'] = 34\n",
    "        X['date'] = date(2015, 34 % 12 + 1, 30)\n",
    "        X['date'] = pd.to_datetime(X['date'], format=\"%Y-%m-%d\")\n",
    "        return X\n",
    "\n",
    "pipeline_steps_test = pipeline_steps\n",
    "pipeline_steps_test[0] = (\"montly_sales\", MonthlySalesTest())\n",
    "\n",
    "feature_extraction_pipeline_test = Pipeline(steps=pipeline_steps_test)"
   ]
  },
  {
   "cell_type": "code",
   "execution_count": 198,
   "id": "b28cea93",
   "metadata": {},
   "outputs": [
    {
     "data": {
      "text/plain": [
       "(    shop_id  item_id\n",
       " ID                  \n",
       " 0         5     5037\n",
       " 1         5     5320\n",
       " 2         5     5233\n",
       " 3         5     5232\n",
       " 4         5     5268,\n",
       " (214200, 2))"
      ]
     },
     "execution_count": 198,
     "metadata": {},
     "output_type": "execute_result"
    }
   ],
   "source": [
    "test = pd.read_csv('../data/interim/test_etl.csv', index_col='ID')\n",
    "test.head(), test.shape"
   ]
  },
  {
   "cell_type": "code",
   "execution_count": 240,
   "id": "fc04c01b",
   "metadata": {},
   "outputs": [
    {
     "name": "stdout",
     "output_type": "stream",
     "text": [
      "(214200, 6)\n",
      "(214200, 6)\n",
      "shop_id             False\n",
      "item_id             False\n",
      "date_block_num      False\n",
      "date                False\n",
      "month_sin           False\n",
      "month_cos           False\n",
      "item_name            True\n",
      "item_category_id     True\n",
      "item_appearence      True\n",
      "dtype: bool\n",
      "{14690}\n",
      "(214200, 11)\n",
      "(214200, 10)\n",
      "(214200, 13)\n"
     ]
    },
    {
     "data": {
      "text/plain": [
       "(   shop_id  item_id  month_sin  month_cos  item_category_id  city_id  \\\n",
       " 0        5     5037       -0.5   0.866025              19.0        5   \n",
       " 1        5     5320       -0.5   0.866025              55.0        5   \n",
       " 2        5     5233       -0.5   0.866025              19.0        5   \n",
       " 3        5     5232       -0.5   0.866025              23.0        5   \n",
       " 4        5     5268       -0.5   0.866025              20.0        5   \n",
       " \n",
       "    global_cat_id  shop_age_month  item_age_month  month_lag_1  month_lag_3  \\\n",
       " 0            5.0       34.166667       14.833333          0.0          3.0   \n",
       " 1           12.0       34.166667        0.000000          0.0          0.0   \n",
       " 2            5.0       34.166667        7.700000          1.0          1.0   \n",
       " 3            5.0       34.166667        3.733333          0.0          1.0   \n",
       " 4            5.0       34.166667        0.000000          0.0          0.0   \n",
       " \n",
       "    month_lag_6  month_lag_12  \n",
       " 0          1.0           1.0  \n",
       " 1          0.0           0.0  \n",
       " 2          3.0           0.0  \n",
       " 3          0.0           0.0  \n",
       " 4          0.0           0.0  ,\n",
       " (214200, 13))"
      ]
     },
     "execution_count": 240,
     "metadata": {},
     "output_type": "execute_result"
    }
   ],
   "source": [
    "test_x = feature_extraction_pipeline_test.fit_transform(test)\n",
    "test_x.head(), test_x.shape"
   ]
  },
  {
   "cell_type": "code",
   "execution_count": 141,
   "id": "57dd280b",
   "metadata": {},
   "outputs": [
    {
     "data": {
      "text/plain": [
       "(8.545596691765521, 8.871586979328535)"
      ]
     },
     "execution_count": 141,
     "metadata": {},
     "output_type": "execute_result"
    }
   ],
   "source": [
    "rfr = RandomForestRegressor(n_estimators=70, max_depth=17, n_jobs=-1, random_state=1001)\n",
    "rfr.fit(train_x, train_y)\n",
    "train_mse = mean_squared_error(train_y, rfr.predict(train_x))\n",
    "val_mse = mean_squared_error(val_y, rfr.predict(val_x))\n",
    "train_mse, val_mse"
   ]
  },
  {
   "cell_type": "code",
   "execution_count": 242,
   "id": "02962aac",
   "metadata": {},
   "outputs": [
    {
     "data": {
      "text/html": [
       "<div>\n",
       "<style scoped>\n",
       "    .dataframe tbody tr th:only-of-type {\n",
       "        vertical-align: middle;\n",
       "    }\n",
       "\n",
       "    .dataframe tbody tr th {\n",
       "        vertical-align: top;\n",
       "    }\n",
       "\n",
       "    .dataframe thead th {\n",
       "        text-align: right;\n",
       "    }\n",
       "</style>\n",
       "<table border=\"1\" class=\"dataframe\">\n",
       "  <thead>\n",
       "    <tr style=\"text-align: right;\">\n",
       "      <th></th>\n",
       "      <th>index</th>\n",
       "      <th>item_cnt_month</th>\n",
       "    </tr>\n",
       "  </thead>\n",
       "  <tbody>\n",
       "    <tr>\n",
       "      <th>0</th>\n",
       "      <td>0</td>\n",
       "      <td>1.788466</td>\n",
       "    </tr>\n",
       "    <tr>\n",
       "      <th>1</th>\n",
       "      <td>1</td>\n",
       "      <td>1.083406</td>\n",
       "    </tr>\n",
       "    <tr>\n",
       "      <th>2</th>\n",
       "      <td>2</td>\n",
       "      <td>1.894598</td>\n",
       "    </tr>\n",
       "    <tr>\n",
       "      <th>3</th>\n",
       "      <td>3</td>\n",
       "      <td>1.333744</td>\n",
       "    </tr>\n",
       "    <tr>\n",
       "      <th>4</th>\n",
       "      <td>4</td>\n",
       "      <td>4.611447</td>\n",
       "    </tr>\n",
       "    <tr>\n",
       "      <th>...</th>\n",
       "      <td>...</td>\n",
       "      <td>...</td>\n",
       "    </tr>\n",
       "    <tr>\n",
       "      <th>214195</th>\n",
       "      <td>214195</td>\n",
       "      <td>1.248484</td>\n",
       "    </tr>\n",
       "    <tr>\n",
       "      <th>214196</th>\n",
       "      <td>214196</td>\n",
       "      <td>1.377562</td>\n",
       "    </tr>\n",
       "    <tr>\n",
       "      <th>214197</th>\n",
       "      <td>214197</td>\n",
       "      <td>1.478128</td>\n",
       "    </tr>\n",
       "    <tr>\n",
       "      <th>214198</th>\n",
       "      <td>214198</td>\n",
       "      <td>1.132972</td>\n",
       "    </tr>\n",
       "    <tr>\n",
       "      <th>214199</th>\n",
       "      <td>214199</td>\n",
       "      <td>1.132972</td>\n",
       "    </tr>\n",
       "  </tbody>\n",
       "</table>\n",
       "<p>214200 rows × 2 columns</p>\n",
       "</div>"
      ],
      "text/plain": [
       "         index  item_cnt_month\n",
       "0            0        1.788466\n",
       "1            1        1.083406\n",
       "2            2        1.894598\n",
       "3            3        1.333744\n",
       "4            4        4.611447\n",
       "...        ...             ...\n",
       "214195  214195        1.248484\n",
       "214196  214196        1.377562\n",
       "214197  214197        1.478128\n",
       "214198  214198        1.132972\n",
       "214199  214199        1.132972\n",
       "\n",
       "[214200 rows x 2 columns]"
      ]
     },
     "execution_count": 242,
     "metadata": {},
     "output_type": "execute_result"
    }
   ],
   "source": [
    "y_test = rfr.predict(test_x)\n",
    "y_test = pd.DataFrame(y_test, columns=['item_cnt_month']).reset_index()\n",
    "y_test.to_csv('../data/processed/sub_exp.csv', header=['ID', 'item_cnt_month'], index=False)\n",
    "y_test"
   ]
  },
  {
   "cell_type": "markdown",
   "id": "2e9ecb0e",
   "metadata": {},
   "source": [
    "## Feature engineering ideas\n",
    "\n",
    "* handle outliars\n",
    "* "
   ]
  },
  {
   "cell_type": "code",
   "execution_count": null,
   "id": "453a327b",
   "metadata": {},
   "outputs": [],
   "source": [
    "train_trimmed_idx = (train_y > train_y.quantile(1-.99999)) & (train_y < train_y.quantile(.99999))\n",
    "val_trimmed_idx = (val_y > train_y.quantile(1-.99999)) & (val_y < train_y.quantile(.99999))"
   ]
  },
  {
   "cell_type": "code",
   "execution_count": null,
   "id": "413f175f",
   "metadata": {},
   "outputs": [],
   "source": [
    "train_x_trimmed = train_x[train_trimmed_idx]\n",
    "train_y_trimmed = train_y[train_trimmed_idx]\n",
    "val_x_trimmed = val_x[val_trimmed_idx]\n",
    "val_y_trimmed = val_y[val_trimmed_idx]"
   ]
  }
 ],
 "metadata": {
  "kernelspec": {
   "display_name": "Python 3",
   "language": "python",
   "name": "python3"
  },
  "language_info": {
   "codemirror_mode": {
    "name": "ipython",
    "version": 3
   },
   "file_extension": ".py",
   "mimetype": "text/x-python",
   "name": "python",
   "nbconvert_exporter": "python",
   "pygments_lexer": "ipython3",
   "version": "3.8.8"
  }
 },
 "nbformat": 4,
 "nbformat_minor": 5
}
