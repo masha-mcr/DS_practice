{
 "cells": [
  {
   "cell_type": "code",
   "execution_count": 1,
   "id": "849c8290",
   "metadata": {},
   "outputs": [],
   "source": [
    "import pandas as pd"
   ]
  },
  {
   "cell_type": "markdown",
   "id": "ded63ac6",
   "metadata": {},
   "source": [
    "## Reading some buckets of sales data "
   ]
  },
  {
   "cell_type": "code",
   "execution_count": 2,
   "id": "03213453",
   "metadata": {},
   "outputs": [],
   "source": [
    "train_data1 = pd.read_csv('../data/interim/train_2013-11_to_2014-12.csv', parse_dates=['date'])\n",
    "val_data1 = pd.read_csv('../data/interim/val_2015-1.csv', parse_dates=['date'])\n",
    "\n",
    "train_data2 = pd.read_csv('../data/interim/train_2013-1_to_2015-4.csv', parse_dates=['date'])\n",
    "val_data2 = pd.read_csv('../data/interim/val_2015-5.csv', parse_dates=['date'])\n",
    "\n",
    "train_data3 = pd.read_csv('../data/interim/train_2013-6_to_2015-6.csv', parse_dates=['date'])\n",
    "val_data3 = pd.read_csv('../data/interim/val_2015-7.csv', parse_dates=['date'])\n",
    "\n",
    "train_data4 = pd.read_csv('../data/interim/train_2013-3_to_2015-7.csv', parse_dates=['date'])\n",
    "val_data4 = pd.read_csv('../data/interim/val_2015-8.csv', parse_dates=['date'])"
   ]
  },
  {
   "cell_type": "markdown",
   "id": "aa1eeab5",
   "metadata": {},
   "source": [
    "### And additional tables"
   ]
  },
  {
   "cell_type": "code",
   "execution_count": 3,
   "id": "78c20eb1",
   "metadata": {},
   "outputs": [],
   "source": [
    "shops = pd.read_csv('../data/interim/shops_cities.csv')\n",
    "items = pd.read_csv('../data/interim/items_etl.csv')\n",
    "item_cat = pd.read_csv('../data/interim/item_categories_global.csv')\n",
    "\n",
    "datasets = {'shops': shops, 'items': items, 'item_categories': item_cat}"
   ]
  },
  {
   "cell_type": "markdown",
   "id": "5c8ce6e8",
   "metadata": {},
   "source": [
    "## Feature extraction\n",
    "\n",
    "I decided to define feature extraction layer as a pipeline that modifies initial data step by step. Here ate the steps:\n",
    "\n",
    "1) getting `year` and `month` from `date`\n",
    "\n",
    "2) grouping by month and calculating montly sales feature, our target\n",
    "\n",
    "3) merging with `items`, `shops` and `item_categories` tables to add information (such as `city`, `item_category` and `global_category` features)"
   ]
  },
  {
   "cell_type": "code",
   "execution_count": 4,
   "id": "969d898c",
   "metadata": {},
   "outputs": [],
   "source": [
    "from sklearn.base import BaseEstimator, TransformerMixin\n",
    "from sklearn.pipeline import Pipeline"
   ]
  },
  {
   "cell_type": "code",
   "execution_count": 5,
   "id": "8b881dec",
   "metadata": {},
   "outputs": [],
   "source": [
    "class FeaturesFromDate(BaseEstimator, TransformerMixin):\n",
    "    def __init__(self):\n",
    "        pass\n",
    "    def fit(self, X, y=None ):\n",
    "        return self\n",
    "    def transform(self, X, y=None):\n",
    "        X['year'] = X['date'].dt.year\n",
    "        X['month'] = X['date'].dt.month\n",
    "        return X\n",
    "    \n",
    "class MonthlySales(BaseEstimator, TransformerMixin):\n",
    "    def __init__(self):\n",
    "        pass\n",
    "    def fit(self, X, y=None ):\n",
    "        return self\n",
    "    def transform(self, X, y=None):\n",
    "        X = X.groupby(['month','year','item_id', 'shop_id']).agg({'item_cnt_day':'sum'}).reset_index().rename({'item_cnt_day':'item_cnt_month'}, axis=1)\n",
    "        return X\n",
    "\n",
    "class MergeTables(BaseEstimator, TransformerMixin):\n",
    "    def __init__(self, lookup_tables):\n",
    "        self.items = lookup_tables['items']\n",
    "        self.shops = lookup_tables['shops']\n",
    "        self.item_cat = lookup_tables['item_categories']\n",
    "    def fit(self, X, y=None ):\n",
    "        return self\n",
    "    def transform(self, X, y=None):\n",
    "        X = X.merge(self.items, on='item_id').merge(self.shops, on='shop_id').merge(self.item_cat, on='item_category_id')\n",
    "        X.drop(['item_name', 'shop_name', 'item_category_name', 'city', 'global_cat'], axis=1, inplace=True)\n",
    "        return X\n",
    "\n",
    "feature_extraction_pipeline = Pipeline(steps = [ \n",
    "    (\"date_feat\", FeaturesFromDate()),\n",
    "    (\"montly_sales\", MonthlySales()),\n",
    "    (\"merge\", MergeTables(datasets)),\n",
    "])"
   ]
  },
  {
   "cell_type": "markdown",
   "id": "d38a0ccf",
   "metadata": {},
   "source": [
    "### Choosing best training data subset"
   ]
  },
  {
   "cell_type": "code",
   "execution_count": 14,
   "id": "b974351d",
   "metadata": {},
   "outputs": [],
   "source": [
    "from sklearn.ensemble import RandomForestRegressor\n",
    "from sklearn.svm import SVR\n",
    "from sklearn.linear_model import LinearRegression\n",
    "from sklearn.neighbors import KNeighborsRegressor\n",
    "from xgboost import XGBRegressor\n",
    "from sklearn.metrics import mean_squared_error\n",
    "\n",
    "from tqdm.notebook import tqdm\n",
    "from datetime import datetime"
   ]
  },
  {
   "cell_type": "code",
   "execution_count": 15,
   "id": "8b648cd5",
   "metadata": {},
   "outputs": [
    {
     "data": {
      "application/vnd.jupyter.widget-view+json": {
       "model_id": "02ba716dbdfc480fb15a2c185278ec37",
       "version_major": 2,
       "version_minor": 0
      },
      "text/plain": [
       "  0%|          | 0/16 [00:00<?, ?it/s]"
      ]
     },
     "metadata": {},
     "output_type": "display_data"
    }
   ],
   "source": [
    "result = []\n",
    "fold = 1\n",
    "models = [RandomForestRegressor(max_depth=15, n_jobs=-1),\n",
    "          KNeighborsRegressor(),\n",
    "          LinearRegression(),\n",
    "          XGBRegressor(n_jobs=-1)]\n",
    "model_type = ['RFR','KNN','LR', 'XGBR']\n",
    "\n",
    "with tqdm(total=len(model_type) * 4) as pbar:\n",
    "    for val, train in zip([val_data1, val_data2, val_data3, val_data4], [train_data1, train_data2, train_data3, train_data4]):\n",
    "        \n",
    "        train = feature_extraction_pipeline.fit_transform(train)\n",
    "        val = feature_extraction_pipeline.transform(val)\n",
    "        \n",
    "        val_x = val.drop('item_cnt_month', axis=1)\n",
    "        val_y = val['item_cnt_month']\n",
    "        train_x = train.drop('item_cnt_month', axis=1)\n",
    "        train_y = train['item_cnt_month']\n",
    "\n",
    "        for i, model in enumerate(models):\n",
    "            fit_time_start = datetime.now()\n",
    "            model.fit(train_x, train_y)\n",
    "            fit_time_end = datetime.now()\n",
    "            y_pred = model.predict(val_x)\n",
    "            pred_time_end = datetime.now()\n",
    "            result.append({'type' : model_type[i],\n",
    "                           'fold' : fold,\n",
    "                           'data_size' : train_x.shape[0],\n",
    "                           'fit_time' : (fit_time_end - fit_time_start).seconds,\n",
    "                           'pred_time' : (pred_time_end - fit_time_end).seconds,\n",
    "                           'mse' : mean_squared_error(val_y, y_pred),\n",
    "                           'model': model})\n",
    "            pbar.update(1)\n",
    "        fold += 1"
   ]
  },
  {
   "cell_type": "code",
   "execution_count": 16,
   "id": "b0065dfd",
   "metadata": {},
   "outputs": [
    {
     "data": {
      "text/html": [
       "<div>\n",
       "<style scoped>\n",
       "    .dataframe tbody tr th:only-of-type {\n",
       "        vertical-align: middle;\n",
       "    }\n",
       "\n",
       "    .dataframe tbody tr th {\n",
       "        vertical-align: top;\n",
       "    }\n",
       "\n",
       "    .dataframe thead th {\n",
       "        text-align: right;\n",
       "    }\n",
       "</style>\n",
       "<table border=\"1\" class=\"dataframe\">\n",
       "  <thead>\n",
       "    <tr style=\"text-align: right;\">\n",
       "      <th></th>\n",
       "      <th>type</th>\n",
       "      <th>fold</th>\n",
       "      <th>data_size</th>\n",
       "      <th>fit_time</th>\n",
       "      <th>mse</th>\n",
       "    </tr>\n",
       "  </thead>\n",
       "  <tbody>\n",
       "    <tr>\n",
       "      <th>0</th>\n",
       "      <td>RFR</td>\n",
       "      <td>1</td>\n",
       "      <td>684007</td>\n",
       "      <td>22</td>\n",
       "      <td>91.072778</td>\n",
       "    </tr>\n",
       "    <tr>\n",
       "      <th>1</th>\n",
       "      <td>KNN</td>\n",
       "      <td>1</td>\n",
       "      <td>684007</td>\n",
       "      <td>2</td>\n",
       "      <td>148.770005</td>\n",
       "    </tr>\n",
       "    <tr>\n",
       "      <th>2</th>\n",
       "      <td>LR</td>\n",
       "      <td>1</td>\n",
       "      <td>684007</td>\n",
       "      <td>0</td>\n",
       "      <td>123.526754</td>\n",
       "    </tr>\n",
       "    <tr>\n",
       "      <th>3</th>\n",
       "      <td>XGBR</td>\n",
       "      <td>1</td>\n",
       "      <td>684007</td>\n",
       "      <td>9</td>\n",
       "      <td>78.418209</td>\n",
       "    </tr>\n",
       "    <tr>\n",
       "      <th>4</th>\n",
       "      <td>RFR</td>\n",
       "      <td>2</td>\n",
       "      <td>1414796</td>\n",
       "      <td>55</td>\n",
       "      <td>116.748093</td>\n",
       "    </tr>\n",
       "    <tr>\n",
       "      <th>5</th>\n",
       "      <td>KNN</td>\n",
       "      <td>2</td>\n",
       "      <td>1414796</td>\n",
       "      <td>5</td>\n",
       "      <td>118.090665</td>\n",
       "    </tr>\n",
       "    <tr>\n",
       "      <th>6</th>\n",
       "      <td>LR</td>\n",
       "      <td>2</td>\n",
       "      <td>1414796</td>\n",
       "      <td>0</td>\n",
       "      <td>101.527710</td>\n",
       "    </tr>\n",
       "    <tr>\n",
       "      <th>7</th>\n",
       "      <td>XGBR</td>\n",
       "      <td>2</td>\n",
       "      <td>1414796</td>\n",
       "      <td>22</td>\n",
       "      <td>110.672760</td>\n",
       "    </tr>\n",
       "    <tr>\n",
       "      <th>8</th>\n",
       "      <td>RFR</td>\n",
       "      <td>3</td>\n",
       "      <td>1184065</td>\n",
       "      <td>45</td>\n",
       "      <td>7.440141</td>\n",
       "    </tr>\n",
       "    <tr>\n",
       "      <th>9</th>\n",
       "      <td>KNN</td>\n",
       "      <td>3</td>\n",
       "      <td>1184065</td>\n",
       "      <td>5</td>\n",
       "      <td>17.773258</td>\n",
       "    </tr>\n",
       "    <tr>\n",
       "      <th>10</th>\n",
       "      <td>LR</td>\n",
       "      <td>3</td>\n",
       "      <td>1184065</td>\n",
       "      <td>0</td>\n",
       "      <td>27.251254</td>\n",
       "    </tr>\n",
       "    <tr>\n",
       "      <th>11</th>\n",
       "      <td>XGBR</td>\n",
       "      <td>3</td>\n",
       "      <td>1184065</td>\n",
       "      <td>20</td>\n",
       "      <td>7.905200</td>\n",
       "    </tr>\n",
       "    <tr>\n",
       "      <th>12</th>\n",
       "      <td>RFR</td>\n",
       "      <td>4</td>\n",
       "      <td>1389338</td>\n",
       "      <td>60</td>\n",
       "      <td>8.196281</td>\n",
       "    </tr>\n",
       "    <tr>\n",
       "      <th>13</th>\n",
       "      <td>KNN</td>\n",
       "      <td>4</td>\n",
       "      <td>1389338</td>\n",
       "      <td>6</td>\n",
       "      <td>20.583524</td>\n",
       "    </tr>\n",
       "    <tr>\n",
       "      <th>14</th>\n",
       "      <td>LR</td>\n",
       "      <td>4</td>\n",
       "      <td>1389338</td>\n",
       "      <td>0</td>\n",
       "      <td>27.603601</td>\n",
       "    </tr>\n",
       "    <tr>\n",
       "      <th>15</th>\n",
       "      <td>XGBR</td>\n",
       "      <td>4</td>\n",
       "      <td>1389338</td>\n",
       "      <td>21</td>\n",
       "      <td>8.973093</td>\n",
       "    </tr>\n",
       "  </tbody>\n",
       "</table>\n",
       "</div>"
      ],
      "text/plain": [
       "    type  fold  data_size  fit_time         mse\n",
       "0    RFR     1     684007        22   91.072778\n",
       "1    KNN     1     684007         2  148.770005\n",
       "2     LR     1     684007         0  123.526754\n",
       "3   XGBR     1     684007         9   78.418209\n",
       "4    RFR     2    1414796        55  116.748093\n",
       "5    KNN     2    1414796         5  118.090665\n",
       "6     LR     2    1414796         0  101.527710\n",
       "7   XGBR     2    1414796        22  110.672760\n",
       "8    RFR     3    1184065        45    7.440141\n",
       "9    KNN     3    1184065         5   17.773258\n",
       "10    LR     3    1184065         0   27.251254\n",
       "11  XGBR     3    1184065        20    7.905200\n",
       "12   RFR     4    1389338        60    8.196281\n",
       "13   KNN     4    1389338         6   20.583524\n",
       "14    LR     4    1389338         0   27.603601\n",
       "15  XGBR     4    1389338        21    8.973093"
      ]
     },
     "execution_count": 16,
     "metadata": {},
     "output_type": "execute_result"
    }
   ],
   "source": [
    "result_df = pd.DataFrame(result).drop(['model'], axis=1)\n",
    "result_df"
   ]
  },
  {
   "cell_type": "code",
   "execution_count": 18,
   "id": "3484f495",
   "metadata": {},
   "outputs": [],
   "source": [
    "import seaborn as sns"
   ]
  },
  {
   "cell_type": "code",
   "execution_count": 19,
   "id": "c3603d6d",
   "metadata": {},
   "outputs": [
    {
     "data": {
      "text/plain": [
       "<AxesSubplot:xlabel='fold', ylabel='mse'>"
      ]
     },
     "execution_count": 19,
     "metadata": {},
     "output_type": "execute_result"
    },
    {
     "data": {
      "image/png": "[encoded data removed]",
      "text/plain": [
       "<Figure size 432x288 with 1 Axes>"
      ]
     },
     "metadata": {
      "needs_background": "light"
     },
     "output_type": "display_data"
    }
   ],
   "source": [
    "sns.lineplot(data=result_df, x='fold', y='mse', hue='type');"
   ]
  },
  {
   "cell_type": "markdown",
   "id": "3d6cb9ca",
   "metadata": {},
   "source": [
    "All models performed significantly better on fold 3 and 4, with *RandomForestRegressor* and *XGBRegressor* performing best on all folds (XGBR slightly better).\n",
    "\n",
    "For now we will choose fold 3 for further experiments, since it's smaller."
   ]
  },
  {
   "cell_type": "markdown",
   "id": "76d867bd",
   "metadata": {},
   "source": [
    "## Some feature engineering and outlier handling"
   ]
  },
  {
   "cell_type": "code",
   "execution_count": null,
   "id": "37b1d17b",
   "metadata": {},
   "outputs": [],
   "source": [
    "train_x, train_y, val_x, val_y = x_y_split(train_data3, val_data3)"
   ]
  },
  {
   "cell_type": "code",
   "execution_count": null,
   "id": "c215ad35",
   "metadata": {},
   "outputs": [],
   "source": [
    "train_trimmed_idx = (train_y > train_y.quantile(1-.99999)) & (train_y < train_y.quantile(.99999))\n",
    "val_trimmed_idx = (val_y > train_y.quantile(1-.99999)) & (val_y < train_y.quantile(.99999))"
   ]
  },
  {
   "cell_type": "code",
   "execution_count": null,
   "id": "8314f333",
   "metadata": {},
   "outputs": [],
   "source": [
    "train_x_trimmed = train_x[train_trimmed_idx]\n",
    "train_y_trimmed = train_y[train_trimmed_idx]\n",
    "val_x_trimmed = val_x[val_trimmed_idx]\n",
    "val_y_trimmed = val_y[val_trimmed_idx]"
   ]
  },
  {
   "cell_type": "code",
   "execution_count": null,
   "id": "d9059e82",
   "metadata": {},
   "outputs": [],
   "source": [
    "def build_features(df, lookup_tables, history_start):\n",
    "    data = df.copy()\n",
    "    data['year'] = df['date'].dt.year\n",
    "    data['month'] = df['date'].dt.month\n",
    "    shop_appearence = train_data3.groupby('shop_id', as_index=False).agg({'date' : 'min'})\n",
    "    shop_appearence['shop_first_appeared_days'] = (shop_appearence['date'] - history_start).dt.days\n",
    "    shop_appearence.drop(['date'],axis=1, inplace=True)\n",
    "    data = data.groupby(['month','year','item_id', 'shop_id']).agg({'item_cnt_day':'sum'}).reset_index().rename({'item_cnt_day':'item_cnt_month'}, axis=1)\n",
    "    data = data.merge(lookup_tables['items'], on='item_id').merge(lookup_tables['shops'], on='shop_id').merge(lookup_tables['item_categories'], on='item_category_id')\n",
    "    data['global_cat'] = data['item_category_name'].apply(lambda s: re.split(' (-|\\()', s)[0])\n",
    "    data.drop(['item_name', 'shop_name', 'item_category_name', 'city', 'global_cat'], axis=1, inplace=True)\n",
    "    data = data.merge(shop_appearence, on='shop_id')\n",
    "    return data\n",
    "\n",
    "def x_y_split(train_data, val_data):\n",
    "    val_data['date'] = pd.to_datetime(val_data['date'], format=\"%Y-%m-%d\")\n",
    "    train_data['date'] = pd.to_datetime(train_data['date'], format=\"%Y-%m-%d\")\n",
    "\n",
    "    val = build_features(val_data, datasets, train_data['date'].min())\n",
    "    train = build_features(train_data, datasets, train_data['date'].min())\n",
    "\n",
    "    val_x = val.drop('item_cnt_month', axis=1)\n",
    "    val_y = val['item_cnt_month']\n",
    "    train_x = train.drop('item_cnt_month', axis=1)\n",
    "    train_y = train['item_cnt_month']\n",
    "    return train_x, train_y, val_x, val_y"
   ]
  },
  {
   "cell_type": "code",
   "execution_count": null,
   "id": "a1523c34",
   "metadata": {},
   "outputs": [],
   "source": [
    "train_x, train_y, val_x, val_y = x_y_split(train_data3, val_data3)"
   ]
  },
  {
   "cell_type": "code",
   "execution_count": null,
   "id": "a46d5306",
   "metadata": {},
   "outputs": [],
   "source": [
    "sales = pd.read_csv('../data/interim/sales_train_etl.csv')\n",
    "sales['date'] = pd.to_datetime(sales['date'], format=\"%d.%m.%Y\")"
   ]
  },
  {
   "cell_type": "code",
   "execution_count": null,
   "id": "86011571",
   "metadata": {},
   "outputs": [],
   "source": [
    "shop_appearence = sales.groupby('shop_id').agg({'date':['min', 'max']}).reset_index()"
   ]
  },
  {
   "cell_type": "code",
   "execution_count": null,
   "id": "dd249e09",
   "metadata": {},
   "outputs": [],
   "source": [
    "shops['first_appearence'] = shop_appearence[('date', 'min')]\n",
    "shops['last_appearence'] = shop_appearence[('date', 'max')]"
   ]
  },
  {
   "cell_type": "code",
   "execution_count": null,
   "id": "b2164002",
   "metadata": {},
   "outputs": [],
   "source": [
    "def clip_to_timeframe(df, start_date, end_date):\n",
    "    data = df.copy()\n",
    "    data.loc[data['first_appearence'] < start_date, 'first_appearence'] = start_date\n",
    "    data.loc[data['last_appearence'] > end_date, 'last_appearence'] = end_date\n",
    "    return data"
   ]
  },
  {
   "cell_type": "code",
   "execution_count": null,
   "id": "131bb8f2",
   "metadata": {},
   "outputs": [],
   "source": [
    "shops.head(10)"
   ]
  },
  {
   "cell_type": "code",
   "execution_count": null,
   "id": "047d6309",
   "metadata": {},
   "outputs": [],
   "source": [
    "shops1 = clip_to_timeframe(shops, train_data3['date'].min(), val_data3['date'].max())\n",
    "shops1 "
   ]
  },
  {
   "cell_type": "code",
   "execution_count": null,
   "id": "1acbd601",
   "metadata": {},
   "outputs": [],
   "source": []
  },
  {
   "cell_type": "code",
   "execution_count": null,
   "id": "30b9be0a",
   "metadata": {},
   "outputs": [],
   "source": []
  }
 ],
 "metadata": {
  "kernelspec": {
   "display_name": "Python 3",
   "language": "python",
   "name": "python3"
  },
  "language_info": {
   "codemirror_mode": {
    "name": "ipython",
    "version": 3
   },
   "file_extension": ".py",
   "mimetype": "text/x-python",
   "name": "python",
   "nbconvert_exporter": "python",
   "pygments_lexer": "ipython3",
   "version": "3.8.8"
  }
 },
 "nbformat": 4,
 "nbformat_minor": 5
}
