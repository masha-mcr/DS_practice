{
 "cells": [
  {
   "cell_type": "code",
   "execution_count": 1,
   "id": "7f39586e",
   "metadata": {},
   "outputs": [],
   "source": [
    "import pandas as pd\n",
    "import numpy as np"
   ]
  },
  {
   "cell_type": "markdown",
   "id": "05c2b4e1",
   "metadata": {},
   "source": [
    "## Reading some buckets of sales data "
   ]
  },
  {
   "cell_type": "code",
   "execution_count": 2,
   "id": "e082fe94",
   "metadata": {},
   "outputs": [],
   "source": [
    "train_data1 = pd.read_csv('../data/interim/train_2013-11_to_2014-12.csv', parse_dates=['date'])\n",
    "val_data1 = pd.read_csv('../data/interim/val_2015-1.csv', parse_dates=['date'])\n",
    "\n",
    "train_data2 = pd.read_csv('../data/interim/train_2013-1_to_2015-4.csv', parse_dates=['date'])\n",
    "val_data2 = pd.read_csv('../data/interim/val_2015-5.csv', parse_dates=['date'])\n",
    "\n",
    "train_data3 = pd.read_csv('../data/interim/train_2013-6_to_2015-6.csv', parse_dates=['date'])\n",
    "val_data3 = pd.read_csv('../data/interim/val_2015-7.csv', parse_dates=['date'])\n",
    "\n",
    "train_data4 = pd.read_csv('../data/interim/train_2013-3_to_2015-7.csv', parse_dates=['date'])\n",
    "val_data4 = pd.read_csv('../data/interim/val_2015-8.csv', parse_dates=['date'])"
   ]
  },
  {
   "cell_type": "markdown",
   "id": "b6035044",
   "metadata": {},
   "source": [
    "### And additional tables"
   ]
  },
  {
   "cell_type": "code",
   "execution_count": 3,
   "id": "fc3e5473",
   "metadata": {},
   "outputs": [],
   "source": [
    "shops = pd.read_csv('../data/interim/shops_appearence.csv', parse_dates=['shop_appearence'])\n",
    "items = pd.read_csv('../data/interim/items_appearence.csv', parse_dates=['item_appearence'])\n",
    "item_cat = pd.read_csv('../data/interim/item_categories_global.csv')\n",
    "sales_pivot = pd.read_csv('../data/interim/sales_pivot.csv')\n",
    "datasets = {'shops': shops, 'items': items, 'item_categories': item_cat, 'sales_lags': sales_pivot}"
   ]
  },
  {
   "cell_type": "markdown",
   "id": "57bedbf2",
   "metadata": {},
   "source": [
    "## Feature extraction\n",
    "\n",
    "I decided to define feature extraction layer as a pipeline that modifies initial data step by step. Here ate the steps:\n",
    "\n",
    "1) getting `month` from `date` and encoding it\n",
    "\n",
    "2) merging with `items`, `shops` and `item_categories` tables to add information (such as `city`, `item_category` and `global_category` features)\n",
    "\n",
    "3) calculating how long both item and shop are present in dataset\n",
    "\n",
    "4) grouping by month and calculating montly sales feature, our target\n",
    "\n",
    "5) adding previous month sales (1, 3, 6 and 12 month ago)\n"
   ]
  },
  {
   "cell_type": "code",
   "execution_count": 4,
   "id": "f3789139",
   "metadata": {},
   "outputs": [],
   "source": [
    "from sklearn.base import BaseEstimator, TransformerMixin\n",
    "from sklearn.pipeline import Pipeline"
   ]
  },
  {
   "cell_type": "code",
   "execution_count": 5,
   "id": "d0b1fc5f",
   "metadata": {},
   "outputs": [],
   "source": [
    "class MonthFromDate(BaseEstimator, TransformerMixin):\n",
    "    def __init__(self):\n",
    "        pass\n",
    "    def fit(self, X, y=None ):\n",
    "        return self\n",
    "    def transform(self, X, y=None):\n",
    "        X['month'] = X['date_block_num'] % 12 + 1\n",
    "        X['month_sin'] = np.sin(2 * np.pi * X['month']/12.0)\n",
    "        X['month_cos'] = np.cos(2 * np.pi * X['month']/12.0)\n",
    "        X.drop(['month'], axis=1, inplace=True) \n",
    "#        print('Month encoding stage complete')\n",
    "        return X\n",
    "    \n",
    "class ShopItemAge(BaseEstimator, TransformerMixin):\n",
    "    def __init__(self):\n",
    "        pass\n",
    "    def fit(self, X, y=None ):\n",
    "        return self\n",
    "    def transform(self, X, y=None):\n",
    "        X['shop_age_month'] = (X['date'] - X['shop_appearence']).dt.days / 30\n",
    "        X['item_age_month'] = (X['date'] - X['item_appearence']).dt.days / 30\n",
    "        X.drop(['shop_appearence','item_appearence','date'], axis=1, inplace=True) \n",
    "\n",
    "#        print('Item and shop ages calculation complete')\n",
    "        return X\n",
    "    \n",
    "class MonthlySales(BaseEstimator, TransformerMixin):\n",
    "    def __init__(self):\n",
    "        pass\n",
    "    def fit(self, X, y=None ):\n",
    "        return self\n",
    "    def transform(self, X, y=None):\n",
    "        X = X.groupby(['date_block_num','item_id', 'shop_id']).agg({'item_cnt_day':'sum',\n",
    "                                                                    'date':'max',\n",
    "                                                                   }).reset_index().rename({'item_cnt_day':'item_cnt_month'}, axis=1)\n",
    "#        print('Monthly sales calculated')\n",
    "        \n",
    "        return X\n",
    "\n",
    "class MergeTables(BaseEstimator, TransformerMixin):\n",
    "    def __init__(self, lookup_tables):\n",
    "        self.items = lookup_tables['items']\n",
    "        self.shops = lookup_tables['shops']\n",
    "        self.item_cat = lookup_tables['item_categories']\n",
    "        self.sales_lags = lookup_tables['sales_lags']\n",
    "    def fit(self, X, y=None ):\n",
    "        return self\n",
    "    def transform(self, X, y=None):\n",
    "        X = X.merge(self.items, on='item_id', how='left')\n",
    "        X = X.merge(self.shops, on='shop_id', how='left')\n",
    "        X = X.merge(self.item_cat, on='item_category_id', how='left')\n",
    "        X = X.merge(self.sales_lags, on=['item_id', 'shop_id'], how='left')\n",
    "        X['item_appearence'] = X['item_appearence'].fillna(X['date'])\n",
    "        X['shop_appearence'] = X['shop_appearence'].fillna(X['date'])\n",
    "        X = X.fillna(0)\n",
    "        X.drop(['item_name', 'shop_name', 'item_category_name', 'city', 'global_cat'], axis=1, inplace=True)\n",
    "#        print('Merging stage complete')\n",
    "        return X\n",
    "\n",
    "extraction_steps = [(\"montly_sales\", MonthlySales()),\n",
    "                (\"month_feat\", MonthFromDate()),\n",
    "                (\"merge\", MergeTables(datasets)),\n",
    "                (\"ages\", ShopItemAge())\n",
    "            ]\n",
    "        \n",
    "feature_extraction_pipeline = Pipeline(steps=extraction_steps)"
   ]
  },
  {
   "cell_type": "code",
   "execution_count": 6,
   "id": "e4c51995",
   "metadata": {},
   "outputs": [],
   "source": [
    "class GetLagSales(BaseEstimator, TransformerMixin):\n",
    "    def __init__(self, lags):\n",
    "        self.lags = lags\n",
    "    def fit(self, X, y=None ):\n",
    "        return self\n",
    "    def transform(self, X, y=None):\n",
    "        date_block = X['date_block_num'].iloc[0]\n",
    "        for lag in self.lags:\n",
    "            if date_block - lag >= 0:\n",
    "                X[f'month_lag_{lag}'] = X.loc[:, str(int(date_block-lag))]\n",
    "            else:\n",
    "                X[f'month_lag_{lag}'] = 0\n",
    "        return X\n",
    "    \n",
    "class GetSumOfSales(BaseEstimator, TransformerMixin):\n",
    "    def __init__(self, lags):\n",
    "        self.lags = lags\n",
    "    def fit(self, X, y=None ):\n",
    "        return self\n",
    "    def transform(self, X, y=None):\n",
    "        date_block = X['date_block_num'].iloc[0]\n",
    "        for lag in self.lags:\n",
    "            cols_to_sum = [str(int(date_block-i)) for i in range(1, lag + 1) if date_block-i >= 0]\n",
    "            X[f'sum_sales_lag_{lag}'] = X.loc[:,cols_to_sum].sum(axis=1)\n",
    "        X.drop([str(i) for i in range(34)], axis=1, inplace=True)\n",
    "        X.drop(['date_block_num'], axis=1, inplace=True)\n",
    "        return X\n",
    "    \n",
    "    \n",
    "lag_steps = [(\"past_month_sales\", GetLagSales([1,2,3,6,12])),\n",
    "                (\"summed_sales\", GetSumOfSales([6,12]))\n",
    "            ]\n",
    "        \n",
    "lag_pipeline = Pipeline(steps=lag_steps)"
   ]
  },
  {
   "cell_type": "markdown",
   "id": "d7e22ef9",
   "metadata": {},
   "source": [
    "### Choosing best training data subset"
   ]
  },
  {
   "cell_type": "code",
   "execution_count": 7,
   "id": "a2986018",
   "metadata": {},
   "outputs": [],
   "source": [
    "from sklearn.ensemble import RandomForestRegressor\n",
    "from sklearn.svm import SVR\n",
    "from sklearn.linear_model import LinearRegression\n",
    "from sklearn.neighbors import KNeighborsRegressor\n",
    "from xgboost import XGBRegressor\n",
    "from sklearn.metrics import mean_squared_error\n",
    "\n",
    "from tqdm.notebook import tqdm\n",
    "from datetime import datetime"
   ]
  },
  {
   "cell_type": "code",
   "execution_count": 8,
   "id": "dc43102a",
   "metadata": {},
   "outputs": [],
   "source": [
    "def x_y_split(df, target):\n",
    "    return df.drop(target, axis=1), df[target]"
   ]
  },
  {
   "cell_type": "code",
   "execution_count": 9,
   "id": "5df72d53",
   "metadata": {},
   "outputs": [],
   "source": [
    "def compare_models(models):\n",
    "    result = []\n",
    "    fold = 1\n",
    "\n",
    "    with tqdm(total=(len(models) + 1) * 4) as pbar:\n",
    "        for val, train in zip([val_data1, val_data2, val_data3, val_data4], [train_data1, train_data2, train_data3, train_data4]):\n",
    "\n",
    "            train = feature_extraction_pipeline.fit_transform(train)\n",
    "            train_per_month = [lag_pipeline.fit_transform(train.loc[train['date_block_num'] == block].copy()) for block in train['date_block_num'].unique()]\n",
    "            train = pd.concat(train_per_month, axis=0)\n",
    "            \n",
    "            val = feature_extraction_pipeline.transform(val)\n",
    "            val = lag_pipeline.transform(val)\n",
    "            \n",
    "            pbar.update(1)\n",
    "\n",
    "            val_x, val_y = x_y_split(val, 'item_cnt_month')\n",
    "            train_x, train_y = x_y_split(train, 'item_cnt_month')\n",
    "\n",
    "            for model_name, model in models.items():\n",
    "                fit_time_start = datetime.now()\n",
    "                model.fit(train_x, train_y)\n",
    "                fit_time_end = datetime.now()\n",
    "                result.append({'model' : model_name,\n",
    "                               'fold' : fold,\n",
    "                               'data_size' : train_x.shape[0],\n",
    "                               'fit_time' : (fit_time_end - fit_time_start).seconds,\n",
    "                               'val_mse' : mean_squared_error(val_y, model.predict(val_x)),\n",
    "                               'train_mse' : mean_squared_error(train_y, model.predict(train_x))})\n",
    "                pbar.update(1)\n",
    "            fold += 1\n",
    "            \n",
    "    return result"
   ]
  },
  {
   "cell_type": "code",
   "execution_count": 10,
   "id": "9e52b80c",
   "metadata": {},
   "outputs": [
    {
     "data": {
      "application/vnd.jupyter.widget-view+json": {
       "model_id": "e9fb9f10c7324acc844ea460d5921583",
       "version_major": 2,
       "version_minor": 0
      },
      "text/plain": [
       "  0%|          | 0/16 [00:00<?, ?it/s]"
      ]
     },
     "metadata": {},
     "output_type": "display_data"
    },
    {
     "data": {
      "text/html": [
       "<div>\n",
       "<style scoped>\n",
       "    .dataframe tbody tr th:only-of-type {\n",
       "        vertical-align: middle;\n",
       "    }\n",
       "\n",
       "    .dataframe tbody tr th {\n",
       "        vertical-align: top;\n",
       "    }\n",
       "\n",
       "    .dataframe thead th {\n",
       "        text-align: right;\n",
       "    }\n",
       "</style>\n",
       "<table border=\"1\" class=\"dataframe\">\n",
       "  <thead>\n",
       "    <tr style=\"text-align: right;\">\n",
       "      <th></th>\n",
       "      <th>model</th>\n",
       "      <th>fold</th>\n",
       "      <th>data_size</th>\n",
       "      <th>fit_time</th>\n",
       "      <th>val_mse</th>\n",
       "      <th>train_mse</th>\n",
       "    </tr>\n",
       "  </thead>\n",
       "  <tbody>\n",
       "    <tr>\n",
       "      <th>0</th>\n",
       "      <td>RFR</td>\n",
       "      <td>1</td>\n",
       "      <td>684153</td>\n",
       "      <td>106</td>\n",
       "      <td>81.291316</td>\n",
       "      <td>7.533512</td>\n",
       "    </tr>\n",
       "    <tr>\n",
       "      <th>1</th>\n",
       "      <td>XGBR</td>\n",
       "      <td>1</td>\n",
       "      <td>684153</td>\n",
       "      <td>19</td>\n",
       "      <td>96.807124</td>\n",
       "      <td>9.432227</td>\n",
       "    </tr>\n",
       "    <tr>\n",
       "      <th>2</th>\n",
       "      <td>LR</td>\n",
       "      <td>1</td>\n",
       "      <td>684153</td>\n",
       "      <td>0</td>\n",
       "      <td>64.915778</td>\n",
       "      <td>30.647533</td>\n",
       "    </tr>\n",
       "    <tr>\n",
       "      <th>3</th>\n",
       "      <td>RFR</td>\n",
       "      <td>2</td>\n",
       "      <td>1415112</td>\n",
       "      <td>233</td>\n",
       "      <td>82.437034</td>\n",
       "      <td>11.019005</td>\n",
       "    </tr>\n",
       "    <tr>\n",
       "      <th>4</th>\n",
       "      <td>XGBR</td>\n",
       "      <td>2</td>\n",
       "      <td>1415112</td>\n",
       "      <td>44</td>\n",
       "      <td>80.275704</td>\n",
       "      <td>11.262223</td>\n",
       "    </tr>\n",
       "    <tr>\n",
       "      <th>5</th>\n",
       "      <td>LR</td>\n",
       "      <td>2</td>\n",
       "      <td>1415112</td>\n",
       "      <td>0</td>\n",
       "      <td>78.167511</td>\n",
       "      <td>32.026592</td>\n",
       "    </tr>\n",
       "    <tr>\n",
       "      <th>6</th>\n",
       "      <td>RFR</td>\n",
       "      <td>3</td>\n",
       "      <td>1184316</td>\n",
       "      <td>196</td>\n",
       "      <td>13.238854</td>\n",
       "      <td>10.064671</td>\n",
       "    </tr>\n",
       "    <tr>\n",
       "      <th>7</th>\n",
       "      <td>XGBR</td>\n",
       "      <td>3</td>\n",
       "      <td>1184316</td>\n",
       "      <td>38</td>\n",
       "      <td>9.784373</td>\n",
       "      <td>11.995038</td>\n",
       "    </tr>\n",
       "    <tr>\n",
       "      <th>8</th>\n",
       "      <td>LR</td>\n",
       "      <td>3</td>\n",
       "      <td>1184316</td>\n",
       "      <td>0</td>\n",
       "      <td>6.782828</td>\n",
       "      <td>36.791826</td>\n",
       "    </tr>\n",
       "    <tr>\n",
       "      <th>9</th>\n",
       "      <td>RFR</td>\n",
       "      <td>4</td>\n",
       "      <td>1389648</td>\n",
       "      <td>231</td>\n",
       "      <td>8.630072</td>\n",
       "      <td>10.339162</td>\n",
       "    </tr>\n",
       "    <tr>\n",
       "      <th>10</th>\n",
       "      <td>XGBR</td>\n",
       "      <td>4</td>\n",
       "      <td>1389648</td>\n",
       "      <td>49</td>\n",
       "      <td>9.594115</td>\n",
       "      <td>12.310111</td>\n",
       "    </tr>\n",
       "    <tr>\n",
       "      <th>11</th>\n",
       "      <td>LR</td>\n",
       "      <td>4</td>\n",
       "      <td>1389648</td>\n",
       "      <td>0</td>\n",
       "      <td>8.336984</td>\n",
       "      <td>33.846249</td>\n",
       "    </tr>\n",
       "  </tbody>\n",
       "</table>\n",
       "</div>"
      ],
      "text/plain": [
       "   model  fold  data_size  fit_time    val_mse  train_mse\n",
       "0    RFR     1     684153       106  81.291316   7.533512\n",
       "1   XGBR     1     684153        19  96.807124   9.432227\n",
       "2     LR     1     684153         0  64.915778  30.647533\n",
       "3    RFR     2    1415112       233  82.437034  11.019005\n",
       "4   XGBR     2    1415112        44  80.275704  11.262223\n",
       "5     LR     2    1415112         0  78.167511  32.026592\n",
       "6    RFR     3    1184316       196  13.238854  10.064671\n",
       "7   XGBR     3    1184316        38   9.784373  11.995038\n",
       "8     LR     3    1184316         0   6.782828  36.791826\n",
       "9    RFR     4    1389648       231   8.630072  10.339162\n",
       "10  XGBR     4    1389648        49   9.594115  12.310111\n",
       "11    LR     4    1389648         0   8.336984  33.846249"
      ]
     },
     "execution_count": 10,
     "metadata": {},
     "output_type": "execute_result"
    }
   ],
   "source": [
    "model_dict = {'RFR' : RandomForestRegressor(max_depth=15, n_jobs=-1, random_state=1001),\n",
    "             #'KNN': KNeighborsRegressor(),\n",
    "             'XGBR':XGBRegressor(n_jobs=-1, random_state=1001),\n",
    "             'LR':LinearRegression()\n",
    "             }\n",
    "\n",
    "result_df = pd.DataFrame(compare_models(model_dict))\n",
    "result_df"
   ]
  },
  {
   "cell_type": "code",
   "execution_count": 11,
   "id": "a6eb4e6a",
   "metadata": {},
   "outputs": [],
   "source": [
    "import seaborn as sns\n",
    "\n",
    "def plot_results(result_df):\n",
    "    sns.set(rc={'figure.figsize':(11,8)})\n",
    "    tmp1 = result_df.drop(['val_mse'], axis=1).rename(columns={'train_mse' : 'mse'})\n",
    "    tmp1['type'] = 'train'\n",
    "    tmp2 = result_df.drop(['train_mse'], axis=1).rename(columns={'val_mse' : 'mse'})\n",
    "    tmp2['type'] = 'val'\n",
    "    sns.lineplot(data=tmp1.append(tmp2), x='fold', y='mse', hue='model', style='type');"
   ]
  },
  {
   "cell_type": "code",
   "execution_count": 12,
   "id": "143cb83d",
   "metadata": {},
   "outputs": [
    {
     "data": {
      "image/png": "[encoded data removed]",
      "text/plain": [
       "<Figure size 792x576 with 1 Axes>"
      ]
     },
     "metadata": {},
     "output_type": "display_data"
    }
   ],
   "source": [
    "plot_results(result_df)"
   ]
  },
  {
   "cell_type": "markdown",
   "id": "d8ec6524",
   "metadata": {},
   "source": [
    "We can observe overfitting in many cases (except for maybe RFR, XGBR on folds 3-4,). \n",
    "\n",
    "All models except for LR performed significantly better on fold 3 and 4.\n",
    "\n",
    "For now we will choose fold 3 for further experiments, since it's smaller than 4.\n",
    "\n",
    "Also RFR is significantly slower to train."
   ]
  },
  {
   "cell_type": "markdown",
   "id": "042faa22",
   "metadata": {},
   "source": [
    "## Experiments"
   ]
  },
  {
   "cell_type": "code",
   "execution_count": 13,
   "id": "7e0fd01c",
   "metadata": {},
   "outputs": [],
   "source": [
    "train = feature_extraction_pipeline.fit_transform(train_data3)\n",
    "train_per_month = [lag_pipeline.fit_transform(train.loc[train['date_block_num'] == block].copy()) for block in train['date_block_num'].unique()]\n",
    "train = pd.concat(train_per_month, axis=0)\n",
    "\n",
    "val = feature_extraction_pipeline.transform(val_data3)\n",
    "val = lag_pipeline.transform(val)\n",
    "\n",
    "train.to_csv('../data/processed/train_experimental.csv', index=False)\n",
    "val.to_csv('../data/processed/val_experimental.csv', index=False) \n",
    "    \n",
    "target = 'item_cnt_month'\n",
    "val_x, val_y = x_y_split(val, target)\n",
    "train_x, train_y = x_y_split(train, target)"
   ]
  },
  {
   "cell_type": "code",
   "execution_count": 14,
   "id": "bf723a6e",
   "metadata": {},
   "outputs": [
    {
     "data": {
      "text/html": [
       "<div>\n",
       "<style scoped>\n",
       "    .dataframe tbody tr th:only-of-type {\n",
       "        vertical-align: middle;\n",
       "    }\n",
       "\n",
       "    .dataframe tbody tr th {\n",
       "        vertical-align: top;\n",
       "    }\n",
       "\n",
       "    .dataframe thead th {\n",
       "        text-align: right;\n",
       "    }\n",
       "</style>\n",
       "<table border=\"1\" class=\"dataframe\">\n",
       "  <thead>\n",
       "    <tr style=\"text-align: right;\">\n",
       "      <th></th>\n",
       "      <th>item_id</th>\n",
       "      <th>shop_id</th>\n",
       "      <th>month_sin</th>\n",
       "      <th>month_cos</th>\n",
       "      <th>item_category_id</th>\n",
       "      <th>city_id</th>\n",
       "      <th>global_cat_id</th>\n",
       "      <th>shop_age_month</th>\n",
       "      <th>item_age_month</th>\n",
       "      <th>month_lag_1</th>\n",
       "      <th>month_lag_2</th>\n",
       "      <th>month_lag_3</th>\n",
       "      <th>month_lag_6</th>\n",
       "      <th>month_lag_12</th>\n",
       "      <th>sum_sales_lag_6</th>\n",
       "      <th>sum_sales_lag_12</th>\n",
       "    </tr>\n",
       "  </thead>\n",
       "  <tbody>\n",
       "    <tr>\n",
       "      <th>0</th>\n",
       "      <td>27</td>\n",
       "      <td>25</td>\n",
       "      <td>1.224647e-16</td>\n",
       "      <td>-1.0</td>\n",
       "      <td>19</td>\n",
       "      <td>15</td>\n",
       "      <td>5</td>\n",
       "      <td>5.600000</td>\n",
       "      <td>5.600000</td>\n",
       "      <td>0.0</td>\n",
       "      <td>0.0</td>\n",
       "      <td>0.0</td>\n",
       "      <td>0.0</td>\n",
       "      <td>0.0</td>\n",
       "      <td>1.0</td>\n",
       "      <td>1.0</td>\n",
       "    </tr>\n",
       "    <tr>\n",
       "      <th>1</th>\n",
       "      <td>27</td>\n",
       "      <td>32</td>\n",
       "      <td>1.224647e-16</td>\n",
       "      <td>-1.0</td>\n",
       "      <td>19</td>\n",
       "      <td>15</td>\n",
       "      <td>5</td>\n",
       "      <td>5.166667</td>\n",
       "      <td>5.166667</td>\n",
       "      <td>0.0</td>\n",
       "      <td>0.0</td>\n",
       "      <td>1.0</td>\n",
       "      <td>0.0</td>\n",
       "      <td>0.0</td>\n",
       "      <td>1.0</td>\n",
       "      <td>1.0</td>\n",
       "    </tr>\n",
       "    <tr>\n",
       "      <th>2</th>\n",
       "      <td>28</td>\n",
       "      <td>28</td>\n",
       "      <td>1.224647e-16</td>\n",
       "      <td>-1.0</td>\n",
       "      <td>30</td>\n",
       "      <td>15</td>\n",
       "      <td>8</td>\n",
       "      <td>5.700000</td>\n",
       "      <td>5.666667</td>\n",
       "      <td>0.0</td>\n",
       "      <td>0.0</td>\n",
       "      <td>0.0</td>\n",
       "      <td>0.0</td>\n",
       "      <td>0.0</td>\n",
       "      <td>0.0</td>\n",
       "      <td>0.0</td>\n",
       "    </tr>\n",
       "    <tr>\n",
       "      <th>3</th>\n",
       "      <td>28</td>\n",
       "      <td>30</td>\n",
       "      <td>1.224647e-16</td>\n",
       "      <td>-1.0</td>\n",
       "      <td>30</td>\n",
       "      <td>15</td>\n",
       "      <td>8</td>\n",
       "      <td>5.000000</td>\n",
       "      <td>5.000000</td>\n",
       "      <td>0.0</td>\n",
       "      <td>0.0</td>\n",
       "      <td>0.0</td>\n",
       "      <td>0.0</td>\n",
       "      <td>0.0</td>\n",
       "      <td>0.0</td>\n",
       "      <td>0.0</td>\n",
       "    </tr>\n",
       "    <tr>\n",
       "      <th>4</th>\n",
       "      <td>28</td>\n",
       "      <td>47</td>\n",
       "      <td>1.224647e-16</td>\n",
       "      <td>-1.0</td>\n",
       "      <td>30</td>\n",
       "      <td>24</td>\n",
       "      <td>8</td>\n",
       "      <td>5.066667</td>\n",
       "      <td>5.066667</td>\n",
       "      <td>0.0</td>\n",
       "      <td>0.0</td>\n",
       "      <td>0.0</td>\n",
       "      <td>0.0</td>\n",
       "      <td>0.0</td>\n",
       "      <td>3.0</td>\n",
       "      <td>3.0</td>\n",
       "    </tr>\n",
       "  </tbody>\n",
       "</table>\n",
       "</div>"
      ],
      "text/plain": [
       "   item_id  shop_id     month_sin  month_cos  item_category_id  city_id  \\\n",
       "0       27       25  1.224647e-16       -1.0                19       15   \n",
       "1       27       32  1.224647e-16       -1.0                19       15   \n",
       "2       28       28  1.224647e-16       -1.0                30       15   \n",
       "3       28       30  1.224647e-16       -1.0                30       15   \n",
       "4       28       47  1.224647e-16       -1.0                30       24   \n",
       "\n",
       "   global_cat_id  shop_age_month  item_age_month  month_lag_1  month_lag_2  \\\n",
       "0              5        5.600000        5.600000          0.0          0.0   \n",
       "1              5        5.166667        5.166667          0.0          0.0   \n",
       "2              8        5.700000        5.666667          0.0          0.0   \n",
       "3              8        5.000000        5.000000          0.0          0.0   \n",
       "4              8        5.066667        5.066667          0.0          0.0   \n",
       "\n",
       "   month_lag_3  month_lag_6  month_lag_12  sum_sales_lag_6  sum_sales_lag_12  \n",
       "0          0.0          0.0           0.0              1.0               1.0  \n",
       "1          1.0          0.0           0.0              1.0               1.0  \n",
       "2          0.0          0.0           0.0              0.0               0.0  \n",
       "3          0.0          0.0           0.0              0.0               0.0  \n",
       "4          0.0          0.0           0.0              3.0               3.0  "
      ]
     },
     "execution_count": 14,
     "metadata": {},
     "output_type": "execute_result"
    }
   ],
   "source": [
    "train_x.head()"
   ]
  },
  {
   "cell_type": "code",
   "execution_count": 15,
   "id": "d3250f36",
   "metadata": {},
   "outputs": [],
   "source": [
    "train_y_original = train_y\n",
    "val_y_original = val_y"
   ]
  },
  {
   "cell_type": "markdown",
   "id": "ddee1184",
   "metadata": {},
   "source": [
    "### Baseline XGBR"
   ]
  },
  {
   "cell_type": "code",
   "execution_count": 16,
   "id": "f1925b08",
   "metadata": {},
   "outputs": [
    {
     "data": {
      "text/plain": [
       "(11.995037825527362, 9.784373441228656)"
      ]
     },
     "execution_count": 16,
     "metadata": {},
     "output_type": "execute_result"
    }
   ],
   "source": [
    "xgbr = XGBRegressor(n_jobs=-1, random_state=1001, max_depth=6)\n",
    "xgbr.fit(train_x, train_y)\n",
    "train_mse = mean_squared_error(train_y, xgbr.predict(train_x))\n",
    "val_pred = xgbr.predict(val_x)\n",
    "val_mse = mean_squared_error(val_y, val_pred)\n",
    "train_mse, val_mse"
   ]
  },
  {
   "cell_type": "code",
   "execution_count": 17,
   "id": "cdfbc576",
   "metadata": {},
   "outputs": [],
   "source": [
    "from sklearn.preprocessing import StandardScaler\n",
    "import category_encoders as ce\n",
    "\n",
    "num_cols = ['shop_age_month', 'item_age_month', 'month_lag_1', 'month_lag_2','month_lag_3', 'month_lag_6', 'month_lag_12', 'sum_sales_lag_6', 'sum_sales_lag_12']\n",
    "cat_cols = ['shop_id', 'item_id', 'item_category_id', 'global_cat_id', 'city_id']\n",
    "\n",
    "def markov_probability_tresh(data, prob=0.03):\n",
    "    return np.mean(data) / prob"
   ]
  },
  {
   "cell_type": "code",
   "execution_count": 18,
   "id": "3867e0ba",
   "metadata": {},
   "outputs": [],
   "source": [
    "def transform_train(train_x, train_y, val_x, val_y, \n",
    "                   scale=True, \n",
    "                   remove_outliars=True, \n",
    "                   trim_val=False, \n",
    "                   log_transform=True,\n",
    "                   encode_cat=True):\n",
    "\n",
    "    t_x = train_x.copy()\n",
    "    v_x = val_x.copy()\n",
    "    t_y = train_y.copy()\n",
    "    v_y = val_y.copy()\n",
    "\n",
    "    res_transformers = {}\n",
    "    \n",
    "    if remove_outliars:\n",
    "        threshold = markov_probability_tresh(t_y, 0.03)\n",
    "        t_x = t_x[t_y < threshold].copy()\n",
    "        t_y = t_y[t_y < threshold].copy()\n",
    "        if trim_val:\n",
    "            v_x = v_x[v_y < threshold].copy()\n",
    "            v_y = v_y[v_y < threshold].copy()\n",
    "    \n",
    "    if log_transform:\n",
    "        t_y = np.log(t_y)\n",
    "        v_y = np.log(v_y)\n",
    "        \n",
    "    target_scaler = None\n",
    "    \n",
    "    if scale:\n",
    "        feature_scaler = StandardScaler()\n",
    "        t_x[num_cols] = feature_scaler.fit_transform(t_x[num_cols])\n",
    "        v_x[num_cols] = feature_scaler.transform(v_x[num_cols])\n",
    "        res_transformers['feature_scaler'] = feature_scaler\n",
    "        \n",
    "        target_scaler = StandardScaler()\n",
    "        t_y = target_scaler.fit_transform(t_y.values.reshape(-1, 1))\n",
    "        v_y = target_scaler.transform(v_y.values.reshape(-1, 1))\n",
    "        res_transformers['target_scaler'] = target_scaler\n",
    "    \n",
    "    encoder = None\n",
    "    if encode_cat:\n",
    "        encoder  = ce.TargetEncoder(min_samples_leaf=1, smoothing=1.0)\n",
    "        t_x[cat_cols] = t_x[cat_cols].astype(object) \n",
    "        t_x[cat_cols] = encoder.fit_transform(t_x[cat_cols], t_y)\n",
    "        v_x[cat_cols] = encoder.transform(v_x[cat_cols])\n",
    "        res_transformers['cat_encoder'] = encoder\n",
    "    \n",
    "    res_data = {'t_x': t_x, 't_y': t_y, 'v_x': v_x, 'v_y': v_y}\n",
    "        \n",
    "    return res_data, res_transformers"
   ]
  },
  {
   "cell_type": "markdown",
   "id": "186902b1",
   "metadata": {},
   "source": [
    "### Standard scaling numerical data"
   ]
  },
  {
   "cell_type": "code",
   "execution_count": 19,
   "id": "9733f253",
   "metadata": {},
   "outputs": [],
   "source": [
    "data, transformers = transform_train(train_x, train_y, val_x, val_y, \n",
    "                   scale=True, \n",
    "                   remove_outliars=False, \n",
    "                   trim_val=False, \n",
    "                   log_transform=False,\n",
    "                   encode_cat=False)\n",
    "\n",
    "t_x, t_y, v_x = data['t_x'], data['t_y'], data['v_x']\n",
    "target_scaler = transformers['target_scaler']"
   ]
  },
  {
   "cell_type": "code",
   "execution_count": 20,
   "id": "2cfd6457",
   "metadata": {},
   "outputs": [
    {
     "data": {
      "text/plain": [
       "(9.051796644171676, 9.839380930216073)"
      ]
     },
     "execution_count": 20,
     "metadata": {},
     "output_type": "execute_result"
    }
   ],
   "source": [
    "xgbr = XGBRegressor(n_jobs=-1, random_state=1001, max_depth=7)\n",
    "xgbr.fit(t_x, t_y)\n",
    "train_mse = mean_squared_error(train_y_original, target_scaler.inverse_transform(xgbr.predict(t_x)))\n",
    "val_pred = xgbr.predict(v_x)\n",
    "val_mse = mean_squared_error(val_y_original, target_scaler.inverse_transform(val_pred))\n",
    "train_mse, val_mse"
   ]
  },
  {
   "cell_type": "markdown",
   "id": "8f8824fe",
   "metadata": {},
   "source": [
    "### Target log transform"
   ]
  },
  {
   "cell_type": "code",
   "execution_count": 21,
   "id": "0bba073d",
   "metadata": {},
   "outputs": [],
   "source": [
    "data, transformers = transform_train(train_x, train_y, val_x, val_y, \n",
    "                   scale=False, \n",
    "                   remove_outliars=False, \n",
    "                   trim_val=False, \n",
    "                   log_transform=True,\n",
    "                   encode_cat=False)\n",
    "t_x, t_y, v_x = data['t_x'], data['t_y'], data['v_x']"
   ]
  },
  {
   "cell_type": "code",
   "execution_count": 22,
   "id": "982177e3",
   "metadata": {},
   "outputs": [
    {
     "data": {
      "text/plain": [
       "(4.97338110847008, 5.8022994749748165)"
      ]
     },
     "execution_count": 22,
     "metadata": {},
     "output_type": "execute_result"
    }
   ],
   "source": [
    "#unscaled log target\n",
    "xgbr = XGBRegressor(n_jobs=-1, random_state=1001, max_depth=14)\n",
    "xgbr.fit(t_x, t_y)\n",
    "train_mse = mean_squared_error(train_y_original, np.exp(xgbr.predict(t_x)))\n",
    "val_pred = xgbr.predict(v_x)\n",
    "val_mse = mean_squared_error(val_y_original, np.exp(val_pred))\n",
    "train_mse, val_mse"
   ]
  },
  {
   "cell_type": "code",
   "execution_count": 23,
   "id": "6599a740",
   "metadata": {},
   "outputs": [],
   "source": [
    "data, transformers = transform_train(train_x, train_y, val_x, val_y, \n",
    "                   scale=True, \n",
    "                   remove_outliars=False, \n",
    "                   trim_val=False, \n",
    "                   log_transform=True,\n",
    "                   encode_cat=False)\n",
    "\n",
    "t_x, t_y, v_x = data['t_x'], data['t_y'], data['v_x']\n",
    "target_scaler = transformers['target_scaler']"
   ]
  },
  {
   "cell_type": "code",
   "execution_count": 24,
   "id": "6960ba21",
   "metadata": {},
   "outputs": [
    {
     "data": {
      "text/plain": [
       "(5.206646101025826, 6.987958143259265)"
      ]
     },
     "execution_count": 24,
     "metadata": {},
     "output_type": "execute_result"
    }
   ],
   "source": [
    "#scaled log target\n",
    "xgbr = XGBRegressor(n_jobs=-1, random_state=1001, max_depth=14)\n",
    "xgbr.fit(t_x, t_y)\n",
    "train_pred = np.exp(target_scaler.inverse_transform(xgbr.predict(t_x)))\n",
    "train_mse = mean_squared_error(train_y_original, train_pred)\n",
    "val_pred = np.exp(target_scaler.inverse_transform(xgbr.predict(v_x)))\n",
    "val_mse = mean_squared_error(val_y_original, val_pred)\n",
    "train_mse, val_mse"
   ]
  },
  {
   "cell_type": "markdown",
   "id": "8dc0689d",
   "metadata": {},
   "source": [
    "### Categorical encoding (mean target)"
   ]
  },
  {
   "cell_type": "code",
   "execution_count": 25,
   "id": "1604f3a8",
   "metadata": {},
   "outputs": [
    {
     "name": "stderr",
     "output_type": "stream",
     "text": [
      "C:\\Users\\masha\\anaconda3\\lib\\site-packages\\category_encoders\\target_encoder.py:122: FutureWarning: Default parameter min_samples_leaf will change in version 2.6.See https://github.com/scikit-learn-contrib/category_encoders/issues/327\n",
      "  warnings.warn(\"Default parameter min_samples_leaf will change in version 2.6.\"\n",
      "C:\\Users\\masha\\anaconda3\\lib\\site-packages\\category_encoders\\target_encoder.py:127: FutureWarning: Default parameter smoothing will change in version 2.6.See https://github.com/scikit-learn-contrib/category_encoders/issues/327\n",
      "  warnings.warn(\"Default parameter smoothing will change in version 2.6.\"\n"
     ]
    }
   ],
   "source": [
    "data, transformers = transform_train(train_x, train_y, val_x, val_y, \n",
    "                   scale=False, \n",
    "                   remove_outliars=False, \n",
    "                   trim_val=False, \n",
    "                   log_transform=False,\n",
    "                   encode_cat=True)\n",
    "\n",
    "t_x, t_y, v_x = data['t_x'], data['t_y'], data['v_x']"
   ]
  },
  {
   "cell_type": "code",
   "execution_count": 26,
   "id": "47f96f96",
   "metadata": {},
   "outputs": [
    {
     "data": {
      "text/plain": [
       "(8.193778961832107, 7.629037121875277)"
      ]
     },
     "execution_count": 26,
     "metadata": {},
     "output_type": "execute_result"
    }
   ],
   "source": [
    "xgbr = XGBRegressor(n_jobs=-1, random_state=1001, max_depth=5)\n",
    "xgbr.fit(t_x, t_y)\n",
    "train_mse = mean_squared_error(train_y_original, xgbr.predict(t_x))\n",
    "val_mse = mean_squared_error(val_y_original, xgbr.predict(v_x))\n",
    "train_mse, val_mse"
   ]
  },
  {
   "cell_type": "code",
   "execution_count": 27,
   "id": "24a7545f",
   "metadata": {},
   "outputs": [
    {
     "name": "stderr",
     "output_type": "stream",
     "text": [
      "C:\\Users\\masha\\anaconda3\\lib\\site-packages\\category_encoders\\target_encoder.py:122: FutureWarning: Default parameter min_samples_leaf will change in version 2.6.See https://github.com/scikit-learn-contrib/category_encoders/issues/327\n",
      "  warnings.warn(\"Default parameter min_samples_leaf will change in version 2.6.\"\n",
      "C:\\Users\\masha\\anaconda3\\lib\\site-packages\\category_encoders\\target_encoder.py:127: FutureWarning: Default parameter smoothing will change in version 2.6.See https://github.com/scikit-learn-contrib/category_encoders/issues/327\n",
      "  warnings.warn(\"Default parameter smoothing will change in version 2.6.\"\n"
     ]
    }
   ],
   "source": [
    "data, transformers = transform_train(train_x, train_y, val_x, val_y, \n",
    "                   scale=True, \n",
    "                   remove_outliars=False, \n",
    "                   trim_val=False, \n",
    "                   log_transform=True,\n",
    "                   encode_cat=True)\n",
    "\n",
    "t_x, t_y, v_x = data['t_x'], data['t_y'], data['v_x']\n",
    "target_scaler = transformers['target_scaler']"
   ]
  },
  {
   "cell_type": "code",
   "execution_count": 28,
   "id": "471ea20d",
   "metadata": {},
   "outputs": [
    {
     "data": {
      "text/plain": [
       "(5.377578430723077, 5.20669657486861)"
      ]
     },
     "execution_count": 28,
     "metadata": {},
     "output_type": "execute_result"
    }
   ],
   "source": [
    "# + scale + log\n",
    "xgbr = XGBRegressor(n_jobs=-1, random_state=1001, max_depth=12)\n",
    "xgbr.fit(t_x, t_y)\n",
    "train_pred = np.exp(target_scaler.inverse_transform(xgbr.predict(t_x)))\n",
    "train_mse = mean_squared_error(train_y_original, train_pred)\n",
    "val_pred = np.exp(target_scaler.inverse_transform(xgbr.predict(v_x)))\n",
    "val_mse = mean_squared_error(val_y_original, val_pred)\n",
    "train_mse, val_mse"
   ]
  },
  {
   "cell_type": "markdown",
   "id": "fe510970",
   "metadata": {},
   "source": [
    "### Outliar treatment"
   ]
  },
  {
   "cell_type": "code",
   "execution_count": 29,
   "id": "47686c67",
   "metadata": {},
   "outputs": [],
   "source": [
    "data, transformers = transform_train(train_x, train_y, val_x, val_y, \n",
    "                   scale=False, \n",
    "                   remove_outliars=True, \n",
    "                   trim_val=False, \n",
    "                   log_transform=False,\n",
    "                   encode_cat=False)\n",
    "\n",
    "t_x, t_y, v_x = data['t_x'], data['t_y'], data['v_x']"
   ]
  },
  {
   "cell_type": "code",
   "execution_count": 30,
   "id": "c850e70a",
   "metadata": {},
   "outputs": [
    {
     "data": {
      "text/plain": [
       "(1.0537071907603588, 20.89767506077039)"
      ]
     },
     "execution_count": 30,
     "metadata": {},
     "output_type": "execute_result"
    }
   ],
   "source": [
    "# kept outliars in val\n",
    "xgbr = XGBRegressor(n_jobs=-1, random_state=1001, max_depth=13)\n",
    "xgbr.fit(t_x, t_y)\n",
    "train_mse = mean_squared_error(t_y, xgbr.predict(t_x))\n",
    "val_mse = mean_squared_error(val_y_original, xgbr.predict(v_x))\n",
    "train_mse, val_mse"
   ]
  },
  {
   "cell_type": "code",
   "execution_count": 31,
   "id": "8f6ae362",
   "metadata": {},
   "outputs": [],
   "source": [
    "data, transformers = transform_train(train_x, train_y, val_x, val_y, \n",
    "                   scale=False, \n",
    "                   remove_outliars=True, \n",
    "                   trim_val=True, \n",
    "                   log_transform=False,\n",
    "                   encode_cat=False)\n",
    "\n",
    "t_x, t_y, v_x, v_y = data['t_x'], data['t_y'], data['v_x'], data['v_y']"
   ]
  },
  {
   "cell_type": "code",
   "execution_count": 32,
   "id": "35cbe688",
   "metadata": {},
   "outputs": [
    {
     "data": {
      "text/plain": [
       "(3.853058628655512, 5.637215005656683)"
      ]
     },
     "execution_count": 32,
     "metadata": {},
     "output_type": "execute_result"
    }
   ],
   "source": [
    "# remove outliars from val\n",
    "xgbr = XGBRegressor(n_jobs=-1, random_state=1001, max_depth=7)\n",
    "xgbr.fit(t_x, t_y)\n",
    "train_mse = mean_squared_error(t_y, xgbr.predict(t_x))\n",
    "val_mse = mean_squared_error(v_y, xgbr.predict(v_x))\n",
    "train_mse, val_mse\n",
    "#sub1 - public score 2.39917"
   ]
  },
  {
   "cell_type": "markdown",
   "id": "da1d8ab6",
   "metadata": {},
   "source": [
    "### Combined"
   ]
  },
  {
   "cell_type": "code",
   "execution_count": 43,
   "id": "079ef421",
   "metadata": {},
   "outputs": [
    {
     "name": "stderr",
     "output_type": "stream",
     "text": [
      "C:\\Users\\masha\\anaconda3\\lib\\site-packages\\category_encoders\\target_encoder.py:122: FutureWarning: Default parameter min_samples_leaf will change in version 2.6.See https://github.com/scikit-learn-contrib/category_encoders/issues/327\n",
      "  warnings.warn(\"Default parameter min_samples_leaf will change in version 2.6.\"\n",
      "C:\\Users\\masha\\anaconda3\\lib\\site-packages\\category_encoders\\target_encoder.py:127: FutureWarning: Default parameter smoothing will change in version 2.6.See https://github.com/scikit-learn-contrib/category_encoders/issues/327\n",
      "  warnings.warn(\"Default parameter smoothing will change in version 2.6.\"\n"
     ]
    }
   ],
   "source": [
    "data, transformers = transform_train(train_x, train_y, val_x, val_y, \n",
    "                   scale=True, \n",
    "                   remove_outliars=True, \n",
    "                   trim_val=True, \n",
    "                   log_transform=True,\n",
    "                   encode_cat=True)\n",
    "\n",
    "t_x, t_y, v_x, v_y = data['t_x'], data['t_y'], data['v_x'], data['v_y']\n",
    "target_scaler = transformers['target_scaler']\n",
    "encoder = transformers['cat_encoder']\n",
    "feature_scaler = transformers['feature_scaler']"
   ]
  },
  {
   "cell_type": "code",
   "execution_count": 44,
   "id": "c5148e1a",
   "metadata": {},
   "outputs": [
    {
     "data": {
      "text/plain": [
       "(5.958485657319335, 8.307904344705834)"
      ]
     },
     "execution_count": 44,
     "metadata": {},
     "output_type": "execute_result"
    }
   ],
   "source": [
    "xgbr = XGBRegressor(n_jobs=-1, random_state=1001, max_depth=4)\n",
    "xgbr.fit(t_x, t_y)\n",
    "train_pred = np.exp(target_scaler.inverse_transform(xgbr.predict(t_x)))\n",
    "train_mse = mean_squared_error(t_y, train_pred)\n",
    "val_pred = np.exp(target_scaler.inverse_transform(xgbr.predict(v_x)))\n",
    "val_mse = mean_squared_error(v_y, val_pred)\n",
    "train_mse, val_mse\n",
    "#sub2 - public score 1.53485"
   ]
  },
  {
   "cell_type": "markdown",
   "id": "f8ef556f",
   "metadata": {},
   "source": [
    "# Test processing and submission"
   ]
  },
  {
   "cell_type": "code",
   "execution_count": 34,
   "id": "cf4fe53b",
   "metadata": {},
   "outputs": [],
   "source": [
    "from datetime import date\n",
    "\n",
    "class MonthlySalesTest(BaseEstimator, TransformerMixin):\n",
    "    def __init__(self):\n",
    "        pass\n",
    "    def fit(self, X, y=None ):\n",
    "        return self\n",
    "    def transform(self, X, y=None):\n",
    "        X['date_block_num'] = 34\n",
    "        X['date'] = date(2015, 34 % 12 + 1, 30)\n",
    "        X['date'] = pd.to_datetime(X['date'], format=\"%Y-%m-%d\")\n",
    "        return X\n",
    "\n",
    "pipeline_steps_test = extraction_steps\n",
    "pipeline_steps_test[0] = (\"montly_sales\", MonthlySalesTest())\n",
    "\n",
    "feature_extraction_pipeline_test = Pipeline(steps=pipeline_steps_test)"
   ]
  },
  {
   "cell_type": "code",
   "execution_count": 35,
   "id": "01aac1d2",
   "metadata": {},
   "outputs": [],
   "source": [
    "def transform_test(test_x,\n",
    "                   scale=True, \n",
    "                   feature_scaler=None,  \n",
    "                   encode_cat=True,\n",
    "                   encoder=None):\n",
    "\n",
    "    t_x = test_x.copy()\n",
    "    \n",
    "    if scale:\n",
    "        t_x[num_cols] = feature_scaler.fit_transform(t_x[num_cols])\n",
    "\n",
    "    if encode_cat:\n",
    "        t_x[cat_cols] = t_x[cat_cols].astype(object) \n",
    "        t_x[cat_cols] = encoder.transform(t_x[cat_cols])\n",
    "        \n",
    "    return t_x"
   ]
  },
  {
   "cell_type": "code",
   "execution_count": 36,
   "id": "b28cea93",
   "metadata": {},
   "outputs": [],
   "source": [
    "test = pd.read_csv('../data/interim/test_etl.csv', index_col='ID')"
   ]
  },
  {
   "cell_type": "code",
   "execution_count": 37,
   "id": "fc04c01b",
   "metadata": {},
   "outputs": [
    {
     "data": {
      "text/html": [
       "<div>\n",
       "<style scoped>\n",
       "    .dataframe tbody tr th:only-of-type {\n",
       "        vertical-align: middle;\n",
       "    }\n",
       "\n",
       "    .dataframe tbody tr th {\n",
       "        vertical-align: top;\n",
       "    }\n",
       "\n",
       "    .dataframe thead th {\n",
       "        text-align: right;\n",
       "    }\n",
       "</style>\n",
       "<table border=\"1\" class=\"dataframe\">\n",
       "  <thead>\n",
       "    <tr style=\"text-align: right;\">\n",
       "      <th></th>\n",
       "      <th>shop_id</th>\n",
       "      <th>item_id</th>\n",
       "      <th>month_sin</th>\n",
       "      <th>month_cos</th>\n",
       "      <th>item_category_id</th>\n",
       "      <th>city_id</th>\n",
       "      <th>global_cat_id</th>\n",
       "      <th>shop_age_month</th>\n",
       "      <th>item_age_month</th>\n",
       "      <th>month_lag_1</th>\n",
       "      <th>month_lag_2</th>\n",
       "      <th>month_lag_3</th>\n",
       "      <th>month_lag_6</th>\n",
       "      <th>month_lag_12</th>\n",
       "      <th>sum_sales_lag_6</th>\n",
       "      <th>sum_sales_lag_12</th>\n",
       "    </tr>\n",
       "  </thead>\n",
       "  <tbody>\n",
       "    <tr>\n",
       "      <th>0</th>\n",
       "      <td>5</td>\n",
       "      <td>5037</td>\n",
       "      <td>-0.5</td>\n",
       "      <td>0.866025</td>\n",
       "      <td>19</td>\n",
       "      <td>5</td>\n",
       "      <td>5</td>\n",
       "      <td>34.166667</td>\n",
       "      <td>14.833333</td>\n",
       "      <td>0.0</td>\n",
       "      <td>1.0</td>\n",
       "      <td>3.0</td>\n",
       "      <td>1.0</td>\n",
       "      <td>1.0</td>\n",
       "      <td>7.0</td>\n",
       "      <td>12.0</td>\n",
       "    </tr>\n",
       "    <tr>\n",
       "      <th>1</th>\n",
       "      <td>5</td>\n",
       "      <td>5320</td>\n",
       "      <td>-0.5</td>\n",
       "      <td>0.866025</td>\n",
       "      <td>55</td>\n",
       "      <td>5</td>\n",
       "      <td>12</td>\n",
       "      <td>34.166667</td>\n",
       "      <td>0.000000</td>\n",
       "      <td>0.0</td>\n",
       "      <td>0.0</td>\n",
       "      <td>0.0</td>\n",
       "      <td>0.0</td>\n",
       "      <td>0.0</td>\n",
       "      <td>0.0</td>\n",
       "      <td>0.0</td>\n",
       "    </tr>\n",
       "    <tr>\n",
       "      <th>2</th>\n",
       "      <td>5</td>\n",
       "      <td>5233</td>\n",
       "      <td>-0.5</td>\n",
       "      <td>0.866025</td>\n",
       "      <td>19</td>\n",
       "      <td>5</td>\n",
       "      <td>5</td>\n",
       "      <td>34.166667</td>\n",
       "      <td>7.700000</td>\n",
       "      <td>1.0</td>\n",
       "      <td>3.0</td>\n",
       "      <td>1.0</td>\n",
       "      <td>3.0</td>\n",
       "      <td>0.0</td>\n",
       "      <td>10.0</td>\n",
       "      <td>10.0</td>\n",
       "    </tr>\n",
       "    <tr>\n",
       "      <th>3</th>\n",
       "      <td>5</td>\n",
       "      <td>5232</td>\n",
       "      <td>-0.5</td>\n",
       "      <td>0.866025</td>\n",
       "      <td>23</td>\n",
       "      <td>5</td>\n",
       "      <td>5</td>\n",
       "      <td>34.166667</td>\n",
       "      <td>3.733333</td>\n",
       "      <td>0.0</td>\n",
       "      <td>0.0</td>\n",
       "      <td>1.0</td>\n",
       "      <td>0.0</td>\n",
       "      <td>0.0</td>\n",
       "      <td>1.0</td>\n",
       "      <td>1.0</td>\n",
       "    </tr>\n",
       "    <tr>\n",
       "      <th>4</th>\n",
       "      <td>5</td>\n",
       "      <td>5268</td>\n",
       "      <td>-0.5</td>\n",
       "      <td>0.866025</td>\n",
       "      <td>20</td>\n",
       "      <td>5</td>\n",
       "      <td>5</td>\n",
       "      <td>34.166667</td>\n",
       "      <td>0.000000</td>\n",
       "      <td>0.0</td>\n",
       "      <td>0.0</td>\n",
       "      <td>0.0</td>\n",
       "      <td>0.0</td>\n",
       "      <td>0.0</td>\n",
       "      <td>0.0</td>\n",
       "      <td>0.0</td>\n",
       "    </tr>\n",
       "  </tbody>\n",
       "</table>\n",
       "</div>"
      ],
      "text/plain": [
       "   shop_id  item_id  month_sin  month_cos  item_category_id  city_id  \\\n",
       "0        5     5037       -0.5   0.866025                19        5   \n",
       "1        5     5320       -0.5   0.866025                55        5   \n",
       "2        5     5233       -0.5   0.866025                19        5   \n",
       "3        5     5232       -0.5   0.866025                23        5   \n",
       "4        5     5268       -0.5   0.866025                20        5   \n",
       "\n",
       "   global_cat_id  shop_age_month  item_age_month  month_lag_1  month_lag_2  \\\n",
       "0              5       34.166667       14.833333          0.0          1.0   \n",
       "1             12       34.166667        0.000000          0.0          0.0   \n",
       "2              5       34.166667        7.700000          1.0          3.0   \n",
       "3              5       34.166667        3.733333          0.0          0.0   \n",
       "4              5       34.166667        0.000000          0.0          0.0   \n",
       "\n",
       "   month_lag_3  month_lag_6  month_lag_12  sum_sales_lag_6  sum_sales_lag_12  \n",
       "0          3.0          1.0           1.0              7.0              12.0  \n",
       "1          0.0          0.0           0.0              0.0               0.0  \n",
       "2          1.0          3.0           0.0             10.0              10.0  \n",
       "3          1.0          0.0           0.0              1.0               1.0  \n",
       "4          0.0          0.0           0.0              0.0               0.0  "
      ]
     },
     "execution_count": 37,
     "metadata": {},
     "output_type": "execute_result"
    }
   ],
   "source": [
    "test_x = feature_extraction_pipeline_test.fit_transform(test)\n",
    "test_x = lag_pipeline.transform(test_x)\n",
    "test_x.head()"
   ]
  },
  {
   "cell_type": "code",
   "execution_count": 46,
   "id": "68797ce8",
   "metadata": {},
   "outputs": [],
   "source": [
    "t_x = transform_test(test_x,\n",
    "                   scale=True,\n",
    "                   feature_scaler=feature_scaler,\n",
    "                   encode_cat=True,\n",
    "                   encoder=encoder)"
   ]
  },
  {
   "cell_type": "code",
   "execution_count": 47,
   "id": "02962aac",
   "metadata": {},
   "outputs": [
    {
     "data": {
      "text/html": [
       "<div>\n",
       "<style scoped>\n",
       "    .dataframe tbody tr th:only-of-type {\n",
       "        vertical-align: middle;\n",
       "    }\n",
       "\n",
       "    .dataframe tbody tr th {\n",
       "        vertical-align: top;\n",
       "    }\n",
       "\n",
       "    .dataframe thead th {\n",
       "        text-align: right;\n",
       "    }\n",
       "</style>\n",
       "<table border=\"1\" class=\"dataframe\">\n",
       "  <thead>\n",
       "    <tr style=\"text-align: right;\">\n",
       "      <th></th>\n",
       "      <th>index</th>\n",
       "      <th>item_cnt_month</th>\n",
       "    </tr>\n",
       "  </thead>\n",
       "  <tbody>\n",
       "    <tr>\n",
       "      <th>0</th>\n",
       "      <td>0</td>\n",
       "      <td>1.527719</td>\n",
       "    </tr>\n",
       "    <tr>\n",
       "      <th>1</th>\n",
       "      <td>1</td>\n",
       "      <td>0.741723</td>\n",
       "    </tr>\n",
       "    <tr>\n",
       "      <th>2</th>\n",
       "      <td>2</td>\n",
       "      <td>1.725369</td>\n",
       "    </tr>\n",
       "    <tr>\n",
       "      <th>3</th>\n",
       "      <td>3</td>\n",
       "      <td>0.938917</td>\n",
       "    </tr>\n",
       "    <tr>\n",
       "      <th>4</th>\n",
       "      <td>4</td>\n",
       "      <td>0.809662</td>\n",
       "    </tr>\n",
       "    <tr>\n",
       "      <th>...</th>\n",
       "      <td>...</td>\n",
       "      <td>...</td>\n",
       "    </tr>\n",
       "    <tr>\n",
       "      <th>214195</th>\n",
       "      <td>214195</td>\n",
       "      <td>1.467490</td>\n",
       "    </tr>\n",
       "    <tr>\n",
       "      <th>214196</th>\n",
       "      <td>214196</td>\n",
       "      <td>1.084314</td>\n",
       "    </tr>\n",
       "    <tr>\n",
       "      <th>214197</th>\n",
       "      <td>214197</td>\n",
       "      <td>1.086013</td>\n",
       "    </tr>\n",
       "    <tr>\n",
       "      <th>214198</th>\n",
       "      <td>214198</td>\n",
       "      <td>1.041405</td>\n",
       "    </tr>\n",
       "    <tr>\n",
       "      <th>214199</th>\n",
       "      <td>214199</td>\n",
       "      <td>1.239716</td>\n",
       "    </tr>\n",
       "  </tbody>\n",
       "</table>\n",
       "<p>214200 rows × 2 columns</p>\n",
       "</div>"
      ],
      "text/plain": [
       "         index  item_cnt_month\n",
       "0            0        1.527719\n",
       "1            1        0.741723\n",
       "2            2        1.725369\n",
       "3            3        0.938917\n",
       "4            4        0.809662\n",
       "...        ...             ...\n",
       "214195  214195        1.467490\n",
       "214196  214196        1.084314\n",
       "214197  214197        1.086013\n",
       "214198  214198        1.041405\n",
       "214199  214199        1.239716\n",
       "\n",
       "[214200 rows x 2 columns]"
      ]
     },
     "execution_count": 47,
     "metadata": {},
     "output_type": "execute_result"
    }
   ],
   "source": [
    "y_test = np.exp(target_scaler.inverse_transform(xgbr.predict(t_x)))\n",
    "#y_test = xgbr.predict(t_x)\n",
    "y_test = pd.DataFrame(y_test, columns=['item_cnt_month']).reset_index()\n",
    "y_test.to_csv('../data/processed/sub_exp2.csv', header=['ID', 'item_cnt_month'], index=False)\n",
    "y_test"
   ]
  },
  {
   "cell_type": "code",
   "execution_count": null,
   "id": "450bf584",
   "metadata": {},
   "outputs": [],
   "source": []
  }
 ],
 "metadata": {
  "kernelspec": {
   "display_name": "Python 3",
   "language": "python",
   "name": "python3"
  },
  "language_info": {
   "codemirror_mode": {
    "name": "ipython",
    "version": 3
   },
   "file_extension": ".py",
   "mimetype": "text/x-python",
   "name": "python",
   "nbconvert_exporter": "python",
   "pygments_lexer": "ipython3",
   "version": "3.8.8"
  }
 },
 "nbformat": 4,
 "nbformat_minor": 5
}
