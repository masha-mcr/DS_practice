{
 "cells": [
  {
   "cell_type": "code",
   "execution_count": 2,
   "id": "b0411ecd",
   "metadata": {},
   "outputs": [],
   "source": [
    "import pandas as pd\n",
    "import numpy as np\n",
    "import matplotlib.pyplot as plt"
   ]
  },
  {
   "cell_type": "code",
   "execution_count": 3,
   "id": "17558cf6",
   "metadata": {},
   "outputs": [],
   "source": [
    "sales = pd.read_csv('../data/raw/sales_train.csv')\n",
    "shops = pd.read_csv('../data/raw/shops.csv')\n",
    "items = pd.read_csv('../data/raw/items.csv')\n",
    "item_cat = pd.read_csv('../data/raw/item_categories.csv')"
   ]
  },
  {
   "cell_type": "markdown",
   "id": "893bf31a",
   "metadata": {},
   "source": [
    "## Sales\n",
    "\n",
    "According to data dictionary, `sales_train.csv` contains daily historical data from January 2013 to October 2015.\n",
    "* *date* - date in format dd/mm/yyyy\n",
    "* *date_block_num* - a consecutive month number, used for convenience. January 2013 is 0, February 2013 is 1,..., October 2015 is 33\n",
    "* *shop_id* - unique identifier of a shop\n",
    "* *item_id* - unique identifier of a product\n",
    "* *item_price* - current price of an item\n",
    "* *item_cnt_day* - number of products sold. You are predicting a monthly amount of this measure\n",
    "\n",
    "\n"
   ]
  },
  {
   "cell_type": "code",
   "execution_count": 4,
   "id": "e8209a04",
   "metadata": {},
   "outputs": [
    {
     "data": {
      "text/html": [
       "<div>\n",
       "<style scoped>\n",
       "    .dataframe tbody tr th:only-of-type {\n",
       "        vertical-align: middle;\n",
       "    }\n",
       "\n",
       "    .dataframe tbody tr th {\n",
       "        vertical-align: top;\n",
       "    }\n",
       "\n",
       "    .dataframe thead th {\n",
       "        text-align: right;\n",
       "    }\n",
       "</style>\n",
       "<table border=\"1\" class=\"dataframe\">\n",
       "  <thead>\n",
       "    <tr style=\"text-align: right;\">\n",
       "      <th></th>\n",
       "      <th>date</th>\n",
       "      <th>date_block_num</th>\n",
       "      <th>shop_id</th>\n",
       "      <th>item_id</th>\n",
       "      <th>item_price</th>\n",
       "      <th>item_cnt_day</th>\n",
       "    </tr>\n",
       "  </thead>\n",
       "  <tbody>\n",
       "    <tr>\n",
       "      <th>0</th>\n",
       "      <td>02.01.2013</td>\n",
       "      <td>0</td>\n",
       "      <td>59</td>\n",
       "      <td>22154</td>\n",
       "      <td>999.00</td>\n",
       "      <td>1.0</td>\n",
       "    </tr>\n",
       "    <tr>\n",
       "      <th>1</th>\n",
       "      <td>03.01.2013</td>\n",
       "      <td>0</td>\n",
       "      <td>25</td>\n",
       "      <td>2552</td>\n",
       "      <td>899.00</td>\n",
       "      <td>1.0</td>\n",
       "    </tr>\n",
       "    <tr>\n",
       "      <th>2</th>\n",
       "      <td>05.01.2013</td>\n",
       "      <td>0</td>\n",
       "      <td>25</td>\n",
       "      <td>2552</td>\n",
       "      <td>899.00</td>\n",
       "      <td>-1.0</td>\n",
       "    </tr>\n",
       "    <tr>\n",
       "      <th>3</th>\n",
       "      <td>06.01.2013</td>\n",
       "      <td>0</td>\n",
       "      <td>25</td>\n",
       "      <td>2554</td>\n",
       "      <td>1709.05</td>\n",
       "      <td>1.0</td>\n",
       "    </tr>\n",
       "    <tr>\n",
       "      <th>4</th>\n",
       "      <td>15.01.2013</td>\n",
       "      <td>0</td>\n",
       "      <td>25</td>\n",
       "      <td>2555</td>\n",
       "      <td>1099.00</td>\n",
       "      <td>1.0</td>\n",
       "    </tr>\n",
       "  </tbody>\n",
       "</table>\n",
       "</div>"
      ],
      "text/plain": [
       "         date  date_block_num  shop_id  item_id  item_price  item_cnt_day\n",
       "0  02.01.2013               0       59    22154      999.00           1.0\n",
       "1  03.01.2013               0       25     2552      899.00           1.0\n",
       "2  05.01.2013               0       25     2552      899.00          -1.0\n",
       "3  06.01.2013               0       25     2554     1709.05           1.0\n",
       "4  15.01.2013               0       25     2555     1099.00           1.0"
      ]
     },
     "execution_count": 4,
     "metadata": {},
     "output_type": "execute_result"
    }
   ],
   "source": [
    "sales.head()"
   ]
  },
  {
   "cell_type": "code",
   "execution_count": 5,
   "id": "10771a16",
   "metadata": {},
   "outputs": [
    {
     "data": {
      "text/html": [
       "<div>\n",
       "<style scoped>\n",
       "    .dataframe tbody tr th:only-of-type {\n",
       "        vertical-align: middle;\n",
       "    }\n",
       "\n",
       "    .dataframe tbody tr th {\n",
       "        vertical-align: top;\n",
       "    }\n",
       "\n",
       "    .dataframe thead th {\n",
       "        text-align: right;\n",
       "    }\n",
       "</style>\n",
       "<table border=\"1\" class=\"dataframe\">\n",
       "  <thead>\n",
       "    <tr style=\"text-align: right;\">\n",
       "      <th></th>\n",
       "      <th>date</th>\n",
       "      <th>date_block_num</th>\n",
       "      <th>shop_id</th>\n",
       "      <th>item_id</th>\n",
       "      <th>item_price</th>\n",
       "      <th>item_cnt_day</th>\n",
       "    </tr>\n",
       "  </thead>\n",
       "  <tbody>\n",
       "    <tr>\n",
       "      <th>76962</th>\n",
       "      <td>05.01.2013</td>\n",
       "      <td>0</td>\n",
       "      <td>54</td>\n",
       "      <td>20130</td>\n",
       "      <td>149.0</td>\n",
       "      <td>1.0</td>\n",
       "    </tr>\n",
       "    <tr>\n",
       "      <th>1435367</th>\n",
       "      <td>23.02.2014</td>\n",
       "      <td>13</td>\n",
       "      <td>50</td>\n",
       "      <td>3423</td>\n",
       "      <td>999.0</td>\n",
       "      <td>1.0</td>\n",
       "    </tr>\n",
       "    <tr>\n",
       "      <th>1496766</th>\n",
       "      <td>23.03.2014</td>\n",
       "      <td>14</td>\n",
       "      <td>21</td>\n",
       "      <td>3423</td>\n",
       "      <td>999.0</td>\n",
       "      <td>1.0</td>\n",
       "    </tr>\n",
       "    <tr>\n",
       "      <th>1671873</th>\n",
       "      <td>01.05.2014</td>\n",
       "      <td>16</td>\n",
       "      <td>50</td>\n",
       "      <td>3423</td>\n",
       "      <td>999.0</td>\n",
       "      <td>1.0</td>\n",
       "    </tr>\n",
       "    <tr>\n",
       "      <th>1866340</th>\n",
       "      <td>12.07.2014</td>\n",
       "      <td>18</td>\n",
       "      <td>25</td>\n",
       "      <td>3423</td>\n",
       "      <td>999.0</td>\n",
       "      <td>1.0</td>\n",
       "    </tr>\n",
       "    <tr>\n",
       "      <th>2198566</th>\n",
       "      <td>31.12.2014</td>\n",
       "      <td>23</td>\n",
       "      <td>42</td>\n",
       "      <td>21619</td>\n",
       "      <td>499.0</td>\n",
       "      <td>1.0</td>\n",
       "    </tr>\n",
       "  </tbody>\n",
       "</table>\n",
       "</div>"
      ],
      "text/plain": [
       "               date  date_block_num  shop_id  item_id  item_price  \\\n",
       "76962    05.01.2013               0       54    20130       149.0   \n",
       "1435367  23.02.2014              13       50     3423       999.0   \n",
       "1496766  23.03.2014              14       21     3423       999.0   \n",
       "1671873  01.05.2014              16       50     3423       999.0   \n",
       "1866340  12.07.2014              18       25     3423       999.0   \n",
       "2198566  31.12.2014              23       42    21619       499.0   \n",
       "\n",
       "         item_cnt_day  \n",
       "76962             1.0  \n",
       "1435367           1.0  \n",
       "1496766           1.0  \n",
       "1671873           1.0  \n",
       "1866340           1.0  \n",
       "2198566           1.0  "
      ]
     },
     "execution_count": 5,
     "metadata": {},
     "output_type": "execute_result"
    }
   ],
   "source": [
    "sales[sales.duplicated()]"
   ]
  },
  {
   "cell_type": "markdown",
   "id": "beecba1e",
   "metadata": {},
   "source": [
    "There're some duplicates present"
   ]
  },
  {
   "cell_type": "code",
   "execution_count": 6,
   "id": "2a7c9ef4",
   "metadata": {},
   "outputs": [
    {
     "data": {
      "text/plain": [
       "date              False\n",
       "date_block_num    False\n",
       "shop_id           False\n",
       "item_id           False\n",
       "item_price        False\n",
       "item_cnt_day      False\n",
       "dtype: bool"
      ]
     },
     "execution_count": 6,
     "metadata": {},
     "output_type": "execute_result"
    }
   ],
   "source": [
    "sales.isna().any()"
   ]
  },
  {
   "cell_type": "markdown",
   "id": "d4555d2b",
   "metadata": {},
   "source": [
    "No NaN values."
   ]
  },
  {
   "cell_type": "code",
   "execution_count": 7,
   "id": "de18c3e1",
   "metadata": {},
   "outputs": [
    {
     "name": "stdout",
     "output_type": "stream",
     "text": [
      "<class 'pandas.core.frame.DataFrame'>\n",
      "RangeIndex: 2935849 entries, 0 to 2935848\n",
      "Data columns (total 6 columns):\n",
      " #   Column          Dtype  \n",
      "---  ------          -----  \n",
      " 0   date            object \n",
      " 1   date_block_num  int64  \n",
      " 2   shop_id         int64  \n",
      " 3   item_id         int64  \n",
      " 4   item_price      float64\n",
      " 5   item_cnt_day    float64\n",
      "dtypes: float64(2), int64(3), object(1)\n",
      "memory usage: 134.4+ MB\n"
     ]
    }
   ],
   "source": [
    "sales.info() #checking appropriate datatypes"
   ]
  },
  {
   "cell_type": "code",
   "execution_count": 8,
   "id": "f6007f79",
   "metadata": {},
   "outputs": [],
   "source": [
    "# converting date from object to datetime \n",
    "sales['date'] = pd.to_datetime(sales['date'], format=\"%d.%m.%Y\")"
   ]
  },
  {
   "cell_type": "code",
   "execution_count": 9,
   "id": "a8716043",
   "metadata": {},
   "outputs": [
    {
     "name": "stdout",
     "output_type": "stream",
     "text": [
      "Min date: 2013-01-01 00:00:00\n",
      "Max date: 2015-10-31 00:00:00\n"
     ]
    }
   ],
   "source": [
    "min_date = sales['date'].min()\n",
    "max_date = sales['date'].max()\n",
    "print(f'Min date: {min_date}\\nMax date: {max_date}')"
   ]
  },
  {
   "cell_type": "code",
   "execution_count": 10,
   "id": "d9e88d36",
   "metadata": {},
   "outputs": [
    {
     "data": {
      "text/plain": [
       "array([ 0,  1,  2,  3,  4,  5,  6,  7,  8,  9, 10, 11, 12, 13, 14, 15, 16,\n",
       "       17, 18, 19, 20, 21, 22, 23, 24, 25, 26, 27, 28, 29, 30, 31, 32, 33],\n",
       "      dtype=int64)"
      ]
     },
     "execution_count": 10,
     "metadata": {},
     "output_type": "execute_result"
    }
   ],
   "source": [
    "sales['date_block_num'].unique()"
   ]
  },
  {
   "cell_type": "code",
   "execution_count": 11,
   "id": "cc0dab1e",
   "metadata": {},
   "outputs": [
    {
     "name": "stdout",
     "output_type": "stream",
     "text": [
      "Min price: -1.0\n",
      "Max price: 307980.0\n",
      "Mean price: 890.8532326979881\n",
      "Median price: 399.0\n"
     ]
    }
   ],
   "source": [
    "min_price = sales['item_price'].min()\n",
    "max_price = sales['item_price'].max()\n",
    "mean_price = sales['item_price'].mean()\n",
    "median_price = sales['item_price'].median()\n",
    "print(f'Min price: {min_price}\\nMax price: {max_price}\\nMean price: {mean_price}\\nMedian price: {median_price}')"
   ]
  },
  {
   "cell_type": "markdown",
   "id": "dc90804a",
   "metadata": {},
   "source": [
    "There are negative prices, max price might be an outliar"
   ]
  },
  {
   "cell_type": "code",
   "execution_count": 12,
   "id": "c2da3576",
   "metadata": {},
   "outputs": [
    {
     "data": {
      "image/png": "[encoded data removed]",
      "text/plain": [
       "<Figure size 432x288 with 1 Axes>"
      ]
     },
     "metadata": {
      "needs_background": "light"
     },
     "output_type": "display_data"
    }
   ],
   "source": [
    "plt.boxplot(sales['item_price']); "
   ]
  },
  {
   "cell_type": "markdown",
   "id": "d33bb25d",
   "metadata": {},
   "source": [
    "The 300000+ point is way too far and it seems to be the only observation with such high value."
   ]
  },
  {
   "cell_type": "code",
   "execution_count": 13,
   "id": "7919fb0d",
   "metadata": {},
   "outputs": [
    {
     "data": {
      "image/png": "[encoded data removed]",
      "text/plain": [
       "<Figure size 432x288 with 1 Axes>"
      ]
     },
     "metadata": {
      "needs_background": "light"
     },
     "output_type": "display_data"
    }
   ],
   "source": [
    "plt.hist(sales['item_price'], bins=20);"
   ]
  },
  {
   "cell_type": "markdown",
   "id": "1f251d49",
   "metadata": {},
   "source": [
    "We can explore the samples with high values and see if they make sense or are just a result of some sort of error."
   ]
  },
  {
   "cell_type": "code",
   "execution_count": 14,
   "id": "ea8c21f3",
   "metadata": {},
   "outputs": [
    {
     "data": {
      "text/html": [
       "<div>\n",
       "<style scoped>\n",
       "    .dataframe tbody tr th:only-of-type {\n",
       "        vertical-align: middle;\n",
       "    }\n",
       "\n",
       "    .dataframe tbody tr th {\n",
       "        vertical-align: top;\n",
       "    }\n",
       "\n",
       "    .dataframe thead th {\n",
       "        text-align: right;\n",
       "    }\n",
       "</style>\n",
       "<table border=\"1\" class=\"dataframe\">\n",
       "  <thead>\n",
       "    <tr style=\"text-align: right;\">\n",
       "      <th></th>\n",
       "      <th>date</th>\n",
       "      <th>date_block_num</th>\n",
       "      <th>shop_id</th>\n",
       "      <th>item_id</th>\n",
       "      <th>item_price</th>\n",
       "      <th>item_cnt_day</th>\n",
       "      <th>item_name</th>\n",
       "      <th>item_category_id</th>\n",
       "    </tr>\n",
       "  </thead>\n",
       "  <tbody>\n",
       "    <tr>\n",
       "      <th>0</th>\n",
       "      <td>2013-12-13</td>\n",
       "      <td>11</td>\n",
       "      <td>12</td>\n",
       "      <td>6066</td>\n",
       "      <td>307980.0</td>\n",
       "      <td>1.0</td>\n",
       "      <td>Radmin 3  - 522 лиц.</td>\n",
       "      <td>75</td>\n",
       "    </tr>\n",
       "    <tr>\n",
       "      <th>1</th>\n",
       "      <td>2013-09-17</td>\n",
       "      <td>8</td>\n",
       "      <td>12</td>\n",
       "      <td>11365</td>\n",
       "      <td>59200.0</td>\n",
       "      <td>1.0</td>\n",
       "      <td>Доставка (EMS)</td>\n",
       "      <td>9</td>\n",
       "    </tr>\n",
       "    <tr>\n",
       "      <th>2</th>\n",
       "      <td>2014-03-20</td>\n",
       "      <td>14</td>\n",
       "      <td>25</td>\n",
       "      <td>13199</td>\n",
       "      <td>50999.0</td>\n",
       "      <td>1.0</td>\n",
       "      <td>Коллекционные шахматы (Властелин Колец)</td>\n",
       "      <td>69</td>\n",
       "    </tr>\n",
       "    <tr>\n",
       "      <th>3</th>\n",
       "      <td>2015-01-29</td>\n",
       "      <td>24</td>\n",
       "      <td>12</td>\n",
       "      <td>7241</td>\n",
       "      <td>49782.0</td>\n",
       "      <td>1.0</td>\n",
       "      <td>UserGate Proxy &amp; Firewall 6.X с модулем фильтр...</td>\n",
       "      <td>75</td>\n",
       "    </tr>\n",
       "    <tr>\n",
       "      <th>4</th>\n",
       "      <td>2015-10-20</td>\n",
       "      <td>33</td>\n",
       "      <td>22</td>\n",
       "      <td>13403</td>\n",
       "      <td>42990.0</td>\n",
       "      <td>1.0</td>\n",
       "      <td>Комплект \"Microsoft Xbox One 1TB  Limited Edit...</td>\n",
       "      <td>16</td>\n",
       "    </tr>\n",
       "    <tr>\n",
       "      <th>5</th>\n",
       "      <td>2015-10-20</td>\n",
       "      <td>33</td>\n",
       "      <td>3</td>\n",
       "      <td>13403</td>\n",
       "      <td>42990.0</td>\n",
       "      <td>1.0</td>\n",
       "      <td>Комплект \"Microsoft Xbox One 1TB  Limited Edit...</td>\n",
       "      <td>16</td>\n",
       "    </tr>\n",
       "    <tr>\n",
       "      <th>6</th>\n",
       "      <td>2015-10-29</td>\n",
       "      <td>33</td>\n",
       "      <td>12</td>\n",
       "      <td>13403</td>\n",
       "      <td>42990.0</td>\n",
       "      <td>1.0</td>\n",
       "      <td>Комплект \"Microsoft Xbox One 1TB  Limited Edit...</td>\n",
       "      <td>16</td>\n",
       "    </tr>\n",
       "    <tr>\n",
       "      <th>7</th>\n",
       "      <td>2015-10-23</td>\n",
       "      <td>33</td>\n",
       "      <td>42</td>\n",
       "      <td>13403</td>\n",
       "      <td>42990.0</td>\n",
       "      <td>1.0</td>\n",
       "      <td>Комплект \"Microsoft Xbox One 1TB  Limited Edit...</td>\n",
       "      <td>16</td>\n",
       "    </tr>\n",
       "    <tr>\n",
       "      <th>8</th>\n",
       "      <td>2015-10-20</td>\n",
       "      <td>33</td>\n",
       "      <td>12</td>\n",
       "      <td>13403</td>\n",
       "      <td>41990.0</td>\n",
       "      <td>1.0</td>\n",
       "      <td>Комплект \"Microsoft Xbox One 1TB  Limited Edit...</td>\n",
       "      <td>16</td>\n",
       "    </tr>\n",
       "    <tr>\n",
       "      <th>9</th>\n",
       "      <td>2015-10-20</td>\n",
       "      <td>33</td>\n",
       "      <td>38</td>\n",
       "      <td>13403</td>\n",
       "      <td>41990.0</td>\n",
       "      <td>1.0</td>\n",
       "      <td>Комплект \"Microsoft Xbox One 1TB  Limited Edit...</td>\n",
       "      <td>16</td>\n",
       "    </tr>\n",
       "    <tr>\n",
       "      <th>10</th>\n",
       "      <td>2015-10-22</td>\n",
       "      <td>33</td>\n",
       "      <td>18</td>\n",
       "      <td>13403</td>\n",
       "      <td>41990.0</td>\n",
       "      <td>1.0</td>\n",
       "      <td>Комплект \"Microsoft Xbox One 1TB  Limited Edit...</td>\n",
       "      <td>16</td>\n",
       "    </tr>\n",
       "    <tr>\n",
       "      <th>11</th>\n",
       "      <td>2015-10-22</td>\n",
       "      <td>33</td>\n",
       "      <td>28</td>\n",
       "      <td>13403</td>\n",
       "      <td>40991.0</td>\n",
       "      <td>1.0</td>\n",
       "      <td>Комплект \"Microsoft Xbox One 1TB  Limited Edit...</td>\n",
       "      <td>16</td>\n",
       "    </tr>\n",
       "    <tr>\n",
       "      <th>12</th>\n",
       "      <td>2015-10-29</td>\n",
       "      <td>33</td>\n",
       "      <td>42</td>\n",
       "      <td>13403</td>\n",
       "      <td>37991.0</td>\n",
       "      <td>2.0</td>\n",
       "      <td>Комплект \"Microsoft Xbox One 1TB  Limited Edit...</td>\n",
       "      <td>16</td>\n",
       "    </tr>\n",
       "    <tr>\n",
       "      <th>13</th>\n",
       "      <td>2015-10-26</td>\n",
       "      <td>33</td>\n",
       "      <td>25</td>\n",
       "      <td>13403</td>\n",
       "      <td>37991.0</td>\n",
       "      <td>1.0</td>\n",
       "      <td>Комплект \"Microsoft Xbox One 1TB  Limited Edit...</td>\n",
       "      <td>16</td>\n",
       "    </tr>\n",
       "    <tr>\n",
       "      <th>14</th>\n",
       "      <td>2013-10-24</td>\n",
       "      <td>9</td>\n",
       "      <td>12</td>\n",
       "      <td>7238</td>\n",
       "      <td>42000.0</td>\n",
       "      <td>1.0</td>\n",
       "      <td>UserGate Proxy &amp; Firewall 6.X до 100 сессий</td>\n",
       "      <td>75</td>\n",
       "    </tr>\n",
       "    <tr>\n",
       "      <th>15</th>\n",
       "      <td>2014-11-20</td>\n",
       "      <td>22</td>\n",
       "      <td>12</td>\n",
       "      <td>14173</td>\n",
       "      <td>40900.0</td>\n",
       "      <td>1.0</td>\n",
       "      <td>Лицензия 1С-Битрикс: Управление сайтом - Эксперт</td>\n",
       "      <td>75</td>\n",
       "    </tr>\n",
       "    <tr>\n",
       "      <th>16</th>\n",
       "      <td>2014-04-16</td>\n",
       "      <td>15</td>\n",
       "      <td>14</td>\n",
       "      <td>5748</td>\n",
       "      <td>36990.0</td>\n",
       "      <td>1.0</td>\n",
       "      <td>Photoshop 13 Windows Russian BOX</td>\n",
       "      <td>75</td>\n",
       "    </tr>\n",
       "    <tr>\n",
       "      <th>17</th>\n",
       "      <td>2014-02-10</td>\n",
       "      <td>13</td>\n",
       "      <td>12</td>\n",
       "      <td>5748</td>\n",
       "      <td>36990.0</td>\n",
       "      <td>1.0</td>\n",
       "      <td>Photoshop 13 Windows Russian BOX</td>\n",
       "      <td>75</td>\n",
       "    </tr>\n",
       "    <tr>\n",
       "      <th>18</th>\n",
       "      <td>2014-05-09</td>\n",
       "      <td>16</td>\n",
       "      <td>5</td>\n",
       "      <td>5748</td>\n",
       "      <td>36990.0</td>\n",
       "      <td>1.0</td>\n",
       "      <td>Photoshop 13 Windows Russian BOX</td>\n",
       "      <td>75</td>\n",
       "    </tr>\n",
       "    <tr>\n",
       "      <th>19</th>\n",
       "      <td>2013-09-11</td>\n",
       "      <td>8</td>\n",
       "      <td>12</td>\n",
       "      <td>2410</td>\n",
       "      <td>36990.0</td>\n",
       "      <td>1.0</td>\n",
       "      <td>CorelDRAW Graphics Suite X6 - Small Business E...</td>\n",
       "      <td>75</td>\n",
       "    </tr>\n",
       "  </tbody>\n",
       "</table>\n",
       "</div>"
      ],
      "text/plain": [
       "         date  date_block_num  shop_id  item_id  item_price  item_cnt_day  \\\n",
       "0  2013-12-13              11       12     6066    307980.0           1.0   \n",
       "1  2013-09-17               8       12    11365     59200.0           1.0   \n",
       "2  2014-03-20              14       25    13199     50999.0           1.0   \n",
       "3  2015-01-29              24       12     7241     49782.0           1.0   \n",
       "4  2015-10-20              33       22    13403     42990.0           1.0   \n",
       "5  2015-10-20              33        3    13403     42990.0           1.0   \n",
       "6  2015-10-29              33       12    13403     42990.0           1.0   \n",
       "7  2015-10-23              33       42    13403     42990.0           1.0   \n",
       "8  2015-10-20              33       12    13403     41990.0           1.0   \n",
       "9  2015-10-20              33       38    13403     41990.0           1.0   \n",
       "10 2015-10-22              33       18    13403     41990.0           1.0   \n",
       "11 2015-10-22              33       28    13403     40991.0           1.0   \n",
       "12 2015-10-29              33       42    13403     37991.0           2.0   \n",
       "13 2015-10-26              33       25    13403     37991.0           1.0   \n",
       "14 2013-10-24               9       12     7238     42000.0           1.0   \n",
       "15 2014-11-20              22       12    14173     40900.0           1.0   \n",
       "16 2014-04-16              15       14     5748     36990.0           1.0   \n",
       "17 2014-02-10              13       12     5748     36990.0           1.0   \n",
       "18 2014-05-09              16        5     5748     36990.0           1.0   \n",
       "19 2013-09-11               8       12     2410     36990.0           1.0   \n",
       "\n",
       "                                            item_name  item_category_id  \n",
       "0                                Radmin 3  - 522 лиц.                75  \n",
       "1                                      Доставка (EMS)                 9  \n",
       "2             Коллекционные шахматы (Властелин Колец)                69  \n",
       "3   UserGate Proxy & Firewall 6.X с модулем фильтр...                75  \n",
       "4   Комплект \"Microsoft Xbox One 1TB  Limited Edit...                16  \n",
       "5   Комплект \"Microsoft Xbox One 1TB  Limited Edit...                16  \n",
       "6   Комплект \"Microsoft Xbox One 1TB  Limited Edit...                16  \n",
       "7   Комплект \"Microsoft Xbox One 1TB  Limited Edit...                16  \n",
       "8   Комплект \"Microsoft Xbox One 1TB  Limited Edit...                16  \n",
       "9   Комплект \"Microsoft Xbox One 1TB  Limited Edit...                16  \n",
       "10  Комплект \"Microsoft Xbox One 1TB  Limited Edit...                16  \n",
       "11  Комплект \"Microsoft Xbox One 1TB  Limited Edit...                16  \n",
       "12  Комплект \"Microsoft Xbox One 1TB  Limited Edit...                16  \n",
       "13  Комплект \"Microsoft Xbox One 1TB  Limited Edit...                16  \n",
       "14        UserGate Proxy & Firewall 6.X до 100 сессий                75  \n",
       "15   Лицензия 1С-Битрикс: Управление сайтом - Эксперт                75  \n",
       "16                   Photoshop 13 Windows Russian BOX                75  \n",
       "17                   Photoshop 13 Windows Russian BOX                75  \n",
       "18                   Photoshop 13 Windows Russian BOX                75  \n",
       "19  CorelDRAW Graphics Suite X6 - Small Business E...                75  "
      ]
     },
     "execution_count": 14,
     "metadata": {},
     "output_type": "execute_result"
    }
   ],
   "source": [
    "ind = sales['item_price'].sort_values(ascending=False)[:20].index # taking 20 most pricy samples\n",
    "sales.loc[ind].merge(items, on='item_id')"
   ]
  },
  {
   "cell_type": "markdown",
   "id": "115d8fdc",
   "metadata": {},
   "source": [
    "According to Google *Radmin* (administration software) lisence cost about 750 per computer, so 522 lisences woulb be almost 395.000 - the price here totally makes sense.\n",
    "\n",
    "*Microsoft Xbox One 1TB* is marketed for 42.000 on the Internet, that is reflected in our dataset as well.\n",
    "\n",
    "Turns out these prices are absolutely real so it would be wrong to simply discard these samples.\n",
    "\n",
    "Negative prices are still inadequate, though."
   ]
  },
  {
   "cell_type": "code",
   "execution_count": 15,
   "id": "5c7783ed",
   "metadata": {},
   "outputs": [
    {
     "name": "stdout",
     "output_type": "stream",
     "text": [
      "0.0% of item prices are inadequate\n"
     ]
    }
   ],
   "source": [
    "print(f'{round(1 - len(sales[sales.item_price > 0])/len(sales.item_price), 3)*100}% of item prices are inadequate')"
   ]
  },
  {
   "cell_type": "markdown",
   "id": "465a963a",
   "metadata": {},
   "source": [
    "Just as an observation, `item_price` is not normally distributed (looks like exponential or log normal)."
   ]
  },
  {
   "cell_type": "code",
   "execution_count": 16,
   "id": "cae5a50a",
   "metadata": {},
   "outputs": [
    {
     "name": "stdout",
     "output_type": "stream",
     "text": [
      "Min count: -22.0\n",
      "Max count: 2169.0\n",
      "Mean count: 1.242640885140891\n",
      "Median count: 1.0\n"
     ]
    }
   ],
   "source": [
    "min_count = sales['item_cnt_day'].min()\n",
    "max_count = sales['item_cnt_day'].max()\n",
    "mean_count = sales['item_cnt_day'].mean()\n",
    "median_count = sales['item_cnt_day'].median()\n",
    "print(f'Min count: {min_count}\\nMax count: {max_count}\\nMean count: {mean_count}\\nMedian count: {median_count}')"
   ]
  },
  {
   "cell_type": "markdown",
   "id": "ce7dbf00",
   "metadata": {},
   "source": [
    "I don't think you can sell -22 items (as well as 2169) in a day."
   ]
  },
  {
   "cell_type": "code",
   "execution_count": 17,
   "id": "f7c02366",
   "metadata": {},
   "outputs": [
    {
     "data": {
      "image/png": "[encoded data removed]",
      "text/plain": [
       "<Figure size 432x288 with 1 Axes>"
      ]
     },
     "metadata": {
      "needs_background": "light"
     },
     "output_type": "display_data"
    }
   ],
   "source": [
    "plt.boxplot(sales['item_cnt_day']); "
   ]
  },
  {
   "cell_type": "markdown",
   "id": "2cd49b5a",
   "metadata": {},
   "source": [
    "I see 2 outliars on the boxplot."
   ]
  },
  {
   "cell_type": "code",
   "execution_count": 18,
   "id": "a06c255c",
   "metadata": {},
   "outputs": [
    {
     "data": {
      "text/html": [
       "<div>\n",
       "<style scoped>\n",
       "    .dataframe tbody tr th:only-of-type {\n",
       "        vertical-align: middle;\n",
       "    }\n",
       "\n",
       "    .dataframe tbody tr th {\n",
       "        vertical-align: top;\n",
       "    }\n",
       "\n",
       "    .dataframe thead th {\n",
       "        text-align: right;\n",
       "    }\n",
       "</style>\n",
       "<table border=\"1\" class=\"dataframe\">\n",
       "  <thead>\n",
       "    <tr style=\"text-align: right;\">\n",
       "      <th></th>\n",
       "      <th>date</th>\n",
       "      <th>date_block_num</th>\n",
       "      <th>shop_id</th>\n",
       "      <th>item_id</th>\n",
       "      <th>item_price</th>\n",
       "      <th>item_cnt_day</th>\n",
       "      <th>item_name</th>\n",
       "      <th>item_category_id</th>\n",
       "    </tr>\n",
       "  </thead>\n",
       "  <tbody>\n",
       "    <tr>\n",
       "      <th>0</th>\n",
       "      <td>2015-10-28</td>\n",
       "      <td>33</td>\n",
       "      <td>12</td>\n",
       "      <td>11373</td>\n",
       "      <td>0.908714</td>\n",
       "      <td>2169.0</td>\n",
       "      <td>Доставка до пункта выдачи (Boxberry)</td>\n",
       "      <td>9</td>\n",
       "    </tr>\n",
       "    <tr>\n",
       "      <th>1</th>\n",
       "      <td>2015-05-19</td>\n",
       "      <td>28</td>\n",
       "      <td>12</td>\n",
       "      <td>11373</td>\n",
       "      <td>155.192950</td>\n",
       "      <td>539.0</td>\n",
       "      <td>Доставка до пункта выдачи (Boxberry)</td>\n",
       "      <td>9</td>\n",
       "    </tr>\n",
       "    <tr>\n",
       "      <th>2</th>\n",
       "      <td>2013-11-22</td>\n",
       "      <td>10</td>\n",
       "      <td>12</td>\n",
       "      <td>11373</td>\n",
       "      <td>102.466942</td>\n",
       "      <td>242.0</td>\n",
       "      <td>Доставка до пункта выдачи (Boxberry)</td>\n",
       "      <td>9</td>\n",
       "    </tr>\n",
       "    <tr>\n",
       "      <th>3</th>\n",
       "      <td>2015-01-15</td>\n",
       "      <td>24</td>\n",
       "      <td>12</td>\n",
       "      <td>20949</td>\n",
       "      <td>4.000000</td>\n",
       "      <td>1000.0</td>\n",
       "      <td>Фирменный пакет майка 1С Интерес белый (34*42)...</td>\n",
       "      <td>71</td>\n",
       "    </tr>\n",
       "    <tr>\n",
       "      <th>4</th>\n",
       "      <td>2014-06-28</td>\n",
       "      <td>17</td>\n",
       "      <td>25</td>\n",
       "      <td>20949</td>\n",
       "      <td>5.000000</td>\n",
       "      <td>501.0</td>\n",
       "      <td>Фирменный пакет майка 1С Интерес белый (34*42)...</td>\n",
       "      <td>71</td>\n",
       "    </tr>\n",
       "    <tr>\n",
       "      <th>5</th>\n",
       "      <td>2015-10-14</td>\n",
       "      <td>33</td>\n",
       "      <td>12</td>\n",
       "      <td>20949</td>\n",
       "      <td>4.000000</td>\n",
       "      <td>500.0</td>\n",
       "      <td>Фирменный пакет майка 1С Интерес белый (34*42)...</td>\n",
       "      <td>71</td>\n",
       "    </tr>\n",
       "    <tr>\n",
       "      <th>6</th>\n",
       "      <td>2014-12-19</td>\n",
       "      <td>23</td>\n",
       "      <td>12</td>\n",
       "      <td>20949</td>\n",
       "      <td>4.000000</td>\n",
       "      <td>500.0</td>\n",
       "      <td>Фирменный пакет майка 1С Интерес белый (34*42)...</td>\n",
       "      <td>71</td>\n",
       "    </tr>\n",
       "    <tr>\n",
       "      <th>7</th>\n",
       "      <td>2014-03-15</td>\n",
       "      <td>14</td>\n",
       "      <td>24</td>\n",
       "      <td>20949</td>\n",
       "      <td>5.000000</td>\n",
       "      <td>405.0</td>\n",
       "      <td>Фирменный пакет майка 1С Интерес белый (34*42)...</td>\n",
       "      <td>71</td>\n",
       "    </tr>\n",
       "    <tr>\n",
       "      <th>8</th>\n",
       "      <td>2014-11-11</td>\n",
       "      <td>22</td>\n",
       "      <td>54</td>\n",
       "      <td>20949</td>\n",
       "      <td>4.760383</td>\n",
       "      <td>313.0</td>\n",
       "      <td>Фирменный пакет майка 1С Интерес белый (34*42)...</td>\n",
       "      <td>71</td>\n",
       "    </tr>\n",
       "    <tr>\n",
       "      <th>9</th>\n",
       "      <td>2014-04-09</td>\n",
       "      <td>15</td>\n",
       "      <td>54</td>\n",
       "      <td>20949</td>\n",
       "      <td>5.000000</td>\n",
       "      <td>300.0</td>\n",
       "      <td>Фирменный пакет майка 1С Интерес белый (34*42)...</td>\n",
       "      <td>71</td>\n",
       "    </tr>\n",
       "    <tr>\n",
       "      <th>10</th>\n",
       "      <td>2013-12-28</td>\n",
       "      <td>11</td>\n",
       "      <td>15</td>\n",
       "      <td>20949</td>\n",
       "      <td>5.000000</td>\n",
       "      <td>255.0</td>\n",
       "      <td>Фирменный пакет майка 1С Интерес белый (34*42)...</td>\n",
       "      <td>71</td>\n",
       "    </tr>\n",
       "    <tr>\n",
       "      <th>11</th>\n",
       "      <td>2014-06-19</td>\n",
       "      <td>17</td>\n",
       "      <td>47</td>\n",
       "      <td>20949</td>\n",
       "      <td>5.000000</td>\n",
       "      <td>251.0</td>\n",
       "      <td>Фирменный пакет майка 1С Интерес белый (34*42)...</td>\n",
       "      <td>71</td>\n",
       "    </tr>\n",
       "    <tr>\n",
       "      <th>12</th>\n",
       "      <td>2015-09-30</td>\n",
       "      <td>32</td>\n",
       "      <td>12</td>\n",
       "      <td>9248</td>\n",
       "      <td>1692.526158</td>\n",
       "      <td>669.0</td>\n",
       "      <td>Билет \"ИгроМир 2015\" - 3 октября 2015 (сайт) [...</td>\n",
       "      <td>80</td>\n",
       "    </tr>\n",
       "    <tr>\n",
       "      <th>13</th>\n",
       "      <td>2015-09-29</td>\n",
       "      <td>32</td>\n",
       "      <td>12</td>\n",
       "      <td>9248</td>\n",
       "      <td>1500.000000</td>\n",
       "      <td>504.0</td>\n",
       "      <td>Билет \"ИгроМир 2015\" - 3 октября 2015 (сайт) [...</td>\n",
       "      <td>80</td>\n",
       "    </tr>\n",
       "    <tr>\n",
       "      <th>14</th>\n",
       "      <td>2015-09-30</td>\n",
       "      <td>32</td>\n",
       "      <td>55</td>\n",
       "      <td>9249</td>\n",
       "      <td>1702.825746</td>\n",
       "      <td>637.0</td>\n",
       "      <td>Билет \"ИгроМир 2015\" - 3 октября 2015 (сайт) У...</td>\n",
       "      <td>8</td>\n",
       "    </tr>\n",
       "    <tr>\n",
       "      <th>15</th>\n",
       "      <td>2015-09-29</td>\n",
       "      <td>32</td>\n",
       "      <td>55</td>\n",
       "      <td>9249</td>\n",
       "      <td>1500.000000</td>\n",
       "      <td>533.0</td>\n",
       "      <td>Билет \"ИгроМир 2015\" - 3 октября 2015 (сайт) У...</td>\n",
       "      <td>8</td>\n",
       "    </tr>\n",
       "    <tr>\n",
       "      <th>16</th>\n",
       "      <td>2015-04-14</td>\n",
       "      <td>27</td>\n",
       "      <td>12</td>\n",
       "      <td>3731</td>\n",
       "      <td>1904.548077</td>\n",
       "      <td>624.0</td>\n",
       "      <td>Grand Theft Auto V [PC, русские субтитры]</td>\n",
       "      <td>30</td>\n",
       "    </tr>\n",
       "    <tr>\n",
       "      <th>17</th>\n",
       "      <td>2015-04-14</td>\n",
       "      <td>27</td>\n",
       "      <td>42</td>\n",
       "      <td>3731</td>\n",
       "      <td>1918.732441</td>\n",
       "      <td>299.0</td>\n",
       "      <td>Grand Theft Auto V [PC, русские субтитры]</td>\n",
       "      <td>30</td>\n",
       "    </tr>\n",
       "    <tr>\n",
       "      <th>18</th>\n",
       "      <td>2014-10-02</td>\n",
       "      <td>21</td>\n",
       "      <td>12</td>\n",
       "      <td>9242</td>\n",
       "      <td>1500.000000</td>\n",
       "      <td>512.0</td>\n",
       "      <td>Билет \"ИгроМир 2014\" (на один день (отдельно -...</td>\n",
       "      <td>8</td>\n",
       "    </tr>\n",
       "    <tr>\n",
       "      <th>19</th>\n",
       "      <td>2014-10-09</td>\n",
       "      <td>21</td>\n",
       "      <td>55</td>\n",
       "      <td>19437</td>\n",
       "      <td>899.000000</td>\n",
       "      <td>508.0</td>\n",
       "      <td>Средиземье: Тени Мордора [PC, Цифровая версия]</td>\n",
       "      <td>31</td>\n",
       "    </tr>\n",
       "    <tr>\n",
       "      <th>20</th>\n",
       "      <td>2014-10-04</td>\n",
       "      <td>21</td>\n",
       "      <td>55</td>\n",
       "      <td>19437</td>\n",
       "      <td>899.000000</td>\n",
       "      <td>401.0</td>\n",
       "      <td>Средиземье: Тени Мордора [PC, Цифровая версия]</td>\n",
       "      <td>31</td>\n",
       "    </tr>\n",
       "    <tr>\n",
       "      <th>21</th>\n",
       "      <td>2014-04-22</td>\n",
       "      <td>15</td>\n",
       "      <td>27</td>\n",
       "      <td>8057</td>\n",
       "      <td>1200.000000</td>\n",
       "      <td>502.0</td>\n",
       "      <td>iTunes 1500 руб.</td>\n",
       "      <td>32</td>\n",
       "    </tr>\n",
       "    <tr>\n",
       "      <th>22</th>\n",
       "      <td>2014-04-23</td>\n",
       "      <td>15</td>\n",
       "      <td>27</td>\n",
       "      <td>8057</td>\n",
       "      <td>1200.000000</td>\n",
       "      <td>401.0</td>\n",
       "      <td>iTunes 1500 руб.</td>\n",
       "      <td>32</td>\n",
       "    </tr>\n",
       "    <tr>\n",
       "      <th>23</th>\n",
       "      <td>2015-05-19</td>\n",
       "      <td>28</td>\n",
       "      <td>12</td>\n",
       "      <td>10209</td>\n",
       "      <td>1499.000000</td>\n",
       "      <td>480.0</td>\n",
       "      <td>Ведьмак 3: Дикая охота [PC, русская версия]</td>\n",
       "      <td>28</td>\n",
       "    </tr>\n",
       "    <tr>\n",
       "      <th>24</th>\n",
       "      <td>2014-10-09</td>\n",
       "      <td>21</td>\n",
       "      <td>55</td>\n",
       "      <td>19445</td>\n",
       "      <td>1249.000000</td>\n",
       "      <td>412.0</td>\n",
       "      <td>Средиземье: Тени Мордора. Premium Edition [PC,...</td>\n",
       "      <td>31</td>\n",
       "    </tr>\n",
       "    <tr>\n",
       "      <th>25</th>\n",
       "      <td>2015-05-19</td>\n",
       "      <td>28</td>\n",
       "      <td>12</td>\n",
       "      <td>11370</td>\n",
       "      <td>171.661808</td>\n",
       "      <td>343.0</td>\n",
       "      <td>Доставка (по Москве)</td>\n",
       "      <td>9</td>\n",
       "    </tr>\n",
       "    <tr>\n",
       "      <th>26</th>\n",
       "      <td>2015-01-14</td>\n",
       "      <td>24</td>\n",
       "      <td>55</td>\n",
       "      <td>5917</td>\n",
       "      <td>45.000000</td>\n",
       "      <td>325.0</td>\n",
       "      <td>Prototype 2 [PC, Цифровая версия]</td>\n",
       "      <td>31</td>\n",
       "    </tr>\n",
       "    <tr>\n",
       "      <th>27</th>\n",
       "      <td>2015-01-13</td>\n",
       "      <td>24</td>\n",
       "      <td>55</td>\n",
       "      <td>5917</td>\n",
       "      <td>45.000000</td>\n",
       "      <td>313.0</td>\n",
       "      <td>Prototype 2 [PC, Цифровая версия]</td>\n",
       "      <td>31</td>\n",
       "    </tr>\n",
       "    <tr>\n",
       "      <th>28</th>\n",
       "      <td>2013-09-17</td>\n",
       "      <td>8</td>\n",
       "      <td>31</td>\n",
       "      <td>3732</td>\n",
       "      <td>2550.597222</td>\n",
       "      <td>288.0</td>\n",
       "      <td>Grand Theft Auto V [PS3, русские субтитры]</td>\n",
       "      <td>19</td>\n",
       "    </tr>\n",
       "    <tr>\n",
       "      <th>29</th>\n",
       "      <td>2013-09-17</td>\n",
       "      <td>8</td>\n",
       "      <td>25</td>\n",
       "      <td>3732</td>\n",
       "      <td>2545.135417</td>\n",
       "      <td>264.0</td>\n",
       "      <td>Grand Theft Auto V [PS3, русские субтитры]</td>\n",
       "      <td>19</td>\n",
       "    </tr>\n",
       "  </tbody>\n",
       "</table>\n",
       "</div>"
      ],
      "text/plain": [
       "         date  date_block_num  shop_id  item_id   item_price  item_cnt_day  \\\n",
       "0  2015-10-28              33       12    11373     0.908714        2169.0   \n",
       "1  2015-05-19              28       12    11373   155.192950         539.0   \n",
       "2  2013-11-22              10       12    11373   102.466942         242.0   \n",
       "3  2015-01-15              24       12    20949     4.000000        1000.0   \n",
       "4  2014-06-28              17       25    20949     5.000000         501.0   \n",
       "5  2015-10-14              33       12    20949     4.000000         500.0   \n",
       "6  2014-12-19              23       12    20949     4.000000         500.0   \n",
       "7  2014-03-15              14       24    20949     5.000000         405.0   \n",
       "8  2014-11-11              22       54    20949     4.760383         313.0   \n",
       "9  2014-04-09              15       54    20949     5.000000         300.0   \n",
       "10 2013-12-28              11       15    20949     5.000000         255.0   \n",
       "11 2014-06-19              17       47    20949     5.000000         251.0   \n",
       "12 2015-09-30              32       12     9248  1692.526158         669.0   \n",
       "13 2015-09-29              32       12     9248  1500.000000         504.0   \n",
       "14 2015-09-30              32       55     9249  1702.825746         637.0   \n",
       "15 2015-09-29              32       55     9249  1500.000000         533.0   \n",
       "16 2015-04-14              27       12     3731  1904.548077         624.0   \n",
       "17 2015-04-14              27       42     3731  1918.732441         299.0   \n",
       "18 2014-10-02              21       12     9242  1500.000000         512.0   \n",
       "19 2014-10-09              21       55    19437   899.000000         508.0   \n",
       "20 2014-10-04              21       55    19437   899.000000         401.0   \n",
       "21 2014-04-22              15       27     8057  1200.000000         502.0   \n",
       "22 2014-04-23              15       27     8057  1200.000000         401.0   \n",
       "23 2015-05-19              28       12    10209  1499.000000         480.0   \n",
       "24 2014-10-09              21       55    19445  1249.000000         412.0   \n",
       "25 2015-05-19              28       12    11370   171.661808         343.0   \n",
       "26 2015-01-14              24       55     5917    45.000000         325.0   \n",
       "27 2015-01-13              24       55     5917    45.000000         313.0   \n",
       "28 2013-09-17               8       31     3732  2550.597222         288.0   \n",
       "29 2013-09-17               8       25     3732  2545.135417         264.0   \n",
       "\n",
       "                                            item_name  item_category_id  \n",
       "0                Доставка до пункта выдачи (Boxberry)                 9  \n",
       "1                Доставка до пункта выдачи (Boxberry)                 9  \n",
       "2                Доставка до пункта выдачи (Boxberry)                 9  \n",
       "3   Фирменный пакет майка 1С Интерес белый (34*42)...                71  \n",
       "4   Фирменный пакет майка 1С Интерес белый (34*42)...                71  \n",
       "5   Фирменный пакет майка 1С Интерес белый (34*42)...                71  \n",
       "6   Фирменный пакет майка 1С Интерес белый (34*42)...                71  \n",
       "7   Фирменный пакет майка 1С Интерес белый (34*42)...                71  \n",
       "8   Фирменный пакет майка 1С Интерес белый (34*42)...                71  \n",
       "9   Фирменный пакет майка 1С Интерес белый (34*42)...                71  \n",
       "10  Фирменный пакет майка 1С Интерес белый (34*42)...                71  \n",
       "11  Фирменный пакет майка 1С Интерес белый (34*42)...                71  \n",
       "12  Билет \"ИгроМир 2015\" - 3 октября 2015 (сайт) [...                80  \n",
       "13  Билет \"ИгроМир 2015\" - 3 октября 2015 (сайт) [...                80  \n",
       "14  Билет \"ИгроМир 2015\" - 3 октября 2015 (сайт) У...                 8  \n",
       "15  Билет \"ИгроМир 2015\" - 3 октября 2015 (сайт) У...                 8  \n",
       "16          Grand Theft Auto V [PC, русские субтитры]                30  \n",
       "17          Grand Theft Auto V [PC, русские субтитры]                30  \n",
       "18  Билет \"ИгроМир 2014\" (на один день (отдельно -...                 8  \n",
       "19     Средиземье: Тени Мордора [PC, Цифровая версия]                31  \n",
       "20     Средиземье: Тени Мордора [PC, Цифровая версия]                31  \n",
       "21                                   iTunes 1500 руб.                32  \n",
       "22                                   iTunes 1500 руб.                32  \n",
       "23        Ведьмак 3: Дикая охота [PC, русская версия]                28  \n",
       "24  Средиземье: Тени Мордора. Premium Edition [PC,...                31  \n",
       "25                               Доставка (по Москве)                 9  \n",
       "26                  Prototype 2 [PC, Цифровая версия]                31  \n",
       "27                  Prototype 2 [PC, Цифровая версия]                31  \n",
       "28         Grand Theft Auto V [PS3, русские субтитры]                19  \n",
       "29         Grand Theft Auto V [PS3, русские субтитры]                19  "
      ]
     },
     "execution_count": 18,
     "metadata": {},
     "output_type": "execute_result"
    }
   ],
   "source": [
    "ind = sales['item_cnt_day'].sort_values(ascending=False)[:30].index # taking 10 most sold samples\n",
    "sales.loc[ind].merge(items, on='item_id')"
   ]
  },
  {
   "cell_type": "markdown",
   "id": "122e7199",
   "metadata": {},
   "source": [
    "Not sure what conclusions to draw here. Selling 250-500 plastic bags at once seems fine, however selling 533 and 637 tickets in two consecutive days seems too much."
   ]
  },
  {
   "cell_type": "markdown",
   "id": "9955209f",
   "metadata": {},
   "source": [
    "Distributions of counts is similar to prices' distribution."
   ]
  },
  {
   "cell_type": "code",
   "execution_count": 19,
   "id": "f7f1a77e",
   "metadata": {},
   "outputs": [
    {
     "name": "stdout",
     "output_type": "stream",
     "text": [
      "0.3% of item counts are inadequate\n"
     ]
    }
   ],
   "source": [
    "print(f'{round(1 - len(sales[sales.item_cnt_day > 0])/len(sales.item_cnt_day), 3)*100}% of item counts are inadequate')"
   ]
  },
  {
   "cell_type": "markdown",
   "id": "2f5c6e41",
   "metadata": {},
   "source": [
    "### Sales - conclusion\n",
    "\n",
    "* some duplicate rows (it is possible that rows represent separate purchases, in that case the same item could be sold to multiple people in a day for the same price, but since the field is called `item_cnt_day` I suppose it should be the sum of all purchases of this specific item on a specific date...soo I consider them duplicates after all)\n",
    "* some inadequate values (negative prices and negative items sold)\n",
    "* some possible outliars"
   ]
  },
  {
   "cell_type": "markdown",
   "id": "4280d5da",
   "metadata": {},
   "source": [
    "## Shops\n",
    "\n"
   ]
  },
  {
   "cell_type": "code",
   "execution_count": 20,
   "id": "29554fc4",
   "metadata": {},
   "outputs": [
    {
     "data": {
      "text/html": [
       "<div>\n",
       "<style scoped>\n",
       "    .dataframe tbody tr th:only-of-type {\n",
       "        vertical-align: middle;\n",
       "    }\n",
       "\n",
       "    .dataframe tbody tr th {\n",
       "        vertical-align: top;\n",
       "    }\n",
       "\n",
       "    .dataframe thead th {\n",
       "        text-align: right;\n",
       "    }\n",
       "</style>\n",
       "<table border=\"1\" class=\"dataframe\">\n",
       "  <thead>\n",
       "    <tr style=\"text-align: right;\">\n",
       "      <th></th>\n",
       "      <th>shop_name</th>\n",
       "      <th>shop_id</th>\n",
       "    </tr>\n",
       "  </thead>\n",
       "  <tbody>\n",
       "    <tr>\n",
       "      <th>0</th>\n",
       "      <td>!Якутск Орджоникидзе, 56 фран</td>\n",
       "      <td>0</td>\n",
       "    </tr>\n",
       "    <tr>\n",
       "      <th>1</th>\n",
       "      <td>!Якутск ТЦ \"Центральный\" фран</td>\n",
       "      <td>1</td>\n",
       "    </tr>\n",
       "    <tr>\n",
       "      <th>2</th>\n",
       "      <td>Адыгея ТЦ \"Мега\"</td>\n",
       "      <td>2</td>\n",
       "    </tr>\n",
       "    <tr>\n",
       "      <th>3</th>\n",
       "      <td>Балашиха ТРК \"Октябрь-Киномир\"</td>\n",
       "      <td>3</td>\n",
       "    </tr>\n",
       "    <tr>\n",
       "      <th>4</th>\n",
       "      <td>Волжский ТЦ \"Волга Молл\"</td>\n",
       "      <td>4</td>\n",
       "    </tr>\n",
       "  </tbody>\n",
       "</table>\n",
       "</div>"
      ],
      "text/plain": [
       "                        shop_name  shop_id\n",
       "0   !Якутск Орджоникидзе, 56 фран        0\n",
       "1   !Якутск ТЦ \"Центральный\" фран        1\n",
       "2                Адыгея ТЦ \"Мега\"        2\n",
       "3  Балашиха ТРК \"Октябрь-Киномир\"        3\n",
       "4        Волжский ТЦ \"Волга Молл\"        4"
      ]
     },
     "execution_count": 20,
     "metadata": {},
     "output_type": "execute_result"
    }
   ],
   "source": [
    "shops.head()"
   ]
  },
  {
   "cell_type": "code",
   "execution_count": 21,
   "id": "252e35ef",
   "metadata": {},
   "outputs": [
    {
     "data": {
      "text/plain": [
       "False"
      ]
     },
     "execution_count": 21,
     "metadata": {},
     "output_type": "execute_result"
    }
   ],
   "source": [
    "shops.isna().any().any()"
   ]
  },
  {
   "cell_type": "code",
   "execution_count": 22,
   "id": "002de985",
   "metadata": {},
   "outputs": [
    {
     "data": {
      "text/plain": [
       "False"
      ]
     },
     "execution_count": 22,
     "metadata": {},
     "output_type": "execute_result"
    }
   ],
   "source": [
    "shops.duplicated().any()"
   ]
  },
  {
   "cell_type": "markdown",
   "id": "67150e48",
   "metadata": {},
   "source": [
    "*!Якутск Орджоникидзе, 56 фран* and *Якутск Орджоникидзе, 56* probably mean the same market place, just like *!Якутск ТЦ \"Центральный\" фран* and *Якутск ТЦ \"Центральный\"*.\n",
    "If this table was larger I guess we could filter shop names containing special characters and investigate them."
   ]
  },
  {
   "cell_type": "code",
   "execution_count": 23,
   "id": "9dd18673",
   "metadata": {},
   "outputs": [
    {
     "name": "stdout",
     "output_type": "stream",
     "text": [
      "3.0% of shop names contain special characters\n"
     ]
    }
   ],
   "source": [
    "bad_shops_num = shops['shop_name'].str.contains('^[\\\\\\/^.*\\[\\]~!@#$%^&()_+={}|\\:;“’<,>?฿]+.*', regex= True, na=False).sum()\n",
    "\n",
    "print(f'{round(bad_shops_num/len(shops), 2)*100}% of shop names contain special characters')"
   ]
  },
  {
   "cell_type": "markdown",
   "id": "21257589",
   "metadata": {},
   "source": [
    "### Shops - conclusion\n",
    "\n",
    "* some names start with special characters, they're also potential duplicates"
   ]
  },
  {
   "cell_type": "markdown",
   "id": "0fc2f9a7",
   "metadata": {},
   "source": [
    "## Items"
   ]
  },
  {
   "cell_type": "code",
   "execution_count": 24,
   "id": "861343ac",
   "metadata": {},
   "outputs": [
    {
     "data": {
      "text/html": [
       "<div>\n",
       "<style scoped>\n",
       "    .dataframe tbody tr th:only-of-type {\n",
       "        vertical-align: middle;\n",
       "    }\n",
       "\n",
       "    .dataframe tbody tr th {\n",
       "        vertical-align: top;\n",
       "    }\n",
       "\n",
       "    .dataframe thead th {\n",
       "        text-align: right;\n",
       "    }\n",
       "</style>\n",
       "<table border=\"1\" class=\"dataframe\">\n",
       "  <thead>\n",
       "    <tr style=\"text-align: right;\">\n",
       "      <th></th>\n",
       "      <th>item_name</th>\n",
       "      <th>item_id</th>\n",
       "      <th>item_category_id</th>\n",
       "    </tr>\n",
       "  </thead>\n",
       "  <tbody>\n",
       "    <tr>\n",
       "      <th>0</th>\n",
       "      <td>! ВО ВЛАСТИ НАВАЖДЕНИЯ (ПЛАСТ.)         D</td>\n",
       "      <td>0</td>\n",
       "      <td>40</td>\n",
       "    </tr>\n",
       "    <tr>\n",
       "      <th>1</th>\n",
       "      <td>!ABBYY FineReader 12 Professional Edition Full...</td>\n",
       "      <td>1</td>\n",
       "      <td>76</td>\n",
       "    </tr>\n",
       "    <tr>\n",
       "      <th>2</th>\n",
       "      <td>***В ЛУЧАХ СЛАВЫ   (UNV)                    D</td>\n",
       "      <td>2</td>\n",
       "      <td>40</td>\n",
       "    </tr>\n",
       "    <tr>\n",
       "      <th>3</th>\n",
       "      <td>***ГОЛУБАЯ ВОЛНА  (Univ)                      D</td>\n",
       "      <td>3</td>\n",
       "      <td>40</td>\n",
       "    </tr>\n",
       "    <tr>\n",
       "      <th>4</th>\n",
       "      <td>***КОРОБКА (СТЕКЛО)                       D</td>\n",
       "      <td>4</td>\n",
       "      <td>40</td>\n",
       "    </tr>\n",
       "    <tr>\n",
       "      <th>5</th>\n",
       "      <td>***НОВЫЕ АМЕРИКАНСКИЕ ГРАФФИТИ  (UNI)         ...</td>\n",
       "      <td>5</td>\n",
       "      <td>40</td>\n",
       "    </tr>\n",
       "    <tr>\n",
       "      <th>6</th>\n",
       "      <td>***УДАР ПО ВОРОТАМ (UNI)               D</td>\n",
       "      <td>6</td>\n",
       "      <td>40</td>\n",
       "    </tr>\n",
       "    <tr>\n",
       "      <th>7</th>\n",
       "      <td>***УДАР ПО ВОРОТАМ-2 (UNI)               D</td>\n",
       "      <td>7</td>\n",
       "      <td>40</td>\n",
       "    </tr>\n",
       "    <tr>\n",
       "      <th>8</th>\n",
       "      <td>***ЧАЙ С МУССОЛИНИ                     D</td>\n",
       "      <td>8</td>\n",
       "      <td>40</td>\n",
       "    </tr>\n",
       "    <tr>\n",
       "      <th>9</th>\n",
       "      <td>***ШУГАРЛЭНДСКИЙ ЭКСПРЕСС (UNI)             D</td>\n",
       "      <td>9</td>\n",
       "      <td>40</td>\n",
       "    </tr>\n",
       "    <tr>\n",
       "      <th>10</th>\n",
       "      <td>*ЗА ГРАНЬЮ СМЕРТИ                       D</td>\n",
       "      <td>10</td>\n",
       "      <td>40</td>\n",
       "    </tr>\n",
       "    <tr>\n",
       "      <th>11</th>\n",
       "      <td>*ЛИНИЯ СМЕРТИ                           D</td>\n",
       "      <td>11</td>\n",
       "      <td>40</td>\n",
       "    </tr>\n",
       "    <tr>\n",
       "      <th>12</th>\n",
       "      <td>*МИХЕЙ И ДЖУМАНДЖИ  Сука любовь</td>\n",
       "      <td>12</td>\n",
       "      <td>55</td>\n",
       "    </tr>\n",
       "    <tr>\n",
       "      <th>13</th>\n",
       "      <td>*СПАСАЯ ЭМИЛИ                           D</td>\n",
       "      <td>13</td>\n",
       "      <td>40</td>\n",
       "    </tr>\n",
       "    <tr>\n",
       "      <th>14</th>\n",
       "      <td>*ЧОКНУТЫЙ ПРОФЕССОР /МАГИЯ/             D</td>\n",
       "      <td>14</td>\n",
       "      <td>40</td>\n",
       "    </tr>\n",
       "    <tr>\n",
       "      <th>15</th>\n",
       "      <td>//АДРЕНАЛИН: ОДИН ПРОТИВ ВСЕХ (Регион)</td>\n",
       "      <td>15</td>\n",
       "      <td>40</td>\n",
       "    </tr>\n",
       "    <tr>\n",
       "      <th>16</th>\n",
       "      <td>//МОНГОЛ С.Бодров (Регион)</td>\n",
       "      <td>16</td>\n",
       "      <td>40</td>\n",
       "    </tr>\n",
       "    <tr>\n",
       "      <th>17</th>\n",
       "      <td>//НЕ ОСТАВЛЯЮЩИЙ СЛЕДА (Регион)</td>\n",
       "      <td>17</td>\n",
       "      <td>40</td>\n",
       "    </tr>\n",
       "    <tr>\n",
       "      <th>18</th>\n",
       "      <td>/БОМБА ДЛЯ НЕВЕСТЫ /2DVD/               D</td>\n",
       "      <td>18</td>\n",
       "      <td>40</td>\n",
       "    </tr>\n",
       "    <tr>\n",
       "      <th>19</th>\n",
       "      <td>/ЗОЛОТАЯ КОЛЛЕКЦИЯ м/ф-72</td>\n",
       "      <td>19</td>\n",
       "      <td>40</td>\n",
       "    </tr>\n",
       "  </tbody>\n",
       "</table>\n",
       "</div>"
      ],
      "text/plain": [
       "                                            item_name  item_id  \\\n",
       "0           ! ВО ВЛАСТИ НАВАЖДЕНИЯ (ПЛАСТ.)         D        0   \n",
       "1   !ABBYY FineReader 12 Professional Edition Full...        1   \n",
       "2       ***В ЛУЧАХ СЛАВЫ   (UNV)                    D        2   \n",
       "3     ***ГОЛУБАЯ ВОЛНА  (Univ)                      D        3   \n",
       "4         ***КОРОБКА (СТЕКЛО)                       D        4   \n",
       "5   ***НОВЫЕ АМЕРИКАНСКИЕ ГРАФФИТИ  (UNI)         ...        5   \n",
       "6            ***УДАР ПО ВОРОТАМ (UNI)               D        6   \n",
       "7          ***УДАР ПО ВОРОТАМ-2 (UNI)               D        7   \n",
       "8            ***ЧАЙ С МУССОЛИНИ                     D        8   \n",
       "9       ***ШУГАРЛЭНДСКИЙ ЭКСПРЕСС (UNI)             D        9   \n",
       "10          *ЗА ГРАНЬЮ СМЕРТИ                       D       10   \n",
       "11          *ЛИНИЯ СМЕРТИ                           D       11   \n",
       "12                    *МИХЕЙ И ДЖУМАНДЖИ  Сука любовь       12   \n",
       "13          *СПАСАЯ ЭМИЛИ                           D       13   \n",
       "14          *ЧОКНУТЫЙ ПРОФЕССОР /МАГИЯ/             D       14   \n",
       "15             //АДРЕНАЛИН: ОДИН ПРОТИВ ВСЕХ (Регион)       15   \n",
       "16                         //МОНГОЛ С.Бодров (Регион)       16   \n",
       "17                    //НЕ ОСТАВЛЯЮЩИЙ СЛЕДА (Регион)       17   \n",
       "18          /БОМБА ДЛЯ НЕВЕСТЫ /2DVD/               D       18   \n",
       "19                          /ЗОЛОТАЯ КОЛЛЕКЦИЯ м/ф-72       19   \n",
       "\n",
       "    item_category_id  \n",
       "0                 40  \n",
       "1                 76  \n",
       "2                 40  \n",
       "3                 40  \n",
       "4                 40  \n",
       "5                 40  \n",
       "6                 40  \n",
       "7                 40  \n",
       "8                 40  \n",
       "9                 40  \n",
       "10                40  \n",
       "11                40  \n",
       "12                55  \n",
       "13                40  \n",
       "14                40  \n",
       "15                40  \n",
       "16                40  \n",
       "17                40  \n",
       "18                40  \n",
       "19                40  "
      ]
     },
     "execution_count": 24,
     "metadata": {},
     "output_type": "execute_result"
    }
   ],
   "source": [
    "items.head(20)"
   ]
  },
  {
   "cell_type": "markdown",
   "id": "411c9eae",
   "metadata": {},
   "source": [
    "Lots of item names starting with special characters."
   ]
  },
  {
   "cell_type": "code",
   "execution_count": 25,
   "id": "9c3d09f8",
   "metadata": {},
   "outputs": [
    {
     "name": "stdout",
     "output_type": "stream",
     "text": [
      "0.1% of item names contain special characters\n"
     ]
    }
   ],
   "source": [
    "bad_names_num = items['item_name'].str.contains('^[\\\\\\/^.*\\[\\]~!@#$%^&()_+={}|\\:;“’<,>?฿]+.*', regex= True, na=False).sum()\n",
    "\n",
    "print(f'{round(bad_names_num/len(items), 3)*100}% of item names contain special characters')"
   ]
  },
  {
   "cell_type": "code",
   "execution_count": 26,
   "id": "2e50a73b",
   "metadata": {},
   "outputs": [
    {
     "data": {
      "text/plain": [
       "False"
      ]
     },
     "execution_count": 26,
     "metadata": {},
     "output_type": "execute_result"
    }
   ],
   "source": [
    "items.isna().any().any()"
   ]
  },
  {
   "cell_type": "code",
   "execution_count": 27,
   "id": "fe9ea12a",
   "metadata": {},
   "outputs": [
    {
     "data": {
      "text/plain": [
       "False"
      ]
     },
     "execution_count": 27,
     "metadata": {},
     "output_type": "execute_result"
    }
   ],
   "source": [
    "items.duplicated().any()"
   ]
  },
  {
   "cell_type": "markdown",
   "id": "b68b49e5",
   "metadata": {},
   "source": [
    "### Items - conclusion\n",
    "\n",
    "* some names start with special characters, they might be duplicates when special characters are removed"
   ]
  },
  {
   "cell_type": "markdown",
   "id": "bdb009cb",
   "metadata": {},
   "source": [
    "## Item categories"
   ]
  },
  {
   "cell_type": "code",
   "execution_count": 28,
   "id": "f78d285e",
   "metadata": {},
   "outputs": [
    {
     "data": {
      "text/html": [
       "<div>\n",
       "<style scoped>\n",
       "    .dataframe tbody tr th:only-of-type {\n",
       "        vertical-align: middle;\n",
       "    }\n",
       "\n",
       "    .dataframe tbody tr th {\n",
       "        vertical-align: top;\n",
       "    }\n",
       "\n",
       "    .dataframe thead th {\n",
       "        text-align: right;\n",
       "    }\n",
       "</style>\n",
       "<table border=\"1\" class=\"dataframe\">\n",
       "  <thead>\n",
       "    <tr style=\"text-align: right;\">\n",
       "      <th></th>\n",
       "      <th>item_category_name</th>\n",
       "      <th>item_category_id</th>\n",
       "    </tr>\n",
       "  </thead>\n",
       "  <tbody>\n",
       "    <tr>\n",
       "      <th>0</th>\n",
       "      <td>PC - Гарнитуры/Наушники</td>\n",
       "      <td>0</td>\n",
       "    </tr>\n",
       "    <tr>\n",
       "      <th>1</th>\n",
       "      <td>Аксессуары - PS2</td>\n",
       "      <td>1</td>\n",
       "    </tr>\n",
       "    <tr>\n",
       "      <th>2</th>\n",
       "      <td>Аксессуары - PS3</td>\n",
       "      <td>2</td>\n",
       "    </tr>\n",
       "    <tr>\n",
       "      <th>3</th>\n",
       "      <td>Аксессуары - PS4</td>\n",
       "      <td>3</td>\n",
       "    </tr>\n",
       "    <tr>\n",
       "      <th>4</th>\n",
       "      <td>Аксессуары - PSP</td>\n",
       "      <td>4</td>\n",
       "    </tr>\n",
       "    <tr>\n",
       "      <th>5</th>\n",
       "      <td>Аксессуары - PSVita</td>\n",
       "      <td>5</td>\n",
       "    </tr>\n",
       "    <tr>\n",
       "      <th>6</th>\n",
       "      <td>Аксессуары - XBOX 360</td>\n",
       "      <td>6</td>\n",
       "    </tr>\n",
       "    <tr>\n",
       "      <th>7</th>\n",
       "      <td>Аксессуары - XBOX ONE</td>\n",
       "      <td>7</td>\n",
       "    </tr>\n",
       "    <tr>\n",
       "      <th>8</th>\n",
       "      <td>Билеты (Цифра)</td>\n",
       "      <td>8</td>\n",
       "    </tr>\n",
       "    <tr>\n",
       "      <th>9</th>\n",
       "      <td>Доставка товара</td>\n",
       "      <td>9</td>\n",
       "    </tr>\n",
       "  </tbody>\n",
       "</table>\n",
       "</div>"
      ],
      "text/plain": [
       "        item_category_name  item_category_id\n",
       "0  PC - Гарнитуры/Наушники                 0\n",
       "1         Аксессуары - PS2                 1\n",
       "2         Аксессуары - PS3                 2\n",
       "3         Аксессуары - PS4                 3\n",
       "4         Аксессуары - PSP                 4\n",
       "5      Аксессуары - PSVita                 5\n",
       "6    Аксессуары - XBOX 360                 6\n",
       "7    Аксессуары - XBOX ONE                 7\n",
       "8           Билеты (Цифра)                 8\n",
       "9          Доставка товара                 9"
      ]
     },
     "execution_count": 28,
     "metadata": {},
     "output_type": "execute_result"
    }
   ],
   "source": [
    "item_cat.head(10)"
   ]
  },
  {
   "cell_type": "markdown",
   "id": "6ff182b1",
   "metadata": {},
   "source": [
    "Category names seem fine."
   ]
  },
  {
   "cell_type": "code",
   "execution_count": 29,
   "id": "9d0d9fc0",
   "metadata": {},
   "outputs": [
    {
     "data": {
      "text/plain": [
       "False"
      ]
     },
     "execution_count": 29,
     "metadata": {},
     "output_type": "execute_result"
    }
   ],
   "source": [
    "item_cat.isna().any().any()"
   ]
  },
  {
   "cell_type": "code",
   "execution_count": 30,
   "id": "06607714",
   "metadata": {},
   "outputs": [
    {
     "data": {
      "text/plain": [
       "False"
      ]
     },
     "execution_count": 30,
     "metadata": {},
     "output_type": "execute_result"
    }
   ],
   "source": [
    "item_cat.duplicated().any()"
   ]
  },
  {
   "cell_type": "code",
   "execution_count": 31,
   "id": "943f5c56",
   "metadata": {},
   "outputs": [
    {
     "name": "stdout",
     "output_type": "stream",
     "text": [
      "0.0% of item category names contain special characters\n"
     ]
    }
   ],
   "source": [
    "bad_cat_num = item_cat['item_category_name'].str.contains('^[\\\\\\/^.*\\[\\]~!@#$%^&()_+={}|\\:;“’<,>?฿]+.*', regex= True, na=False).sum()\n",
    "\n",
    "print(f'{round(bad_cat_num/len(item_cat), 3)*100}% of item category names contain special characters')"
   ]
  },
  {
   "cell_type": "markdown",
   "id": "4d4832db",
   "metadata": {},
   "source": [
    "## Potential issues with data\n",
    "\n",
    "* small amount of duplicates in sales\n",
    "* item prices and item daily counts contain potential outliars and negative values\n",
    "* some names of shops and items start with special characters, there's a suspition they might be duplicates ones special characters are removed\n",
    "\n",
    "## On the other hand\n",
    "\n",
    "* no missing data\n",
    "* percentage of rows containing incorrect information is minimal (less than 1%)\n",
    "* percentage of rows with string values starting with special characters is also minimal\n",
    "\n",
    "## Data quality attributes\n",
    "\n",
    "* Accuracy - checked\n",
    "* Completeness - no missing data, we have everything to predict target (montly sales)\n",
    "* Consistency - only one source of data\n",
    "* Validity - checked, found some issues   \n",
    "* Uniqueness - checked"
   ]
  }
 ],
 "metadata": {
  "kernelspec": {
   "display_name": "Python 3",
   "language": "python",
   "name": "python3"
  },
  "language_info": {
   "codemirror_mode": {
    "name": "ipython",
    "version": 3
   },
   "file_extension": ".py",
   "mimetype": "text/x-python",
   "name": "python",
   "nbconvert_exporter": "python",
   "pygments_lexer": "ipython3",
   "version": "3.8.8"
  }
 },
 "nbformat": 4,
 "nbformat_minor": 5
}
