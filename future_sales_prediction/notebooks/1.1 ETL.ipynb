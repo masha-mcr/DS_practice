{
 "cells": [
  {
   "cell_type": "code",
   "execution_count": 1,
   "id": "3bc97da3",
   "metadata": {},
   "outputs": [],
   "source": [
    "import pandas as pd\n",
    "import numpy as np\n",
    "import matplotlib.pyplot as plt\n",
    "import re"
   ]
  },
  {
   "cell_type": "code",
   "execution_count": 2,
   "id": "e3dc2314",
   "metadata": {},
   "outputs": [],
   "source": [
    "sales = pd.read_csv('../data/raw/sales_train.csv')\n",
    "shops = pd.read_csv('../data/raw/shops.csv')\n",
    "items = pd.read_csv('../data/raw/items.csv')\n",
    "item_cat = pd.read_csv('../data/raw/item_categories.csv')\n",
    "test = pd.read_csv('../data/raw/test.csv')"
   ]
  },
  {
   "cell_type": "markdown",
   "id": "f00b54cd",
   "metadata": {},
   "source": [
    "### Deduplicating"
   ]
  },
  {
   "cell_type": "code",
   "execution_count": 3,
   "id": "26c29be2",
   "metadata": {},
   "outputs": [],
   "source": [
    "sales.drop_duplicates(keep='first', inplace=True)"
   ]
  },
  {
   "cell_type": "markdown",
   "id": "bc929acd",
   "metadata": {},
   "source": [
    "### Dropping negative prices and counts"
   ]
  },
  {
   "cell_type": "code",
   "execution_count": 4,
   "id": "c52c18c0",
   "metadata": {},
   "outputs": [],
   "source": [
    "sales = sales[sales['item_price'] > 0]\n",
    "sales = sales[sales['item_cnt_day'] > 0]"
   ]
  },
  {
   "cell_type": "markdown",
   "id": "558c2b91",
   "metadata": {},
   "source": [
    "### Dealing with outliars\n",
    "\n",
    "Some on them have an explanation, some of them not so. I decided against removing outliars, because \n",
    "1) some *are* real samples and we may need to predict targets that are out of the ordinary\n",
    "\n",
    "2) percentage of outliars is so small that I doubt it would influence out model's quality anyway"
   ]
  },
  {
   "cell_type": "markdown",
   "id": "214664e4",
   "metadata": {},
   "source": [
    "### Possible repetitions in shops:\n",
    "\n",
    "Жуковский ул. Чкалова 39м? (*id 10*) - Жуковский ул. Чкалова 39м² (*id 11*)\n",
    "\n",
    "РостовНаДону ТРК \"Мегацентр Горизонт\" (*id 39*) - РостовНаДону ТРК \"Мегацентр Горизонт\" Островной (*id 40*)\n",
    "\n",
    "!Якутск Орджоникидзе, 56 фран (*id 0*) - Якутск Орджоникидзе, 56 (*id 57*)\n",
    "\n",
    "!Якутск ТЦ \"Центральный\" фран (*id 1*) - Якутск ТЦ \"Центральный\" (*id 58*)\n",
    "\n",
    "I suggest remapping sales' attribute `shop_id` for samples to reference only one shop of the pair above."
   ]
  },
  {
   "cell_type": "code",
   "execution_count": 5,
   "id": "1592096f",
   "metadata": {},
   "outputs": [],
   "source": [
    "shops_mapping = {10: 11, 40: 39, 0: 57, 1: 58}\n",
    "sales['shop_id'].replace(shops_mapping, inplace=True)"
   ]
  },
  {
   "cell_type": "markdown",
   "id": "dc0a9320",
   "metadata": {},
   "source": [
    "### Special characters in item names"
   ]
  },
  {
   "cell_type": "code",
   "execution_count": 6,
   "id": "139e8d9b",
   "metadata": {},
   "outputs": [
    {
     "data": {
      "text/html": [
       "<div>\n",
       "<style scoped>\n",
       "    .dataframe tbody tr th:only-of-type {\n",
       "        vertical-align: middle;\n",
       "    }\n",
       "\n",
       "    .dataframe tbody tr th {\n",
       "        vertical-align: top;\n",
       "    }\n",
       "\n",
       "    .dataframe thead th {\n",
       "        text-align: right;\n",
       "    }\n",
       "</style>\n",
       "<table border=\"1\" class=\"dataframe\">\n",
       "  <thead>\n",
       "    <tr style=\"text-align: right;\">\n",
       "      <th></th>\n",
       "      <th>item_name</th>\n",
       "      <th>item_id</th>\n",
       "      <th>item_category_id</th>\n",
       "    </tr>\n",
       "  </thead>\n",
       "  <tbody>\n",
       "    <tr>\n",
       "      <th>0</th>\n",
       "      <td>! ВО ВЛАСТИ НАВАЖДЕНИЯ (ПЛАСТ.)         D</td>\n",
       "      <td>0</td>\n",
       "      <td>40</td>\n",
       "    </tr>\n",
       "    <tr>\n",
       "      <th>1</th>\n",
       "      <td>!ABBYY FineReader 12 Professional Edition Full...</td>\n",
       "      <td>1</td>\n",
       "      <td>76</td>\n",
       "    </tr>\n",
       "    <tr>\n",
       "      <th>2</th>\n",
       "      <td>***В ЛУЧАХ СЛАВЫ   (UNV)                    D</td>\n",
       "      <td>2</td>\n",
       "      <td>40</td>\n",
       "    </tr>\n",
       "    <tr>\n",
       "      <th>3</th>\n",
       "      <td>***ГОЛУБАЯ ВОЛНА  (Univ)                      D</td>\n",
       "      <td>3</td>\n",
       "      <td>40</td>\n",
       "    </tr>\n",
       "    <tr>\n",
       "      <th>4</th>\n",
       "      <td>***КОРОБКА (СТЕКЛО)                       D</td>\n",
       "      <td>4</td>\n",
       "      <td>40</td>\n",
       "    </tr>\n",
       "  </tbody>\n",
       "</table>\n",
       "</div>"
      ],
      "text/plain": [
       "                                           item_name  item_id  \\\n",
       "0          ! ВО ВЛАСТИ НАВАЖДЕНИЯ (ПЛАСТ.)         D        0   \n",
       "1  !ABBYY FineReader 12 Professional Edition Full...        1   \n",
       "2      ***В ЛУЧАХ СЛАВЫ   (UNV)                    D        2   \n",
       "3    ***ГОЛУБАЯ ВОЛНА  (Univ)                      D        3   \n",
       "4        ***КОРОБКА (СТЕКЛО)                       D        4   \n",
       "\n",
       "   item_category_id  \n",
       "0                40  \n",
       "1                76  \n",
       "2                40  \n",
       "3                40  \n",
       "4                40  "
      ]
     },
     "execution_count": 6,
     "metadata": {},
     "output_type": "execute_result"
    }
   ],
   "source": [
    "items.head(5)"
   ]
  },
  {
   "cell_type": "code",
   "execution_count": 7,
   "id": "c33b2a5b",
   "metadata": {},
   "outputs": [],
   "source": [
    "items['item_name'] = items['item_name'].apply(lambda name: re.sub('^[\\\\\\/^.*\\[\\]~!@#$%^&()_+={}|\\:;“’<,>?฿]+', '', name))"
   ]
  },
  {
   "cell_type": "code",
   "execution_count": 8,
   "id": "37149822",
   "metadata": {},
   "outputs": [
    {
     "data": {
      "text/html": [
       "<div>\n",
       "<style scoped>\n",
       "    .dataframe tbody tr th:only-of-type {\n",
       "        vertical-align: middle;\n",
       "    }\n",
       "\n",
       "    .dataframe tbody tr th {\n",
       "        vertical-align: top;\n",
       "    }\n",
       "\n",
       "    .dataframe thead th {\n",
       "        text-align: right;\n",
       "    }\n",
       "</style>\n",
       "<table border=\"1\" class=\"dataframe\">\n",
       "  <thead>\n",
       "    <tr style=\"text-align: right;\">\n",
       "      <th></th>\n",
       "      <th>item_name</th>\n",
       "      <th>item_id</th>\n",
       "      <th>item_category_id</th>\n",
       "    </tr>\n",
       "  </thead>\n",
       "  <tbody>\n",
       "    <tr>\n",
       "      <th>0</th>\n",
       "      <td>ВО ВЛАСТИ НАВАЖДЕНИЯ (ПЛАСТ.)         D</td>\n",
       "      <td>0</td>\n",
       "      <td>40</td>\n",
       "    </tr>\n",
       "    <tr>\n",
       "      <th>1</th>\n",
       "      <td>ABBYY FineReader 12 Professional Edition Full ...</td>\n",
       "      <td>1</td>\n",
       "      <td>76</td>\n",
       "    </tr>\n",
       "    <tr>\n",
       "      <th>2</th>\n",
       "      <td>В ЛУЧАХ СЛАВЫ   (UNV)                    D</td>\n",
       "      <td>2</td>\n",
       "      <td>40</td>\n",
       "    </tr>\n",
       "    <tr>\n",
       "      <th>3</th>\n",
       "      <td>ГОЛУБАЯ ВОЛНА  (Univ)                      D</td>\n",
       "      <td>3</td>\n",
       "      <td>40</td>\n",
       "    </tr>\n",
       "    <tr>\n",
       "      <th>4</th>\n",
       "      <td>КОРОБКА (СТЕКЛО)                       D</td>\n",
       "      <td>4</td>\n",
       "      <td>40</td>\n",
       "    </tr>\n",
       "  </tbody>\n",
       "</table>\n",
       "</div>"
      ],
      "text/plain": [
       "                                           item_name  item_id  \\\n",
       "0            ВО ВЛАСТИ НАВАЖДЕНИЯ (ПЛАСТ.)         D        0   \n",
       "1  ABBYY FineReader 12 Professional Edition Full ...        1   \n",
       "2         В ЛУЧАХ СЛАВЫ   (UNV)                    D        2   \n",
       "3       ГОЛУБАЯ ВОЛНА  (Univ)                      D        3   \n",
       "4           КОРОБКА (СТЕКЛО)                       D        4   \n",
       "\n",
       "   item_category_id  \n",
       "0                40  \n",
       "1                76  \n",
       "2                40  \n",
       "3                40  \n",
       "4                40  "
      ]
     },
     "execution_count": 8,
     "metadata": {},
     "output_type": "execute_result"
    }
   ],
   "source": [
    "items.head(5)"
   ]
  },
  {
   "cell_type": "code",
   "execution_count": 9,
   "id": "85f2008d",
   "metadata": {},
   "outputs": [
    {
     "data": {
      "text/plain": [
       "True"
      ]
     },
     "execution_count": 9,
     "metadata": {},
     "output_type": "execute_result"
    }
   ],
   "source": [
    "items.duplicated(subset='item_name').any()"
   ]
  },
  {
   "cell_type": "code",
   "execution_count": 10,
   "id": "37636191",
   "metadata": {},
   "outputs": [],
   "source": [
    "items_mapping = {12: 14690}\n",
    "sales['item_id'].replace(items_mapping, inplace=True)"
   ]
  },
  {
   "cell_type": "code",
   "execution_count": 11,
   "id": "4a84a18d",
   "metadata": {},
   "outputs": [],
   "source": [
    "test['item_id'].replace(items_mapping, inplace=True)\n",
    "test['shop_id'].replace(shops_mapping, inplace=True)"
   ]
  },
  {
   "cell_type": "code",
   "execution_count": 12,
   "id": "8b18e91c",
   "metadata": {},
   "outputs": [
    {
     "data": {
      "text/plain": [
       "False"
      ]
     },
     "execution_count": 12,
     "metadata": {},
     "output_type": "execute_result"
    }
   ],
   "source": [
    "test.duplicated(subset=['item_id','shop_id']).any()"
   ]
  },
  {
   "cell_type": "markdown",
   "id": "6e5e1273",
   "metadata": {},
   "source": [
    "`item_categories` is clean.\n",
    "\n",
    "### Saving data after ETL to intermediate storage"
   ]
  },
  {
   "cell_type": "code",
   "execution_count": 14,
   "id": "5006f4d4",
   "metadata": {},
   "outputs": [],
   "source": [
    "sales['date'] = pd.to_datetime(sales['date'], format='%Y-%m-%d')\n",
    "sales.to_csv('../data/interim/sales_train_etl.csv', index=False, date_format='%Y-%m-%d')\n",
    "shops.to_csv('../data/interim/shops_etl.csv', index=False)\n",
    "items.to_csv('../data/interim/items_etl.csv', index=False)\n",
    "item_cat.to_csv('../data/interim/item_categories_etl.csv', index=False)\n",
    "test.to_csv('../data/interim/test_etl.csv')"
   ]
  }
 ],
 "metadata": {
  "kernelspec": {
   "display_name": "Python 3",
   "language": "python",
   "name": "python3"
  },
  "language_info": {
   "codemirror_mode": {
    "name": "ipython",
    "version": 3
   },
   "file_extension": ".py",
   "mimetype": "text/x-python",
   "name": "python",
   "nbconvert_exporter": "python",
   "pygments_lexer": "ipython3",
   "version": "3.8.8"
  }
 },
 "nbformat": 4,
 "nbformat_minor": 5
}
