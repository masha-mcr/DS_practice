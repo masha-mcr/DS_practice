{
 "cells": [
  {
   "cell_type": "code",
   "execution_count": 1,
   "id": "3bc97da3",
   "metadata": {},
   "outputs": [],
   "source": [
    "import pandas as pd\n",
    "import numpy as np\n",
    "import matplotlib.pyplot as plt\n",
    "import re"
   ]
  },
  {
   "cell_type": "code",
   "execution_count": 2,
   "id": "e3dc2314",
   "metadata": {},
   "outputs": [],
   "source": [
    "sales = pd.read_csv('../data/raw/sales_train.csv')\n",
    "shops = pd.read_csv('../data/raw/shops.csv')\n",
    "items = pd.read_csv('../data/raw/items.csv')\n",
    "item_cat = pd.read_csv('../data/raw/item_categories.csv')"
   ]
  },
  {
   "cell_type": "markdown",
   "id": "f00b54cd",
   "metadata": {},
   "source": [
    "### Deduplicating"
   ]
  },
  {
   "cell_type": "code",
   "execution_count": 3,
   "id": "26c29be2",
   "metadata": {},
   "outputs": [],
   "source": [
    "duplicates_samples = sales[sales.duplicated(subset=['date','shop_id','item_id'])].shape[0]\n",
    "old_shape = sales.shape"
   ]
  },
  {
   "cell_type": "markdown",
   "id": "1c511c2b",
   "metadata": {},
   "source": [
    "We can regroup our samples and handle duplicate rows, replacing `item_count` with a sum and `item_price` with a median."
   ]
  },
  {
   "cell_type": "code",
   "execution_count": 4,
   "id": "b27048a9",
   "metadata": {},
   "outputs": [],
   "source": [
    "sales = sales.groupby(['date', 'date_block_num', 'shop_id', 'item_id']).agg({'item_price':'median', 'item_cnt_day':'sum'}).reset_index()"
   ]
  },
  {
   "cell_type": "code",
   "execution_count": 5,
   "id": "78592fa6",
   "metadata": {},
   "outputs": [],
   "source": [
    "assert (old_shape[0] - sales.shape[0]) == duplicates_samples"
   ]
  },
  {
   "cell_type": "markdown",
   "id": "bc929acd",
   "metadata": {},
   "source": [
    "### Dropping negative prices"
   ]
  },
  {
   "cell_type": "code",
   "execution_count": 6,
   "id": "c52c18c0",
   "metadata": {},
   "outputs": [],
   "source": [
    "sales = sales[sales['item_price'] > 0]"
   ]
  },
  {
   "cell_type": "markdown",
   "id": "558c2b91",
   "metadata": {},
   "source": [
    "### Dealing with outliars\n",
    "\n",
    "I decided to drop only the most obvious outliars, 1-2 samples having enormous prices and counts."
   ]
  },
  {
   "cell_type": "code",
   "execution_count": 7,
   "id": "89947279",
   "metadata": {},
   "outputs": [],
   "source": [
    "sales = sales[sales['item_price'] < sales['item_price'].max()]\n",
    "sales = sales[sales['item_cnt_day'] < sales['item_cnt_day'].max()]"
   ]
  },
  {
   "cell_type": "markdown",
   "id": "214664e4",
   "metadata": {},
   "source": [
    "### Possible repetitions in shops:\n",
    "\n",
    "Жуковский ул. Чкалова 39м? (*id 10*) - Жуковский ул. Чкалова 39м² (*id 11*)\n",
    "\n",
    "РостовНаДону ТРК \"Мегацентр Горизонт\" (*id 39*) - РостовНаДону ТРК \"Мегацентр Горизонт\" Островной (*id 40*)\n",
    "\n",
    "!Якутск Орджоникидзе, 56 фран (*id 0*) - Якутск Орджоникидзе, 56 (*id 57*)\n",
    "\n",
    "!Якутск ТЦ \"Центральный\" фран (*id 1*) - Якутск ТЦ \"Центральный\" (*id 58*)\n",
    "\n",
    "I suggest remapping sales' attribute `shop_id` for samples to reference only one shop of the pair above."
   ]
  },
  {
   "cell_type": "code",
   "execution_count": 8,
   "id": "1592096f",
   "metadata": {},
   "outputs": [],
   "source": [
    "shops_mapping = {10: 11, 40: 39, 0: 57, 1: 58}\n",
    "sales['shop_id'].replace(shops_mapping, inplace=True)"
   ]
  },
  {
   "cell_type": "markdown",
   "id": "dc0a9320",
   "metadata": {},
   "source": [
    "### Special characters in item names"
   ]
  },
  {
   "cell_type": "code",
   "execution_count": 9,
   "id": "139e8d9b",
   "metadata": {},
   "outputs": [
    {
     "data": {
      "text/html": [
       "<div>\n",
       "<style scoped>\n",
       "    .dataframe tbody tr th:only-of-type {\n",
       "        vertical-align: middle;\n",
       "    }\n",
       "\n",
       "    .dataframe tbody tr th {\n",
       "        vertical-align: top;\n",
       "    }\n",
       "\n",
       "    .dataframe thead th {\n",
       "        text-align: right;\n",
       "    }\n",
       "</style>\n",
       "<table border=\"1\" class=\"dataframe\">\n",
       "  <thead>\n",
       "    <tr style=\"text-align: right;\">\n",
       "      <th></th>\n",
       "      <th>item_name</th>\n",
       "      <th>item_id</th>\n",
       "      <th>item_category_id</th>\n",
       "    </tr>\n",
       "  </thead>\n",
       "  <tbody>\n",
       "    <tr>\n",
       "      <th>0</th>\n",
       "      <td>! ВО ВЛАСТИ НАВАЖДЕНИЯ (ПЛАСТ.)         D</td>\n",
       "      <td>0</td>\n",
       "      <td>40</td>\n",
       "    </tr>\n",
       "    <tr>\n",
       "      <th>1</th>\n",
       "      <td>!ABBYY FineReader 12 Professional Edition Full...</td>\n",
       "      <td>1</td>\n",
       "      <td>76</td>\n",
       "    </tr>\n",
       "    <tr>\n",
       "      <th>2</th>\n",
       "      <td>***В ЛУЧАХ СЛАВЫ   (UNV)                    D</td>\n",
       "      <td>2</td>\n",
       "      <td>40</td>\n",
       "    </tr>\n",
       "    <tr>\n",
       "      <th>3</th>\n",
       "      <td>***ГОЛУБАЯ ВОЛНА  (Univ)                      D</td>\n",
       "      <td>3</td>\n",
       "      <td>40</td>\n",
       "    </tr>\n",
       "    <tr>\n",
       "      <th>4</th>\n",
       "      <td>***КОРОБКА (СТЕКЛО)                       D</td>\n",
       "      <td>4</td>\n",
       "      <td>40</td>\n",
       "    </tr>\n",
       "  </tbody>\n",
       "</table>\n",
       "</div>"
      ],
      "text/plain": [
       "                                           item_name  item_id  \\\n",
       "0          ! ВО ВЛАСТИ НАВАЖДЕНИЯ (ПЛАСТ.)         D        0   \n",
       "1  !ABBYY FineReader 12 Professional Edition Full...        1   \n",
       "2      ***В ЛУЧАХ СЛАВЫ   (UNV)                    D        2   \n",
       "3    ***ГОЛУБАЯ ВОЛНА  (Univ)                      D        3   \n",
       "4        ***КОРОБКА (СТЕКЛО)                       D        4   \n",
       "\n",
       "   item_category_id  \n",
       "0                40  \n",
       "1                76  \n",
       "2                40  \n",
       "3                40  \n",
       "4                40  "
      ]
     },
     "execution_count": 9,
     "metadata": {},
     "output_type": "execute_result"
    }
   ],
   "source": [
    "items.head(5)"
   ]
  },
  {
   "cell_type": "code",
   "execution_count": 10,
   "id": "c33b2a5b",
   "metadata": {},
   "outputs": [],
   "source": [
    "items['item_name'] = items['item_name'].apply(lambda name: re.sub('^[\\\\\\/^.*\\[\\]~!@#$%^&()_+={}|\\:;“’<,>?฿]+', '', name))"
   ]
  },
  {
   "cell_type": "code",
   "execution_count": 11,
   "id": "37149822",
   "metadata": {},
   "outputs": [
    {
     "data": {
      "text/html": [
       "<div>\n",
       "<style scoped>\n",
       "    .dataframe tbody tr th:only-of-type {\n",
       "        vertical-align: middle;\n",
       "    }\n",
       "\n",
       "    .dataframe tbody tr th {\n",
       "        vertical-align: top;\n",
       "    }\n",
       "\n",
       "    .dataframe thead th {\n",
       "        text-align: right;\n",
       "    }\n",
       "</style>\n",
       "<table border=\"1\" class=\"dataframe\">\n",
       "  <thead>\n",
       "    <tr style=\"text-align: right;\">\n",
       "      <th></th>\n",
       "      <th>item_name</th>\n",
       "      <th>item_id</th>\n",
       "      <th>item_category_id</th>\n",
       "    </tr>\n",
       "  </thead>\n",
       "  <tbody>\n",
       "    <tr>\n",
       "      <th>0</th>\n",
       "      <td>ВО ВЛАСТИ НАВАЖДЕНИЯ (ПЛАСТ.)         D</td>\n",
       "      <td>0</td>\n",
       "      <td>40</td>\n",
       "    </tr>\n",
       "    <tr>\n",
       "      <th>1</th>\n",
       "      <td>ABBYY FineReader 12 Professional Edition Full ...</td>\n",
       "      <td>1</td>\n",
       "      <td>76</td>\n",
       "    </tr>\n",
       "    <tr>\n",
       "      <th>2</th>\n",
       "      <td>В ЛУЧАХ СЛАВЫ   (UNV)                    D</td>\n",
       "      <td>2</td>\n",
       "      <td>40</td>\n",
       "    </tr>\n",
       "    <tr>\n",
       "      <th>3</th>\n",
       "      <td>ГОЛУБАЯ ВОЛНА  (Univ)                      D</td>\n",
       "      <td>3</td>\n",
       "      <td>40</td>\n",
       "    </tr>\n",
       "    <tr>\n",
       "      <th>4</th>\n",
       "      <td>КОРОБКА (СТЕКЛО)                       D</td>\n",
       "      <td>4</td>\n",
       "      <td>40</td>\n",
       "    </tr>\n",
       "  </tbody>\n",
       "</table>\n",
       "</div>"
      ],
      "text/plain": [
       "                                           item_name  item_id  \\\n",
       "0            ВО ВЛАСТИ НАВАЖДЕНИЯ (ПЛАСТ.)         D        0   \n",
       "1  ABBYY FineReader 12 Professional Edition Full ...        1   \n",
       "2         В ЛУЧАХ СЛАВЫ   (UNV)                    D        2   \n",
       "3       ГОЛУБАЯ ВОЛНА  (Univ)                      D        3   \n",
       "4           КОРОБКА (СТЕКЛО)                       D        4   \n",
       "\n",
       "   item_category_id  \n",
       "0                40  \n",
       "1                76  \n",
       "2                40  \n",
       "3                40  \n",
       "4                40  "
      ]
     },
     "execution_count": 11,
     "metadata": {},
     "output_type": "execute_result"
    }
   ],
   "source": [
    "items.head(5)"
   ]
  },
  {
   "cell_type": "code",
   "execution_count": 12,
   "id": "85f2008d",
   "metadata": {},
   "outputs": [
    {
     "data": {
      "text/html": [
       "<div>\n",
       "<style scoped>\n",
       "    .dataframe tbody tr th:only-of-type {\n",
       "        vertical-align: middle;\n",
       "    }\n",
       "\n",
       "    .dataframe tbody tr th {\n",
       "        vertical-align: top;\n",
       "    }\n",
       "\n",
       "    .dataframe thead th {\n",
       "        text-align: right;\n",
       "    }\n",
       "</style>\n",
       "<table border=\"1\" class=\"dataframe\">\n",
       "  <thead>\n",
       "    <tr style=\"text-align: right;\">\n",
       "      <th></th>\n",
       "      <th>item_name</th>\n",
       "      <th>item_id</th>\n",
       "      <th>item_category_id</th>\n",
       "    </tr>\n",
       "  </thead>\n",
       "  <tbody>\n",
       "    <tr>\n",
       "      <th>14690</th>\n",
       "      <td>МИХЕЙ И ДЖУМАНДЖИ  Сука любовь</td>\n",
       "      <td>14690</td>\n",
       "      <td>55</td>\n",
       "    </tr>\n",
       "  </tbody>\n",
       "</table>\n",
       "</div>"
      ],
      "text/plain": [
       "                            item_name  item_id  item_category_id\n",
       "14690  МИХЕЙ И ДЖУМАНДЖИ  Сука любовь    14690                55"
      ]
     },
     "execution_count": 12,
     "metadata": {},
     "output_type": "execute_result"
    }
   ],
   "source": [
    "items[items.duplicated(subset='item_name')]"
   ]
  },
  {
   "cell_type": "code",
   "execution_count": 13,
   "id": "7409b652",
   "metadata": {},
   "outputs": [
    {
     "data": {
      "text/html": [
       "<div>\n",
       "<style scoped>\n",
       "    .dataframe tbody tr th:only-of-type {\n",
       "        vertical-align: middle;\n",
       "    }\n",
       "\n",
       "    .dataframe tbody tr th {\n",
       "        vertical-align: top;\n",
       "    }\n",
       "\n",
       "    .dataframe thead th {\n",
       "        text-align: right;\n",
       "    }\n",
       "</style>\n",
       "<table border=\"1\" class=\"dataframe\">\n",
       "  <thead>\n",
       "    <tr style=\"text-align: right;\">\n",
       "      <th></th>\n",
       "      <th>item_name</th>\n",
       "      <th>item_id</th>\n",
       "      <th>item_category_id</th>\n",
       "    </tr>\n",
       "  </thead>\n",
       "  <tbody>\n",
       "    <tr>\n",
       "      <th>12</th>\n",
       "      <td>МИХЕЙ И ДЖУМАНДЖИ  Сука любовь</td>\n",
       "      <td>12</td>\n",
       "      <td>55</td>\n",
       "    </tr>\n",
       "    <tr>\n",
       "      <th>14690</th>\n",
       "      <td>МИХЕЙ И ДЖУМАНДЖИ  Сука любовь</td>\n",
       "      <td>14690</td>\n",
       "      <td>55</td>\n",
       "    </tr>\n",
       "  </tbody>\n",
       "</table>\n",
       "</div>"
      ],
      "text/plain": [
       "                            item_name  item_id  item_category_id\n",
       "12     МИХЕЙ И ДЖУМАНДЖИ  Сука любовь       12                55\n",
       "14690  МИХЕЙ И ДЖУМАНДЖИ  Сука любовь    14690                55"
      ]
     },
     "execution_count": 13,
     "metadata": {},
     "output_type": "execute_result"
    }
   ],
   "source": [
    "items[items['item_name'] == 'МИХЕЙ И ДЖУМАНДЖИ  Сука любовь']"
   ]
  },
  {
   "cell_type": "code",
   "execution_count": 14,
   "id": "ae31367e",
   "metadata": {},
   "outputs": [],
   "source": [
    "items_mapping = {12: 14690}\n",
    "sales['item_id'].replace(items_mapping, inplace=True)"
   ]
  },
  {
   "cell_type": "markdown",
   "id": "6e5e1273",
   "metadata": {},
   "source": [
    "`item_categories` is clean."
   ]
  },
  {
   "cell_type": "code",
   "execution_count": 15,
   "id": "391c3e70",
   "metadata": {},
   "outputs": [],
   "source": [
    "test = pd.read_csv('../data/raw/test.csv')\n",
    "test['item_id'].replace(items_mapping, inplace=True)\n",
    "test['shop_id'].replace(shops_mapping, inplace=True)"
   ]
  },
  {
   "cell_type": "markdown",
   "id": "f3443c93",
   "metadata": {},
   "source": [
    "### Saving data after ETL to intermediate storage"
   ]
  },
  {
   "cell_type": "code",
   "execution_count": 16,
   "id": "5006f4d4",
   "metadata": {},
   "outputs": [],
   "source": [
    "sales.to_csv('../data/interim/sales_train_etl.csv', index=False)\n",
    "shops.to_csv('../data/interim/shops_etl.csv', index=False)\n",
    "items.to_csv('../data/interim/items_etl.csv', index=False)\n",
    "item_cat.to_csv('../data/interim/item_categories_etl.csv', index=False)\n",
    "test.to_csv('../data/interim/test_etl.csv', index=False)"
   ]
  }
 ],
 "metadata": {
  "kernelspec": {
   "display_name": "Python 3",
   "language": "python",
   "name": "python3"
  },
  "language_info": {
   "codemirror_mode": {
    "name": "ipython",
    "version": 3
   },
   "file_extension": ".py",
   "mimetype": "text/x-python",
   "name": "python",
   "nbconvert_exporter": "python",
   "pygments_lexer": "ipython3",
   "version": "3.8.8"
  }
 },
 "nbformat": 4,
 "nbformat_minor": 5
}
